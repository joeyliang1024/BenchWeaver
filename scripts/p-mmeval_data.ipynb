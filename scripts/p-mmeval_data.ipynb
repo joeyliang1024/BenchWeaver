{
 "cells": [
  {
   "cell_type": "code",
   "execution_count": 7,
   "id": "b901b069",
   "metadata": {},
   "outputs": [],
   "source": [
    "import os\n",
    "import json\n",
    "\n",
    "object_languages = [\"Chinese\", \"English\", \"Korean\", \"en\", \"zh\", \"ko\"]\n"
   ]
  },
  {
   "cell_type": "code",
   "execution_count": null,
   "id": "684ea6e1",
   "metadata": {},
   "outputs": [],
   "source": [
    "# flores\n",
    "flores_data_dict = {}\n",
    "\n",
    "for name in os.listdir(\"/work/u5110390/BenchWeaver/P-MMEval/flores/test\"):\n",
    "    lang = name.split(\".\")[0]\n",
    "    if lang in object_languages:\n",
    "        with open(f\"/work/u5110390/BenchWeaver/P-MMEval/flores/test/{lang}.jsonl\", \"r\") as f:\n",
    "            data = []\n",
    "            for line in f:\n",
    "                line = json.loads(line)\n",
    "                data.append(line)\n",
    "        flores_data_dict[lang] = data\n",
    "\n"
   ]
  },
  {
   "cell_type": "code",
   "execution_count": null,
   "id": "b15275fc",
   "metadata": {},
   "outputs": [],
   "source": [
    "# humaneval-xl\n",
    "humaneval_xl_data_dict = {}\n",
    "for code_name in os.listdir(\"/work/u5110390/BenchWeaver/P-MMEval/humaneval-xl/test\"):\n",
    "    humaneval_xl_data_dict[code_name] = {}\n",
    "    for name in os.listdir(f\"/work/u5110390/BenchWeaver/P-MMEval/humaneval-xl/test/{code_name}\"):\n",
    "        lang = name.split(\".\")[0]\n",
    "        if lang in object_languages:\n",
    "            with open(f\"/work/u5110390/BenchWeaver/P-MMEval/humaneval-xl/test/{code_name}/{name}\", \"r\") as f:\n",
    "                data = []\n",
    "                for line in f:\n",
    "                    line = json.loads(line)\n",
    "                    data.append(line)\n",
    "            humaneval_xl_data_dict[code_name][lang] = data"
   ]
  },
  {
   "cell_type": "code",
   "execution_count": 8,
   "id": "fa655185",
   "metadata": {},
   "outputs": [],
   "source": [
    "# mgsm\n",
    "mgsm_data_test_dict = {}\n",
    "mgsm_data_val_dict = {}\n",
    "for name in os.listdir(\"/work/u5110390/BenchWeaver/P-MMEval/mgsm/test\"):\n",
    "    lang = name.split(\".\")[0]\n",
    "    if lang in object_languages:\n",
    "        with open(f\"/work/u5110390/BenchWeaver/P-MMEval/mgsm/test/{lang}.jsonl\", \"r\") as f:\n",
    "            data = []\n",
    "            for line in f:\n",
    "                line = json.loads(line)\n",
    "                data.append(line)\n",
    "        mgsm_data_test_dict[lang] = data\n",
    "\n",
    "for name in os.listdir(\"/work/u5110390/BenchWeaver/P-MMEval/mgsm/val\"):\n",
    "    lang = name.split(\".\")[0]\n",
    "    if lang in object_languages:\n",
    "        with open(f\"/work/u5110390/BenchWeaver/P-MMEval/mgsm/val/{lang}.jsonl\", \"r\") as f:\n",
    "            data = []\n",
    "            for line in f:\n",
    "                line = json.loads(line)\n",
    "                data.append(line)\n",
    "        mgsm_data_val_dict[lang] = data"
   ]
  },
  {
   "cell_type": "code",
   "execution_count": null,
   "id": "063211bd",
   "metadata": {},
   "outputs": [],
   "source": [
    "# mhellaswag"
   ]
  }
 ],
 "metadata": {
  "kernelspec": {
   "display_name": "BenchWeaver",
   "language": "python",
   "name": "python3"
  },
  "language_info": {
   "codemirror_mode": {
    "name": "ipython",
    "version": 3
   },
   "file_extension": ".py",
   "mimetype": "text/x-python",
   "name": "python",
   "nbconvert_exporter": "python",
   "pygments_lexer": "ipython3",
   "version": "3.11.11"
  }
 },
 "nbformat": 4,
 "nbformat_minor": 5
}
