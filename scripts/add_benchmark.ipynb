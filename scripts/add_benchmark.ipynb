{
 "cells": [
  {
   "cell_type": "markdown",
   "metadata": {},
   "source": [
    "# CLIcK"
   ]
  },
  {
   "cell_type": "code",
   "execution_count": null,
   "metadata": {},
   "outputs": [],
   "source": [
    "from datasets import load_dataset\n",
    "from typing import Tuple\n",
    "import pandas as pd\n",
    "\n",
    "ds = load_dataset(\"EunsuKim/CLIcK\")\n",
    "df = ds['train'].to_pandas()\n",
    "df.head()"
   ]
  },
  {
   "cell_type": "code",
   "execution_count": null,
   "metadata": {},
   "outputs": [],
   "source": [
    "def extract_category(id_text: str) -> str:\n",
    "    text_split = id_text.split('_')\n",
    "    return text_split[0]\n"
   ]
  },
  {
   "cell_type": "code",
   "execution_count": null,
   "metadata": {},
   "outputs": [],
   "source": [
    "df['categories'] = df['id'].apply(lambda x: extract_category(x))\n",
    "df['choices'] = df['choices'].apply(lambda x: [str(_) for _ in list(x)])\n",
    "print(set(df['categories']))\n",
    "\n",
    "keys = list(set(df['categories']))"
   ]
  },
  {
   "cell_type": "code",
   "execution_count": null,
   "metadata": {},
   "outputs": [],
   "source": [
    "df['choices'].iloc[0]"
   ]
  },
  {
   "cell_type": "code",
   "execution_count": null,
   "metadata": {},
   "outputs": [],
   "source": [
    "df = df[['paragraph', 'question', 'choices', 'answer', 'categories']]\n",
    "dfs = df.groupby('categories')"
   ]
  },
  {
   "cell_type": "code",
   "execution_count": null,
   "metadata": {},
   "outputs": [],
   "source": [
    "dfs.get_group('TK')"
   ]
  },
  {
   "cell_type": "code",
   "execution_count": null,
   "metadata": {},
   "outputs": [],
   "source": [
    "# save each group to folder with name: category_test.csv\n",
    "folder = \"/work/u5110390/BenchWeaver/evaluation_data/click/data/test\"\n",
    "import os\n",
    "for key in keys:\n",
    "    group = dfs.get_group(key)\n",
    "    group.to_csv(os.path.join(folder, f\"{key}_test.csv\"), index=False)"
   ]
  },
  {
   "cell_type": "markdown",
   "metadata": {},
   "source": [
    "# HAE_RAE_BENCH 1.0"
   ]
  },
  {
   "cell_type": "code",
   "execution_count": null,
   "metadata": {},
   "outputs": [],
   "source": [
    "from datasets import load_dataset, get_dataset_config_names\n",
    "from typing import Tuple\n",
    "import pandas as pd\n"
   ]
  },
  {
   "cell_type": "code",
   "execution_count": null,
   "metadata": {},
   "outputs": [],
   "source": [
    "opqa = ['lyrics_denoising', 'proverbs_denoising']\n",
    "mcqa = ['correct_definition_matching', 'csat_geo', 'csat_law', 'csat_socio', 'date_understanding', 'general_knowledge', 'history', 'loan_words', 'rare_words', 'standard_nomenclature', 'reading_comprehension']"
   ]
  },
  {
   "cell_type": "markdown",
   "metadata": {},
   "source": [
    "## MCQA"
   ]
  },
  {
   "cell_type": "code",
   "execution_count": null,
   "metadata": {},
   "outputs": [],
   "source": [
    "# check options for each task\n",
    "import ast\n",
    "from tqdm.auto import  tqdm\n",
    "answers = []\n",
    "with  tqdm(total=len(mcqa)) as pbar:\n",
    "    for task in mcqa:\n",
    "        pbar.set_postfix_str(task)\n",
    "        ds = load_dataset(\"HAERAE-HUB/HAE_RAE_BENCH_1.1\", task)\n",
    "        df = ds['test'].to_pandas()\n",
    "        answers.extend(df['answer'].tolist())\n",
    "        for idx in range(df.shape[0]):\n",
    "            try:\n",
    "                option_list = ast.literal_eval(df['options'].iloc[idx])\n",
    "            except:\n",
    "                option_list = df['options'].iloc[idx].split(\"|\")\n",
    "            if len(option_list) != 5:\n",
    "                print(idx, df['options'].iloc[idx])\n",
    "        pbar.update(1)\n",
    "print(set(answers))\n",
    "print(len(set(answers)))"
   ]
  },
  {
   "cell_type": "code",
   "execution_count": null,
   "metadata": {},
   "outputs": [],
   "source": [
    "# check question format\n",
    "with  tqdm(total=len(mcqa)) as pbar:\n",
    "    for task in mcqa:\n",
    "        pbar.set_postfix_str(task)\n",
    "        ds = load_dataset(\"HAERAE-HUB/HAE_RAE_BENCH_1.1\", task)\n",
    "        df = ds['test'].to_pandas()\n",
    "        print(f\"-------------------{task}-------------------\")\n",
    "        print(df['query'].iloc[0])\n",
    "        print(\"=================================\")\n",
    "        pbar.update(1)"
   ]
  },
  {
   "cell_type": "code",
   "execution_count": null,
   "metadata": {},
   "outputs": [],
   "source": [
    "# redefine the task\n",
    "import re\n",
    "from typing import List\n",
    "\n",
    "def parse_options(options_list_text: str)->List[str]:\n",
    "    try:\n",
    "        option_list = ast.literal_eval(options_list_text)\n",
    "    except:\n",
    "        option_list = options_list_text.split(\"|\")\n",
    "    return option_list\n",
    "\n",
    "def clean_answer(answers: str)->str:\n",
    "    return re.sub(r\"\\(|\\)\", \"\", answers)\n",
    "\n",
    "\n",
    "def process_mcqa_task(task) -> pd.DataFrame:\n",
    "    ds = load_dataset(\"HAERAE-HUB/HAE_RAE_BENCH_1.1\", task)\n",
    "    df = ds['test'].to_pandas()\n",
    "    \n",
    "    # Apply parse_options and expand into separate columns\n",
    "    options_df = df['options'].apply(lambda x: pd.Series(parse_options(x), index=[\"A\", \"B\", \"C\", \"D\", \"E\"]))\n",
    "    df = pd.concat([df, options_df], axis=1)\n",
    "\n",
    "    df['answer'] = df['answer'].apply(clean_answer)\n",
    "    df['question'] = df['query']\n",
    "    df['categories'] = \"mcqa\"\n",
    "    return df[['question', 'A', 'B', 'C', 'D', 'E', 'answer', 'categories']]"
   ]
  },
  {
   "cell_type": "code",
   "execution_count": null,
   "metadata": {},
   "outputs": [],
   "source": [
    "with tqdm(total=len(mcqa)) as pbar:\n",
    "    for task in mcqa:\n",
    "        pbar.set_postfix_str(task)\n",
    "        df = process_mcqa_task(task)\n",
    "        df.to_csv(f\"/work/u5110390/BenchWeaver/evaluation_data/hae-rae-bench/data/test/{task}_test.csv\", index=False)\n",
    "        pbar.update(1)"
   ]
  },
  {
   "cell_type": "markdown",
   "metadata": {},
   "source": [
    "## OPQA"
   ]
  },
  {
   "cell_type": "code",
   "execution_count": null,
   "metadata": {},
   "outputs": [],
   "source": [
    "with tqdm(total=len(opqa)) as pbar:\n",
    "    for task in opqa:\n",
    "        pbar.set_postfix_str(task)\n",
    "        ds = load_dataset(\"HAERAE-HUB/HAE_RAE_BENCH_1.1\", task)\n",
    "        df = ds['test'].to_pandas()\n",
    "        print(f\"-------------------{task}-------------------\")\n",
    "        print(df['query'].iloc[0])\n",
    "        print(\"=================================\")\n",
    "        print(df['options'].iloc[0])\n",
    "        print(\"=================================\")\n",
    "        print(df['answer'].iloc[0])\n",
    "        pbar.update(1)"
   ]
  },
  {
   "cell_type": "code",
   "execution_count": null,
   "metadata": {},
   "outputs": [],
   "source": [
    "\n",
    "def process_opqa_task(task) -> pd.DataFrame:\n",
    "    ds = load_dataset(\"HAERAE-HUB/HAE_RAE_BENCH_1.1\", task)\n",
    "    df = ds['test'].to_pandas()\n",
    "    df['A'] = \"\"\n",
    "    df['B'] = \"\"\n",
    "    df['C'] = \"\"\n",
    "    df['D'] = \"\"\n",
    "    df['E'] = \"\"\n",
    "    df['question'] = df['query']\n",
    "    df['categories'] = \"opqa\"\n",
    "    \n",
    "    return df[['question', 'A', 'B', 'C', 'D', 'E', 'answer', 'categories']]"
   ]
  },
  {
   "cell_type": "code",
   "execution_count": null,
   "metadata": {},
   "outputs": [],
   "source": [
    "with tqdm(total=len(opqa)) as pbar:\n",
    "    for task in opqa:\n",
    "        pbar.set_postfix_str(task)\n",
    "        df = process_opqa_task(task)\n",
    "        df.to_csv(f\"/work/u5110390/BenchWeaver/evaluation_data/hae-rae-bench/data/test/{task}_test.csv\", index=False)\n",
    "        pbar.update(1)"
   ]
  },
  {
   "cell_type": "markdown",
   "metadata": {},
   "source": [
    "# KMMLU (Hard)"
   ]
  },
  {
   "cell_type": "code",
   "execution_count": null,
   "metadata": {},
   "outputs": [],
   "source": [
    "supercategories = {\n",
    "        \"accounting\": \"HUMSS\",\n",
    "        \"agricultural_sciences\": \"Other\",\n",
    "        \"aviation_engineering_and_maintenance\": \"Applied Science\",\n",
    "        \"biology\": \"STEM\",\n",
    "        \"chemical_engineering\": \"STEM\",\n",
    "        \"chemistry\": \"STEM\",\n",
    "        \"civil_engineering\": \"STEM\",\n",
    "        \"computer_science\": \"STEM\",\n",
    "        \"construction\": \"Other\",\n",
    "        \"criminal_law\": \"HUMSS\",\n",
    "        \"ecology\": \"STEM\",\n",
    "        \"economics\": \"HUMSS\",\n",
    "        \"education\": \"HUMSS\",\n",
    "        \"electrical_engineering\": \"STEM\",\n",
    "        \"electronics_engineering\": \"Applied Science\",\n",
    "        \"energy_management\": \"Applied Science\",\n",
    "        \"environmental_science\": \"Applied Science\",\n",
    "        \"fashion\": \"Other\",\n",
    "        \"food_processing\": \"Other\",\n",
    "        \"gas_technology_and_engineering\": \"Applied Science\",\n",
    "        \"geomatics\": \"Applied Science\",\n",
    "        \"health\": \"Other\",\n",
    "        \"industrial_engineer\": \"Applied Science\",\n",
    "        \"information_technology\": \"STEM\",\n",
    "        \"interior_architecture_and_design\": \"Other\",\n",
    "        \"law\": \"HUMSS\",\n",
    "        \"machine_design_and_manufacturing\": \"Applied Science\",\n",
    "        \"management\": \"HUMSS\",\n",
    "        \"maritime_engineering\": \"Applied Science\",\n",
    "        \"marketing\": \"Other\",\n",
    "        \"materials_engineering\": \"STEM\",\n",
    "        \"mechanical_engineering\": \"STEM\",\n",
    "        \"nondestructive_testing\": \"Applied Science\",\n",
    "        \"patent\": \"Other\",\n",
    "        \"political_science_and_sociology\": \"HUMSS\",\n",
    "        \"psychology\": \"HUMSS\",\n",
    "        \"public_safety\": \"Other\",\n",
    "        \"railway_and_automotive_engineering\": \"Applied Science\",\n",
    "        \"real_estate\": \"Other\",\n",
    "        \"refrigerating_machinery\": \"Other\",\n",
    "        \"social_welfare\": \"HUMSS\",\n",
    "        \"taxation\": \"HUMSS\",\n",
    "        \"telecommunications_and_wireless_technology\": \"Applied Science\",\n",
    "        \"korean_history\": \"HUMSS\",\n",
    "        \"math\": \"STEM\"\n",
    "    }"
   ]
  },
  {
   "cell_type": "code",
   "execution_count": null,
   "metadata": {},
   "outputs": [],
   "source": [
    "set(supercategories.values())"
   ]
  },
  {
   "cell_type": "code",
   "execution_count": null,
   "metadata": {},
   "outputs": [],
   "source": [
    "import json\n",
    "\n",
    "mapping = {}\n",
    "for k, v in supercategories.items():\n",
    "    mapping[k] = {\n",
    "        \"name\": k.replace(\"_\", \" \"),\n",
    "        \"category\": v\n",
    "    }\n",
    "    \n",
    "with open(\"/work/u5110390/BenchWeaver/evaluation_data/kmmlu/mapping.json\", \"w\") as f:\n",
    "    json.dump(mapping, f, indent=2)\n",
    "    \n",
    "with open(\"/work/u5110390/BenchWeaver/evaluation_data/kmmlu-hard/mapping.json\", \"w\") as f:\n",
    "    json.dump(mapping, f, indent=2)"
   ]
  },
  {
   "cell_type": "code",
   "execution_count": null,
   "metadata": {},
   "outputs": [],
   "source": [
    "task = ['Accounting', 'Agricultural-Sciences', 'Aviation-Engineering-and-Maintenance', 'Biology', 'Chemical-Engineering', 'Chemistry', 'Civil-Engineering', 'Computer-Science', 'Construction', 'Criminal-Law', 'Ecology', 'Economics', 'Education', 'Electrical-Engineering', 'Electronics-Engineering', 'Energy-Management', 'Environmental-Science', 'Fashion', 'Food-Processing', 'Gas-Technology-and-Engineering', 'Geomatics', 'Health', 'Industrial-Engineer', 'Information-Technology', 'Interior-Architecture-and-Design', 'Law', 'Machine-Design-and-Manufacturing', 'Management', 'Maritime-Engineering', 'Marketing', 'Materials-Engineering', 'Mechanical-Engineering', 'Nondestructive-Testing', 'Patent', 'Political-Science-and-Sociology', 'Psychology', 'Public-Safety', 'Railway-and-Automotive-Engineering', 'Real-Estate', 'Refrigerating-Machinery', 'Social-Welfare', 'Taxation', 'Telecommunications-and-Wireless-Technology', 'Korean-History', 'Math']\n",
    "\n",
    "task_list = [t.lower().replace(\"-\", \"_\") for t in task]\n",
    "task_list"
   ]
  },
  {
   "cell_type": "code",
   "execution_count": null,
   "metadata": {},
   "outputs": [],
   "source": [
    "from datasets import load_dataset\n",
    "from tqdm.auto import tqdm\n",
    "import pandas as pd"
   ]
  },
  {
   "cell_type": "code",
   "execution_count": null,
   "metadata": {},
   "outputs": [],
   "source": [
    "import os\n",
    "def casting_idx2option(idx) -> str:\n",
    "    idx2option = { \"1\": \"A\", \"2\": \"B\", \"3\": \"C\", \"4\": \"D\", \"5\": \"E\", \"6\": \"F\"}\n",
    "    return idx2option[str(idx)]\n",
    "\n",
    "with tqdm(total=len(task)) as pbar:\n",
    "    for t in task:\n",
    "        pbar.set_postfix_str(t)\n",
    "        ds = load_dataset(\"HAERAE-HUB/KMMLU\", t)\n",
    "        train_df = ds['train'].to_pandas()\n",
    "        test_df = ds['test'].to_pandas()\n",
    "        dev_df = ds['dev'].to_pandas()\n",
    "        train_df['answer'] = train_df['answer'].apply(casting_idx2option)\n",
    "        test_df['answer'] = test_df['answer'].apply(casting_idx2option)\n",
    "        dev_df['answer'] = dev_df['answer'].apply(casting_idx2option)\n",
    "        task_name = t.lower().replace(\"-\", \"_\")\n",
    "        os.makedirs(\"/work/u5110390/BenchWeaver/evaluation_data/kmmlu/data/dev\", exist_ok=True)\n",
    "        os.makedirs(\"/work/u5110390/BenchWeaver/evaluation_data/kmmlu/data/test\", exist_ok=True)\n",
    "        os.makedirs(\"/work/u5110390/BenchWeaver/evaluation_data/kmmlu/data/val\", exist_ok=True)\n",
    "        train_df.to_csv(f\"/work/u5110390/BenchWeaver/evaluation_data/kmmlu/data/dev/{task_name}_dev.csv\", encoding=\"utf-8\", index=False)\n",
    "        dev_df.to_csv(f\"/work/u5110390/BenchWeaver/evaluation_data/kmmlu/data/val/{task_name}_val.csv\", encoding=\"utf-8\", index=False)\n",
    "        test_df.to_csv(f\"/work/u5110390/BenchWeaver/evaluation_data/kmmlu/data/test/{task_name}_test.csv\", encoding=\"utf-8\", index=False)\n",
    "        pbar.update(1)"
   ]
  },
  {
   "cell_type": "code",
   "execution_count": null,
   "metadata": {},
   "outputs": [],
   "source": [
    "\n",
    "        \n",
    "with tqdm(total=len(task)) as pbar:\n",
    "    for t in task:\n",
    "        pbar.set_postfix_str(t)\n",
    "        task_name = t.lower().replace(\"-\", \"_\")\n",
    "        ds = load_dataset(\"HAERAE-HUB/KMMLU-HARD\", task_name)\n",
    "        test_df = ds['test'].to_pandas()\n",
    "        dev_df = ds['dev'].to_pandas()\n",
    "        test_df['answer'] = test_df['answer'].apply(casting_idx2option)\n",
    "        dev_df['answer'] = dev_df['answer'].apply(casting_idx2option)\n",
    "        test_df.rename(columns={\"cot\": \"explanation\"}, inplace=True)\n",
    "        dev_df.rename(columns={\"cot\": \"explanation\"}, inplace=True)\n",
    "        os.makedirs(\"/work/u5110390/BenchWeaver/evaluation_data/kmmlu-hard/data/dev\", exist_ok=True)\n",
    "        os.makedirs(\"/work/u5110390/BenchWeaver/evaluation_data/kmmlu-hard/data/test\", exist_ok=True)\n",
    "        dev_df.to_csv(f\"/work/u5110390/BenchWeaver/evaluation_data/kmmlu-hard/data/dev/{task_name}_dev.csv\", index=False)\n",
    "        test_df.to_csv(f\"/work/u5110390/BenchWeaver/evaluation_data/kmmlu-hard/data/test/{task_name}_test.csv\", index=False)\n",
    "        pbar.update(1)"
   ]
  },
  {
   "cell_type": "code",
   "execution_count": null,
   "metadata": {},
   "outputs": [],
   "source": [
    "import pandas as pd\n",
    "df = pd.read_csv(\"/work/u5110390/BenchWeaver/evaluation_data/kmmlu/data/test/agricultural_sciences_test.csv\")"
   ]
  },
  {
   "cell_type": "markdown",
   "metadata": {},
   "source": [
    "# TMMLU+"
   ]
  },
  {
   "cell_type": "code",
   "execution_count": null,
   "metadata": {},
   "outputs": [],
   "source": [
    "from datasets import load_dataset\n",
    "import os\n",
    "import pandas as pd\n",
    "import zipfile\n",
    "import shutil\n",
    "\n",
    "task_list = [\n",
    "             'engineering_math', 'dentistry', 'traditional_chinese_medicine_clinical_medicine', 'clinical_psychology', 'technical', 'culinary_skills', 'mechanical', 'logic_reasoning', 'real_estate',\n",
    "             'general_principles_of_law', 'finance_banking', 'anti_money_laundering', 'ttqav2', 'marketing_management', 'business_management', 'organic_chemistry', 'advance_chemistry',\n",
    "             'physics', 'secondary_physics', 'human_behavior', 'national_protection', 'jce_humanities', 'politic_science', 'agriculture', 'official_document_management',\n",
    "             'financial_analysis', 'pharmacy', 'educational_psychology', 'statistics_and_machine_learning', 'management_accounting', 'introduction_to_law', 'computer_science', 'veterinary_pathology',\n",
    "             'accounting', 'fire_science', 'optometry', 'insurance_studies', 'pharmacology', 'taxation', 'trust_practice', 'geography_of_taiwan', 'physical_education', 'auditing', 'administrative_law',\n",
    "             'education_(profession_level)', 'economics', 'veterinary_pharmacology', 'nautical_science', 'occupational_therapy_for_psychological_disorders',\n",
    "             'basic_medical_science', 'macroeconomics', 'trade', 'chinese_language_and_literature', 'tve_design', 'junior_science_exam', 'junior_math_exam', 'junior_chinese_exam',\n",
    "             'junior_social_studies', 'tve_mathematics', 'tve_chinese_language', 'tve_natural_sciences', 'junior_chemistry', 'music', 'education', 'three_principles_of_people',\n",
    "             'taiwanese_hokkien'\n",
    "            ]\n",
    "\n",
    "base_dir = \"/work/u5110390/BenchWeaver/evaluation_data/tmmluplus/data\"\n",
    "for task in task_list:\n",
    "    val = load_dataset('ikala/tmmluplus', task)['validation']\n",
    "    dev = load_dataset('ikala/tmmluplus', task)['train']\n",
    "    test = load_dataset('ikala/tmmluplus', task)['test']\n",
    "    # Convert datasets to DataFrames\n",
    "    val_df = val.to_pandas()\n",
    "    dev_df = dev.to_pandas()\n",
    "    test_df = test.to_pandas()\n",
    "    # Define file paths\n",
    "    val_file = os.path.join(base_dir, 'val', f\"{task}_val.csv\")\n",
    "    dev_file = os.path.join(base_dir, 'dev', f\"{task}_dev.csv\")\n",
    "    test_file = os.path.join(base_dir, 'test', f\"{task}_test.csv\")\n",
    "    # Create directories if they don't exist\n",
    "    os.makedirs(os.path.dirname(val_file), exist_ok=True)\n",
    "    os.makedirs(os.path.dirname(dev_file), exist_ok=True)\n",
    "    os.makedirs(os.path.dirname(test_file), exist_ok=True)\n",
    "    # Save DataFrames to CSV files\n",
    "    val_df.to_csv(val_file, index=False)\n",
    "    dev_df.to_csv(dev_file, index=False)\n",
    "    test_df.to_csv(test_file, index=False)\n",
    "\n",
    "# Define the zip file name\n",
    "zip_file = \"tmmluplus.zip\"\n",
    "\n",
    "# Function to zip a directory and its contents\n",
    "def zip_dir(directory, zip_file):\n",
    "    with zipfile.ZipFile(zip_file, 'w', zipfile.ZIP_DEFLATED) as zipf:\n",
    "        for root, _, files in os.walk(directory):\n",
    "            for file in files:\n",
    "                zipf.write(os.path.join(root, file), os.path.relpath(os.path.join(root, file), directory))\n",
    "\n",
    "# Zip the directory\n",
    "zip_dir(base_dir, zip_file)\n",
    "# Remove the base directory after zipping\n",
    "shutil.rmtree(base_dir)"
   ]
  },
  {
   "cell_type": "code",
   "execution_count": null,
   "metadata": {},
   "outputs": [],
   "source": [
    "import pandas as pd\n",
    "df = pd.read_csv(\"/work/u5110390/BenchWeaver/evaluation_data/tmmluplus/subject.tsv\", delimiter=\"\\t\")\n",
    "df"
   ]
  },
  {
   "cell_type": "code",
   "execution_count": null,
   "metadata": {},
   "outputs": [],
   "source": [
    "mmlu_mapping = {\n",
    "    \"health\": \"Other\",\n",
    "    \"psychology\": \"Social Sciences\",\n",
    "    \"other\": \"Other\",\n",
    "    \"law\": \"Social Sciences\",\n",
    "    \"business\": \"Other\",\n",
    "    \"culture\": \"Humanities\",\n",
    "    \"chemistry\": \"STEM\",\n",
    "    \"physics\": \"STEM\",\n",
    "    \"politics\": \"Social Sciences\",\n",
    "    \"philosophy\": \"Humanities\",\n",
    "    \"math\": \"STEM\",\n",
    "    \"biology\": \"STEM\",\n",
    "    \"engineering\": \"STEM\",\n",
    "    \"computer science\": \"STEM\",\n",
    "    \"education\": \"Social Sciences\",\n",
    "    \"economics\": \"Social Sciences\",\n",
    "    \"geography\": \"Social Sciences\"\n",
    "}\n"
   ]
  },
  {
   "cell_type": "code",
   "execution_count": null,
   "metadata": {},
   "outputs": [],
   "source": [
    "catogories = {}\n",
    "for idx in range(df.shape[0]):\n",
    "    catogories[df['subject'][idx]] = {\n",
    "        \"name\": df['name'][idx],\n",
    "        \"category\": mmlu_mapping[df['category'][idx]]\n",
    "    }"
   ]
  },
  {
   "cell_type": "code",
   "execution_count": null,
   "metadata": {},
   "outputs": [],
   "source": [
    "import json\n",
    "with open(\"/work/u5110390/BenchWeaver/evaluation_data/tmmluplus/mapping.json\", \"w\") as f:\n",
    "    json.dump(catogories, f, ensure_ascii=False, indent=2)"
   ]
  },
  {
   "cell_type": "markdown",
   "metadata": {},
   "source": [
    "# TMLU"
   ]
  },
  {
   "cell_type": "code",
   "execution_count": 1,
   "metadata": {},
   "outputs": [],
   "source": [
    "mapping ={\n",
    "    \"AST_civics\": {\"name\": \"分科測驗公民\", \"category\": \"Social Science\"},\n",
    "    \"AST_geography\": {\"name\": \"分科測驗地理\", \"category\": \"Social Science\"},\n",
    "    \"CAP_civics\": {\"name\": \"會考公民\", \"category\": \"Social Science\"},\n",
    "    \"CAP_geography\": {\"name\": \"會考地理\", \"category\": \"Social Science\"},\n",
    "    \"GSAT_civics\": {\"name\": \"學測公民\", \"category\": \"Social Science\"},\n",
    "    \"GSAT_geography\": {\"name\": \"學測地理\", \"category\": \"Social Science\"},\n",
    "    \"accountant\": {\"name\": \"會計師\", \"category\": \"Social Science\"},\n",
    "    \"clinical_psychologist\": {\"name\": \"臨床心理師\", \"category\": \"Social Science\"},\n",
    "    \"AST_biology\": {\"name\": \"分科測驗生物\", \"category\": \"STEM\"},\n",
    "    \"AST_chemistry\": {\"name\": \"分科測驗化學\", \"category\": \"STEM\"},\n",
    "    \"AST_mathematics\": {\"name\": \"分科測驗數學\", \"category\": \"STEM\"},\n",
    "    \"AST_physics\": {\"name\": \"分科測驗物理\", \"category\": \"STEM\"},\n",
    "    \"CAP_biology\": {\"name\": \"會考生物\", \"category\": \"STEM\"},\n",
    "    \"CAP_chemistry\": {\"name\": \"會考化學\", \"category\": \"STEM\"},\n",
    "    \"CAP_earth_science\": {\"name\": \"會考地球科學\", \"category\": \"STEM\"},\n",
    "    \"CAP_mathematics\": {\"name\": \"會考數學\", \"category\": \"STEM\"},\n",
    "    \"CAP_physics\": {\"name\": \"會考物理\", \"category\": \"STEM\"},\n",
    "    \"GSAT_biology\": {\"name\": \"學測生物\", \"category\": \"STEM\"},\n",
    "    \"GSAT_chemistry\": {\"name\": \"學測化學\", \"category\": \"STEM\"},\n",
    "    \"GSAT_earth_science\": {\"name\": \"學測地球科學\", \"category\": \"STEM\"},\n",
    "    \"GSAT_mathematics\": {\"name\": \"學測數學\", \"category\": \"STEM\"},\n",
    "    \"GSAT_physics\": {\"name\": \"學測物理\", \"category\": \"STEM\"},\n",
    "    \"AST_chinese\": {\"name\": \"分科測驗國文\", \"category\": \"Humanities\"},\n",
    "    \"AST_history\": {\"name\": \"分科測驗歷史\", \"category\": \"Humanities\"},\n",
    "    \"CAP_chinese\": {\"name\": \"會考國文\", \"category\": \"Humanities\"},\n",
    "    \"CAP_history\": {\"name\": \"會考歷史\", \"category\": \"Humanities\"},\n",
    "    \"GSAT_chinese\": {\"name\": \"學測國文\", \"category\": \"Humanities\"},\n",
    "    \"GSAT_history\": {\"name\": \"學測歷史\", \"category\": \"Humanities\"},\n",
    "    \"tour_guide\": {\"name\": \"導遊\", \"category\": \"Humanities\"},\n",
    "    \"tour_leader\": {\"name\": \"領隊\", \"category\": \"Humanities\"},\n",
    "    \"lawyer_qualification\": {\"name\": \"律師資格\", \"category\": \"Humanities\"},\n",
    "    \"driving_rule\": {\"name\": \"台灣駕駛規則\", \"category\": \"Taiwan Specific\"},\n",
    "    \"teacher_qualification\": {\"name\": \"教師資格\", \"category\": \"Taiwan Specific\"},\n",
    "    \"taiwan_tourist_resources\": {\"name\": \"台灣觀光資源\", \"category\": \"Taiwan Specific\"},\n",
    "    \"basic_traditional_chinese_medicine\": {\"name\": \"中醫基礎醫學\", \"category\": \"Others\"},\n",
    "    \"clinical_traditional_chinese_medicine\": {\"name\": \"中醫針灸\", \"category\": \"Others\"},\n",
    "    \"nutritionist\": {\"name\": \"營養師\", \"category\": \"Others\"}\n",
    "}\n"
   ]
  },
  {
   "cell_type": "code",
   "execution_count": 2,
   "metadata": {},
   "outputs": [
    {
     "data": {
      "text/plain": [
       "['AST_civics',\n",
       " 'AST_geography',\n",
       " 'CAP_civics',\n",
       " 'CAP_geography',\n",
       " 'GSAT_civics',\n",
       " 'GSAT_geography',\n",
       " 'accountant',\n",
       " 'clinical_psychologist',\n",
       " 'AST_biology',\n",
       " 'AST_chemistry',\n",
       " 'AST_mathematics',\n",
       " 'AST_physics',\n",
       " 'CAP_biology',\n",
       " 'CAP_chemistry',\n",
       " 'CAP_earth_science',\n",
       " 'CAP_mathematics',\n",
       " 'CAP_physics',\n",
       " 'GSAT_biology',\n",
       " 'GSAT_chemistry',\n",
       " 'GSAT_earth_science',\n",
       " 'GSAT_mathematics',\n",
       " 'GSAT_physics',\n",
       " 'AST_chinese',\n",
       " 'AST_history',\n",
       " 'CAP_chinese',\n",
       " 'CAP_history',\n",
       " 'GSAT_chinese',\n",
       " 'GSAT_history',\n",
       " 'tour_guide',\n",
       " 'tour_leader',\n",
       " 'lawyer_qualification',\n",
       " 'driving_rule',\n",
       " 'teacher_qualification',\n",
       " 'taiwan_tourist_resources',\n",
       " 'basic_traditional_chinese_medicine',\n",
       " 'clinical_traditional_chinese_medicine',\n",
       " 'nutritionist']"
      ]
     },
     "execution_count": 2,
     "metadata": {},
     "output_type": "execute_result"
    }
   ],
   "source": [
    "task_list = list(mapping.keys())\n",
    "task_list"
   ]
  },
  {
   "cell_type": "code",
   "execution_count": 3,
   "metadata": {},
   "outputs": [],
   "source": [
    "import json\n",
    "with open(\"/work/u5110390/BenchWeaver/evaluation_data/tmlu/mapping.json\", \"w\") as f:\n",
    "    json.dump(mapping, f, ensure_ascii=False, indent=2)"
   ]
  },
  {
   "cell_type": "code",
   "execution_count": 7,
   "metadata": {},
   "outputs": [
    {
     "data": {
      "application/vnd.jupyter.widget-view+json": {
       "model_id": "40c5929898684c28801cdb00650c007f",
       "version_major": 2,
       "version_minor": 0
      },
      "text/plain": [
       "  0%|          | 0/37 [00:00<?, ?it/s]"
      ]
     },
     "metadata": {},
     "output_type": "display_data"
    },
    {
     "data": {
      "application/vnd.jupyter.widget-view+json": {
       "model_id": "671f1b79756b4d02a1fd54adf254e46b",
       "version_major": 2,
       "version_minor": 0
      },
      "text/plain": [
       "Downloading data:   0%|          | 0.00/39.2k [00:00<?, ?B/s]"
      ]
     },
     "metadata": {},
     "output_type": "display_data"
    },
    {
     "data": {
      "application/vnd.jupyter.widget-view+json": {
       "model_id": "b7ea55b2dff748329cec24e27b81cf6c",
       "version_major": 2,
       "version_minor": 0
      },
      "text/plain": [
       "Downloading data:   0%|          | 0.00/5.24k [00:00<?, ?B/s]"
      ]
     },
     "metadata": {},
     "output_type": "display_data"
    },
    {
     "data": {
      "application/vnd.jupyter.widget-view+json": {
       "model_id": "894c3dc0e70a449b8bb5d38e9f230f48",
       "version_major": 2,
       "version_minor": 0
      },
      "text/plain": [
       "Generating test split: 0 examples [00:00, ? examples/s]"
      ]
     },
     "metadata": {},
     "output_type": "display_data"
    },
    {
     "data": {
      "application/vnd.jupyter.widget-view+json": {
       "model_id": "9d4a6685e735429a934fb9216e80a28c",
       "version_major": 2,
       "version_minor": 0
      },
      "text/plain": [
       "Generating dev split: 0 examples [00:00, ? examples/s]"
      ]
     },
     "metadata": {},
     "output_type": "display_data"
    },
    {
     "data": {
      "application/vnd.jupyter.widget-view+json": {
       "model_id": "142ff60ff1fe4cf79cf076158afff1a7",
       "version_major": 2,
       "version_minor": 0
      },
      "text/plain": [
       "Downloading data:   0%|          | 0.00/127k [00:00<?, ?B/s]"
      ]
     },
     "metadata": {},
     "output_type": "display_data"
    },
    {
     "data": {
      "application/vnd.jupyter.widget-view+json": {
       "model_id": "f078c62ca05e4bb387e28da618c64c6b",
       "version_major": 2,
       "version_minor": 0
      },
      "text/plain": [
       "Downloading data:   0%|          | 0.00/10.0k [00:00<?, ?B/s]"
      ]
     },
     "metadata": {},
     "output_type": "display_data"
    },
    {
     "data": {
      "application/vnd.jupyter.widget-view+json": {
       "model_id": "fa8ce23ededa43d4bc025737d9f551b2",
       "version_major": 2,
       "version_minor": 0
      },
      "text/plain": [
       "Generating test split: 0 examples [00:00, ? examples/s]"
      ]
     },
     "metadata": {},
     "output_type": "display_data"
    },
    {
     "data": {
      "application/vnd.jupyter.widget-view+json": {
       "model_id": "012fcb40bc2940569aaa14495782b3f6",
       "version_major": 2,
       "version_minor": 0
      },
      "text/plain": [
       "Generating dev split: 0 examples [00:00, ? examples/s]"
      ]
     },
     "metadata": {},
     "output_type": "display_data"
    },
    {
     "data": {
      "application/vnd.jupyter.widget-view+json": {
       "model_id": "15dfbee2d4ee41c1ade25ef18329c99c",
       "version_major": 2,
       "version_minor": 0
      },
      "text/plain": [
       "Downloading data:   0%|          | 0.00/71.3k [00:00<?, ?B/s]"
      ]
     },
     "metadata": {},
     "output_type": "display_data"
    },
    {
     "data": {
      "application/vnd.jupyter.widget-view+json": {
       "model_id": "953c4c8888de41b1b776abdaad992ff8",
       "version_major": 2,
       "version_minor": 0
      },
      "text/plain": [
       "Downloading data:   0%|          | 0.00/7.27k [00:00<?, ?B/s]"
      ]
     },
     "metadata": {},
     "output_type": "display_data"
    },
    {
     "data": {
      "application/vnd.jupyter.widget-view+json": {
       "model_id": "ab43ad06873241e096f67e53612c0562",
       "version_major": 2,
       "version_minor": 0
      },
      "text/plain": [
       "Generating test split: 0 examples [00:00, ? examples/s]"
      ]
     },
     "metadata": {},
     "output_type": "display_data"
    },
    {
     "data": {
      "application/vnd.jupyter.widget-view+json": {
       "model_id": "c519c68ceba54c4aaed378b601c8225d",
       "version_major": 2,
       "version_minor": 0
      },
      "text/plain": [
       "Generating dev split: 0 examples [00:00, ? examples/s]"
      ]
     },
     "metadata": {},
     "output_type": "display_data"
    },
    {
     "data": {
      "application/vnd.jupyter.widget-view+json": {
       "model_id": "9ff52c31622f4ce99a313bd2bf6b9313",
       "version_major": 2,
       "version_minor": 0
      },
      "text/plain": [
       "Downloading data:   0%|          | 0.00/52.7k [00:00<?, ?B/s]"
      ]
     },
     "metadata": {},
     "output_type": "display_data"
    },
    {
     "data": {
      "application/vnd.jupyter.widget-view+json": {
       "model_id": "54c01e785ed642c6b7c35abc6fee235d",
       "version_major": 2,
       "version_minor": 0
      },
      "text/plain": [
       "Downloading data:   0%|          | 0.00/4.13k [00:00<?, ?B/s]"
      ]
     },
     "metadata": {},
     "output_type": "display_data"
    },
    {
     "data": {
      "application/vnd.jupyter.widget-view+json": {
       "model_id": "c20bc22581984e5a87be6a5356024c68",
       "version_major": 2,
       "version_minor": 0
      },
      "text/plain": [
       "Generating test split: 0 examples [00:00, ? examples/s]"
      ]
     },
     "metadata": {},
     "output_type": "display_data"
    },
    {
     "data": {
      "application/vnd.jupyter.widget-view+json": {
       "model_id": "bdf04c3e2fd5470cabbe1696300c1d03",
       "version_major": 2,
       "version_minor": 0
      },
      "text/plain": [
       "Generating dev split: 0 examples [00:00, ? examples/s]"
      ]
     },
     "metadata": {},
     "output_type": "display_data"
    },
    {
     "data": {
      "application/vnd.jupyter.widget-view+json": {
       "model_id": "ee7841d3eec3436a8d08428e98e14b69",
       "version_major": 2,
       "version_minor": 0
      },
      "text/plain": [
       "Downloading data:   0%|          | 0.00/81.4k [00:00<?, ?B/s]"
      ]
     },
     "metadata": {},
     "output_type": "display_data"
    },
    {
     "data": {
      "application/vnd.jupyter.widget-view+json": {
       "model_id": "51e2d243ed7545dfa5468039e3c30ffc",
       "version_major": 2,
       "version_minor": 0
      },
      "text/plain": [
       "Downloading data:   0%|          | 0.00/4.33k [00:00<?, ?B/s]"
      ]
     },
     "metadata": {},
     "output_type": "display_data"
    },
    {
     "data": {
      "application/vnd.jupyter.widget-view+json": {
       "model_id": "1e4565ce796d4fcfbd21cf2362b23e0d",
       "version_major": 2,
       "version_minor": 0
      },
      "text/plain": [
       "Generating test split: 0 examples [00:00, ? examples/s]"
      ]
     },
     "metadata": {},
     "output_type": "display_data"
    },
    {
     "data": {
      "application/vnd.jupyter.widget-view+json": {
       "model_id": "7b9dd58e04a1468ea7fffd5dda4298af",
       "version_major": 2,
       "version_minor": 0
      },
      "text/plain": [
       "Generating dev split: 0 examples [00:00, ? examples/s]"
      ]
     },
     "metadata": {},
     "output_type": "display_data"
    },
    {
     "data": {
      "application/vnd.jupyter.widget-view+json": {
       "model_id": "b18688d23a984cecb0a2c1dbf9ff79a1",
       "version_major": 2,
       "version_minor": 0
      },
      "text/plain": [
       "Downloading data:   0%|          | 0.00/246k [00:00<?, ?B/s]"
      ]
     },
     "metadata": {},
     "output_type": "display_data"
    },
    {
     "data": {
      "application/vnd.jupyter.widget-view+json": {
       "model_id": "3c904fb1346547f4b07ef94f09b2a76b",
       "version_major": 2,
       "version_minor": 0
      },
      "text/plain": [
       "Downloading data:   0%|          | 0.00/9.19k [00:00<?, ?B/s]"
      ]
     },
     "metadata": {},
     "output_type": "display_data"
    },
    {
     "data": {
      "application/vnd.jupyter.widget-view+json": {
       "model_id": "c94acace48b44cd0951a381526922e9c",
       "version_major": 2,
       "version_minor": 0
      },
      "text/plain": [
       "Generating test split: 0 examples [00:00, ? examples/s]"
      ]
     },
     "metadata": {},
     "output_type": "display_data"
    },
    {
     "data": {
      "application/vnd.jupyter.widget-view+json": {
       "model_id": "76b2ace478c04d77b16d991b72952bcb",
       "version_major": 2,
       "version_minor": 0
      },
      "text/plain": [
       "Generating dev split: 0 examples [00:00, ? examples/s]"
      ]
     },
     "metadata": {},
     "output_type": "display_data"
    },
    {
     "data": {
      "application/vnd.jupyter.widget-view+json": {
       "model_id": "c61ce56f432d462b9d2d64e921fddbbb",
       "version_major": 2,
       "version_minor": 0
      },
      "text/plain": [
       "Downloading data:   0%|          | 0.00/198k [00:00<?, ?B/s]"
      ]
     },
     "metadata": {},
     "output_type": "display_data"
    },
    {
     "data": {
      "application/vnd.jupyter.widget-view+json": {
       "model_id": "ec0899866ef3476494cd09f10c7e2a0b",
       "version_major": 2,
       "version_minor": 0
      },
      "text/plain": [
       "Downloading data:   0%|          | 0.00/3.06k [00:00<?, ?B/s]"
      ]
     },
     "metadata": {},
     "output_type": "display_data"
    },
    {
     "data": {
      "application/vnd.jupyter.widget-view+json": {
       "model_id": "b270324892ce486ea6cf66b4d295d004",
       "version_major": 2,
       "version_minor": 0
      },
      "text/plain": [
       "Generating test split: 0 examples [00:00, ? examples/s]"
      ]
     },
     "metadata": {},
     "output_type": "display_data"
    },
    {
     "data": {
      "application/vnd.jupyter.widget-view+json": {
       "model_id": "5c6e97675bf546d8add594d7a1b4e987",
       "version_major": 2,
       "version_minor": 0
      },
      "text/plain": [
       "Generating dev split: 0 examples [00:00, ? examples/s]"
      ]
     },
     "metadata": {},
     "output_type": "display_data"
    },
    {
     "data": {
      "application/vnd.jupyter.widget-view+json": {
       "model_id": "4ccef46f22254e438c1680a04c50c694",
       "version_major": 2,
       "version_minor": 0
      },
      "text/plain": [
       "Downloading data:   0%|          | 0.00/46.9k [00:00<?, ?B/s]"
      ]
     },
     "metadata": {},
     "output_type": "display_data"
    },
    {
     "data": {
      "application/vnd.jupyter.widget-view+json": {
       "model_id": "731b42e727834b1cae8b38a553dc8447",
       "version_major": 2,
       "version_minor": 0
      },
      "text/plain": [
       "Downloading data:   0%|          | 0.00/5.06k [00:00<?, ?B/s]"
      ]
     },
     "metadata": {},
     "output_type": "display_data"
    },
    {
     "data": {
      "application/vnd.jupyter.widget-view+json": {
       "model_id": "297b3b1513724248bbabe5100b23762f",
       "version_major": 2,
       "version_minor": 0
      },
      "text/plain": [
       "Generating test split: 0 examples [00:00, ? examples/s]"
      ]
     },
     "metadata": {},
     "output_type": "display_data"
    },
    {
     "data": {
      "application/vnd.jupyter.widget-view+json": {
       "model_id": "6c8fcffc0b504662a45b820818959724",
       "version_major": 2,
       "version_minor": 0
      },
      "text/plain": [
       "Generating dev split: 0 examples [00:00, ? examples/s]"
      ]
     },
     "metadata": {},
     "output_type": "display_data"
    },
    {
     "data": {
      "application/vnd.jupyter.widget-view+json": {
       "model_id": "2d9276738eae4fca98ac863b80fbdea2",
       "version_major": 2,
       "version_minor": 0
      },
      "text/plain": [
       "Downloading data:   0%|          | 0.00/24.2k [00:00<?, ?B/s]"
      ]
     },
     "metadata": {},
     "output_type": "display_data"
    },
    {
     "data": {
      "application/vnd.jupyter.widget-view+json": {
       "model_id": "d82c9087ebd54509a650f3202d94bc4e",
       "version_major": 2,
       "version_minor": 0
      },
      "text/plain": [
       "Downloading data:   0%|          | 0.00/4.54k [00:00<?, ?B/s]"
      ]
     },
     "metadata": {},
     "output_type": "display_data"
    },
    {
     "data": {
      "application/vnd.jupyter.widget-view+json": {
       "model_id": "225ea0a8d26e4b36a5ea7e2805711647",
       "version_major": 2,
       "version_minor": 0
      },
      "text/plain": [
       "Generating test split: 0 examples [00:00, ? examples/s]"
      ]
     },
     "metadata": {},
     "output_type": "display_data"
    },
    {
     "data": {
      "application/vnd.jupyter.widget-view+json": {
       "model_id": "75f56b4de4584496a6d936ed85d1d078",
       "version_major": 2,
       "version_minor": 0
      },
      "text/plain": [
       "Generating dev split: 0 examples [00:00, ? examples/s]"
      ]
     },
     "metadata": {},
     "output_type": "display_data"
    },
    {
     "data": {
      "application/vnd.jupyter.widget-view+json": {
       "model_id": "7f5099ff74d548d88e8669354d3954bb",
       "version_major": 2,
       "version_minor": 0
      },
      "text/plain": [
       "Downloading data:   0%|          | 0.00/89.1k [00:00<?, ?B/s]"
      ]
     },
     "metadata": {},
     "output_type": "display_data"
    },
    {
     "data": {
      "application/vnd.jupyter.widget-view+json": {
       "model_id": "ee1b75985c334fd99abeb6ab3d1f7782",
       "version_major": 2,
       "version_minor": 0
      },
      "text/plain": [
       "Downloading data:   0%|          | 0.00/4.08k [00:00<?, ?B/s]"
      ]
     },
     "metadata": {},
     "output_type": "display_data"
    },
    {
     "data": {
      "application/vnd.jupyter.widget-view+json": {
       "model_id": "90c50b2d3d3a4d3fa7a54780224a3f24",
       "version_major": 2,
       "version_minor": 0
      },
      "text/plain": [
       "Generating test split: 0 examples [00:00, ? examples/s]"
      ]
     },
     "metadata": {},
     "output_type": "display_data"
    },
    {
     "data": {
      "application/vnd.jupyter.widget-view+json": {
       "model_id": "8140c77d57d34e8e95ca58add1a15f88",
       "version_major": 2,
       "version_minor": 0
      },
      "text/plain": [
       "Generating dev split: 0 examples [00:00, ? examples/s]"
      ]
     },
     "metadata": {},
     "output_type": "display_data"
    },
    {
     "data": {
      "application/vnd.jupyter.widget-view+json": {
       "model_id": "525be706fb5443c2bfbc5a23366cfe23",
       "version_major": 2,
       "version_minor": 0
      },
      "text/plain": [
       "Downloading data:   0%|          | 0.00/42.5k [00:00<?, ?B/s]"
      ]
     },
     "metadata": {},
     "output_type": "display_data"
    },
    {
     "data": {
      "application/vnd.jupyter.widget-view+json": {
       "model_id": "e232d10d82684a938be442d4ab1ebd3b",
       "version_major": 2,
       "version_minor": 0
      },
      "text/plain": [
       "Downloading data:   0%|          | 0.00/3.96k [00:00<?, ?B/s]"
      ]
     },
     "metadata": {},
     "output_type": "display_data"
    },
    {
     "data": {
      "application/vnd.jupyter.widget-view+json": {
       "model_id": "f9f13c3886624f968d8b89656b051b7c",
       "version_major": 2,
       "version_minor": 0
      },
      "text/plain": [
       "Generating test split: 0 examples [00:00, ? examples/s]"
      ]
     },
     "metadata": {},
     "output_type": "display_data"
    },
    {
     "data": {
      "application/vnd.jupyter.widget-view+json": {
       "model_id": "05fa0d73241a4a88a9c12cf82db322e8",
       "version_major": 2,
       "version_minor": 0
      },
      "text/plain": [
       "Generating dev split: 0 examples [00:00, ? examples/s]"
      ]
     },
     "metadata": {},
     "output_type": "display_data"
    },
    {
     "data": {
      "application/vnd.jupyter.widget-view+json": {
       "model_id": "785e118d8d61478fad770f4b9719da4e",
       "version_major": 2,
       "version_minor": 0
      },
      "text/plain": [
       "Downloading data:   0%|          | 0.00/62.6k [00:00<?, ?B/s]"
      ]
     },
     "metadata": {},
     "output_type": "display_data"
    },
    {
     "data": {
      "application/vnd.jupyter.widget-view+json": {
       "model_id": "3042622a0a704f4199402f880e69f9b9",
       "version_major": 2,
       "version_minor": 0
      },
      "text/plain": [
       "Downloading data:   0%|          | 0.00/4.80k [00:00<?, ?B/s]"
      ]
     },
     "metadata": {},
     "output_type": "display_data"
    },
    {
     "data": {
      "application/vnd.jupyter.widget-view+json": {
       "model_id": "64b8b69a3cfd448b968990135624f202",
       "version_major": 2,
       "version_minor": 0
      },
      "text/plain": [
       "Generating test split: 0 examples [00:00, ? examples/s]"
      ]
     },
     "metadata": {},
     "output_type": "display_data"
    },
    {
     "data": {
      "application/vnd.jupyter.widget-view+json": {
       "model_id": "0f50927d42df40818228802d4af0c522",
       "version_major": 2,
       "version_minor": 0
      },
      "text/plain": [
       "Generating dev split: 0 examples [00:00, ? examples/s]"
      ]
     },
     "metadata": {},
     "output_type": "display_data"
    }
   ],
   "source": [
    "from datasets import load_dataset\n",
    "from tqdm.auto import tqdm\n",
    "import pandas as pd\n",
    "import os\n",
    "import zipfile\n",
    "import shutil\n",
    "\n",
    "def process_df(df:pd.DataFrame) -> pd.DataFrame:\n",
    "    choice_lists = []\n",
    "    for idx in range(df.shape[0]):\n",
    "        answer_opt = df['answer'].iloc[idx]\n",
    "        choice_list = [\n",
    "            df.loc[idx, 'A'],\n",
    "            df.loc[idx, 'B'],\n",
    "            df.loc[idx, 'C'],\n",
    "            df.loc[idx, 'D'],\n",
    "            df.loc[idx, 'E'],\n",
    "            df.loc[idx, 'F'],\n",
    "        ]\n",
    "        df.loc[idx, 'choices'] = str(choice_list)\n",
    "        df.loc[idx, 'answer'] = df.loc[idx, answer_opt]\n",
    "        df.loc[idx, 'explanation'] = df.loc[idx, 'explanation'] if 'explanation' in df.columns else \" \"\n",
    "    df = df[['question', 'choices', 'answer', 'explanation']]\n",
    "    return df\n",
    "\n",
    "base_dir = \"/work/u5110390/BenchWeaver/evaluation_data/tmlu/data\"\n",
    "os.makedirs(base_dir, exist_ok=True)\n",
    "\n",
    "for task in tqdm(mapping.keys()):\n",
    "    ds = load_dataset(\"miulab/tmlu\", task)\n",
    "    dev_df = process_df(ds['dev'].to_pandas())\n",
    "    test_df = process_df(ds['test'].to_pandas())\n",
    "    dev_file = os.path.join(base_dir, 'dev', f\"{task}_dev.csv\")\n",
    "    test_file = os.path.join(base_dir, 'test', f\"{task}_test.csv\")\n",
    "    os.makedirs(os.path.dirname(dev_file), exist_ok=True)\n",
    "    os.makedirs(os.path.dirname(test_file), exist_ok=True)\n",
    "    dev_df.to_csv(dev_file, index=False)\n",
    "    test_df.to_csv(test_file, index=False)\n",
    "\n",
    "# Define the zip file name\n",
    "zip_file = \"/work/u5110390/BenchWeaver/evaluation_data/tmlu/tmlu.zip\"\n",
    "\n",
    "# Function to zip a directory and its contents\n",
    "def zip_dir(directory, zip_file):\n",
    "    with zipfile.ZipFile(zip_file, 'w', zipfile.ZIP_DEFLATED) as zipf:\n",
    "        for root, _, files in os.walk(directory):\n",
    "            for file in files:\n",
    "                zipf.write(os.path.join(root, file), os.path.relpath(os.path.join(root, file), directory))\n",
    "\n",
    "# Zip the directory\n",
    "zip_dir(base_dir, zip_file)\n",
    "# Remove the base directory after zipping\n",
    "shutil.rmtree(base_dir)"
   ]
  },
  {
   "cell_type": "markdown",
   "metadata": {},
   "source": [
    "# DRCD"
   ]
  },
  {
   "cell_type": "code",
   "execution_count": null,
   "metadata": {},
   "outputs": [],
   "source": [
    "import json\n",
    "from typing import Any\n",
    "def load_json(file_path:str) -> Any:\n",
    "    with open(file_path, \"r\") as f:\n",
    "        data = json.load(f)\n",
    "    return data\n",
    "\n",
    "train_data = load_json(\"/work/u5110390/BenchWeaver/evaluation_data/drcd/DRCD_training.json\")\n",
    "dev_data = load_json(\"/work/u5110390/BenchWeaver/evaluation_data/drcd/DRCD_dev.json\")\n",
    "test_data = load_json(\"/work/u5110390/BenchWeaver/evaluation_data/drcd/DRCD_test.json\")"
   ]
  },
  {
   "cell_type": "code",
   "execution_count": null,
   "metadata": {},
   "outputs": [],
   "source": [
    "train_record = {\n",
    "    \"title\": [],\n",
    "    \"id\": [],\n",
    "    \"context\": [],\n",
    "    \"question\": [],\n",
    "    \"answer\": [],\n",
    "    \"answer_start\": [],\n",
    "}\n",
    "dev_record = {\n",
    "    \"title\": [],\n",
    "    \"id\": [],\n",
    "    \"context\": [],\n",
    "    \"question\": [],\n",
    "    \"answer\": [],\n",
    "    \"answer_start\": [],\n",
    "}\n",
    "test_record = {\n",
    "    \"title\": [],\n",
    "    \"id\": [],\n",
    "    \"context\": [],\n",
    "    \"question\": [],\n",
    "    \"answer\": [],\n",
    "    \"answer_start\": [],\n",
    "}"
   ]
  },
  {
   "cell_type": "code",
   "execution_count": null,
   "metadata": {},
   "outputs": [],
   "source": [
    "from tqdm.auto import tqdm\n",
    "for idx in tqdm(range(len(train_data['data']))):\n",
    "    for paragraph in train_data['data'][idx]['paragraphs']:\n",
    "        for qa in paragraph['qas']:\n",
    "            train_record['title'].append(train_data['data'][idx]['title'])\n",
    "            train_record['id'].append(qa['id'])\n",
    "            train_record['context'].append(paragraph['context'])\n",
    "            train_record['question'].append(qa['question'])\n",
    "            train_record['answer'].append(qa['answers'][0]['text'])\n",
    "            train_record['answer_start'].append(qa['answers'][0]['answer_start'])\n",
    "\n",
    "for idx in tqdm(range(len(dev_data['data']))):\n",
    "    for paragraph in dev_data['data'][idx]['paragraphs']:\n",
    "        for qa in paragraph['qas']:\n",
    "            dev_record['title'].append(dev_data['data'][idx]['title'])\n",
    "            dev_record['id'].append(qa['id'])\n",
    "            dev_record['context'].append(paragraph['context'])\n",
    "            dev_record['question'].append(qa['question'])\n",
    "            dev_record['answer'].append(qa['answers'][0]['text'])\n",
    "            dev_record['answer_start'].append(qa['answers'][0]['answer_start'])\n",
    "            \n",
    "for idx in tqdm(range(len(test_data['data']))):\n",
    "    for paragraph in test_data['data'][idx]['paragraphs']:\n",
    "        for qa in paragraph['qas']:\n",
    "            test_record['title'].append(test_data['data'][idx]['title'])\n",
    "            test_record['id'].append(qa['id'])\n",
    "            test_record['context'].append(paragraph['context'])\n",
    "            test_record['question'].append(qa['question'])\n",
    "            test_record['answer'].append(qa['answers'][0]['text'])\n",
    "            test_record['answer_start'].append(qa['answers'][0]['answer_start'])"
   ]
  },
  {
   "cell_type": "code",
   "execution_count": null,
   "metadata": {},
   "outputs": [],
   "source": [
    "import pandas as pd\n",
    "train_df = pd.DataFrame(train_record)\n",
    "dev_df = pd.DataFrame(dev_record)\n",
    "test_df = pd.DataFrame(test_record)\n",
    "test_df"
   ]
  },
  {
   "cell_type": "code",
   "execution_count": null,
   "metadata": {},
   "outputs": [],
   "source": [
    "train_df.to_csv(\"/work/u5110390/BenchWeaver/evaluation_data/drcd/data/dev/all_dev.csv\", index=False)\n",
    "dev_df.to_csv(\"/work/u5110390/BenchWeaver/evaluation_data/drcd/data/val/all_val.csv\", index=False)\n",
    "test_df.to_csv(\"/work/u5110390/BenchWeaver/evaluation_data/drcd/data/test/all_test.csv\", index=False)"
   ]
  },
  {
   "cell_type": "markdown",
   "metadata": {},
   "source": [
    "# awesome-taiwan-knowledge"
   ]
  },
  {
   "cell_type": "code",
   "execution_count": null,
   "metadata": {},
   "outputs": [],
   "source": [
    "import json\n",
    "from typing import Any\n",
    "import pandas as pd\n",
    "def load_json(file_path:str) -> Any:\n",
    "    with open(file_path, \"r\") as f:\n",
    "        data = json.load(f)\n",
    "    return data\n",
    "\n",
    "data = load_json(\"/work/u5110390/BenchWeaver/evaluation_data/awesome-taiwan-knowledge/TTQA_1.0.0_tw_llama_v1.0.json\")\n",
    "data_record = {\n",
    "    \"title\": [],\n",
    "    \"question\": [],\n",
    "    \"answer\": [],\n",
    "}\n",
    "for data_dict in data:\n",
    "    data_record['title'].append(data_dict['answer'])\n",
    "    data_record['question'].append(data_dict['examples'])\n",
    "    data_record['answer'].append(\"以下皆為正確答案：\" + \"或\".join([f\"「{ans}」\" for ans in data_dict['correct_answers']]))\n",
    "    \n",
    "df = pd.DataFrame(data_record)\n",
    "df"
   ]
  },
  {
   "cell_type": "code",
   "execution_count": null,
   "metadata": {},
   "outputs": [],
   "source": [
    "df.to_csv(\"/work/u5110390/BenchWeaver/evaluation_data/awesome-taiwan-knowledge/data/test/all_test.csv\", index=False)"
   ]
  },
  {
   "cell_type": "markdown",
   "metadata": {},
   "source": [
    "# CMMLU"
   ]
  },
  {
   "cell_type": "code",
   "execution_count": null,
   "metadata": {},
   "outputs": [],
   "source": [
    "name_en2zh = {\n",
    "    \"agronomy\": \"农学\",\n",
    "    \"anatomy\": \"解剖学\",\n",
    "    \"ancient_chinese\": \"古汉语\",\n",
    "    \"arts\": \"艺术学\",\n",
    "    \"astronomy\": \"天文学\",\n",
    "    \"business_ethics\": \"商业伦理\",\n",
    "    \"chinese_civil_service_exam\": \"中国公务员考试\",\n",
    "    \"chinese_driving_rule\": \"中国驾驶规则\",\n",
    "    \"chinese_food_culture\": \"中国饮食文化\",\n",
    "    \"chinese_foreign_policy\": \"中国外交政策\",\n",
    "    \"chinese_history\":\"中国历史\",\n",
    "    \"chinese_literature\": \"中国文学\",\n",
    "    \"chinese_teacher_qualification\": \"中国教师资格\",\n",
    "    \"clinical_knowledge\": \"临床知识\",\n",
    "    \"college_actuarial_science\":\"大学精算学\",\n",
    "    \"college_education\":\"大学教育学\",\n",
    "    \"college_engineering_hydrology\": \"大学工程水文学\",\n",
    "    \"college_law\": \"大学法律\",\n",
    "    \"college_mathematics\": \"大学数学\",\n",
    "    \"college_medical_statistics\":\"大学医学统计\",\n",
    "    \"college_medicine\": \"大学医学\",\n",
    "    \"computer_science\": \"计算机科学\",\n",
    "    \"computer_security\": \"计算机安全\",\n",
    "    \"conceptual_physics\": \"概念物理学\",\n",
    "    \"construction_project_management\": \"建设工程管理\",\n",
    "    \"economics\": \"经济学\",\n",
    "    \"education\": \"教育学\",\n",
    "    \"electrical_engineering\": \"电气工程\",\n",
    "    \"elementary_chinese\":\"小学语文\",\n",
    "    \"elementary_commonsense\":\"小学常识\",\n",
    "    \"elementary_information_and_technology\": \"小学信息技术\",\n",
    "    \"elementary_mathematics\": \"初等数学\",\n",
    "    \"ethnology\": \"民族学\",\n",
    "    \"food_science\": \"食品科学\",\n",
    "    \"genetics\": \"遗传学\",\n",
    "    \"global_facts\": \"全球事实\",\n",
    "    \"high_school_biology\": \"高中生物\",\n",
    "    \"high_school_chemistry\": \"高中化学\",\n",
    "    \"high_school_geography\": \"高中地理\",\n",
    "    \"high_school_mathematics\": \"高中数学\",\n",
    "    \"high_school_physics\": \"高中物理学\",\n",
    "    \"high_school_politics\": \"高中政治\",\n",
    "    \"human_sexuality\": \"人类性行为\",\n",
    "    \"international_law\": \"国际法学\",\n",
    "    \"journalism\": \"新闻学\",\n",
    "    \"jurisprudence\": \"法理学\",\n",
    "    \"legal_and_moral_basis\": \"法律与道德基础\",\n",
    "    \"logical\": \"逻辑学\",\n",
    "    \"machine_learning\": \"机器学习\",\n",
    "    \"management\": \"管理学\",\n",
    "    \"marketing\": \"市场营销\",\n",
    "    \"marxist_theory\": \"马克思主义理论\",\n",
    "    \"modern_chinese\": \"现代汉语\",\n",
    "    \"nutrition\": \"营养学\",\n",
    "    \"philosophy\": \"哲学\",\n",
    "    \"professional_accounting\": \"专业会计\",\n",
    "    \"professional_law\": \"专业法学\",\n",
    "    \"professional_medicine\": \"专业医学\",\n",
    "    \"professional_psychology\": \"专业心理学\",\n",
    "    \"public_relations\": \"公共关系\",\n",
    "    \"security_study\":\"安全研究\",\n",
    "    \"sociology\": \"社会学\",\n",
    "    \"sports_science\": \"体育学\",\n",
    "    \"traditional_chinese_medicine\": \"中医中药\",\n",
    "    \"virology\": \"病毒学\",\n",
    "    \"world_history\":\"世界历史\",\n",
    "    \"world_religions\": \"世界宗教\",\n",
    "}\n",
    "\n",
    "subcategories = {\n",
    "    \"agronomy\": ['other'],\n",
    "    \"anatomy\": ['biology'],\n",
    "    \"ancient_chinese\": ['linguistics','china specific'],\n",
    "    \"arts\": ['arts'],\n",
    "    \"astronomy\": ['physics'],\n",
    "    \"business_ethics\": ['business'],\n",
    "    \"chinese_civil_service_exam\": ['politics','china specific'],\n",
    "    \"chinese_driving_rule\": ['other','china specific'],\n",
    "    \"chinese_food_culture\": ['culture','china specific'],\n",
    "    \"chinese_foreign_policy\": ['politics','china specific'],\n",
    "    \"chinese_history\":['history','china specific'],\n",
    "    \"chinese_literature\": ['literature','china specific'],\n",
    "    \"chinese_teacher_qualification\": ['education','china specific'],\n",
    "    \"college_actuarial_science\":['math'],\n",
    "    \"college_education\":['education'],\n",
    "    \"college_engineering_hydrology\": ['engineering'],\n",
    "    \"college_law\": ['law'],\n",
    "    \"college_mathematics\": ['math'],\n",
    "    \"college_medical_statistics\":['statistics'],\n",
    "    \"clinical_knowledge\": ['other'],\n",
    "    \"college_medicine\": ['other'],\n",
    "    \"computer_science\": ['computer science'],\n",
    "    \"computer_security\": ['other'],\n",
    "    \"conceptual_physics\": ['physics'],\n",
    "    \"construction_project_management\": ['other','china specific'],\n",
    "    \"economics\": ['economics'],\n",
    "    \"education\": ['education'],\n",
    "    \"elementary_chinese\":['linguistics','china specific'],\n",
    "    \"elementary_commonsense\":['other','china specific'],\n",
    "    \"elementary_information_and_technology\": ['other'],\n",
    "    \"electrical_engineering\": ['engineering'],\n",
    "    \"elementary_mathematics\": ['math'],\n",
    "    \"ethnology\": ['culture','china specific'],\n",
    "    \"food_science\": ['other'],\n",
    "    \"genetics\": ['biology'],\n",
    "    \"global_facts\": ['global'],\n",
    "    \"high_school_biology\": ['biology'],\n",
    "    \"high_school_chemistry\": ['chemistry'],\n",
    "    \"high_school_geography\": ['geography'],\n",
    "    \"high_school_mathematics\": ['math'],\n",
    "    \"high_school_physics\": ['physics'],\n",
    "    \"high_school_politics\": ['politics','china specific'],\n",
    "    \"human_sexuality\": ['other'],\n",
    "    \"international_law\": ['law'],\n",
    "    \"journalism\": ['sociology'],\n",
    "    \"jurisprudence\": ['law'],\n",
    "    \"legal_and_moral_basis\": ['other'],\n",
    "    \"logical\": ['philosophy'],\n",
    "    \"machine_learning\": ['computer science'],\n",
    "    \"management\": ['business'],\n",
    "    \"marketing\": ['business'],\n",
    "    \"marxist_theory\": ['philosophy'],\n",
    "    \"modern_chinese\": ['linguistics','china specific'],\n",
    "    \"nutrition\": ['other'],\n",
    "    \"philosophy\": ['philosophy'],\n",
    "    \"professional_accounting\": ['business'],\n",
    "    \"professional_law\": ['law'],\n",
    "    \"professional_medicine\": ['other'],\n",
    "    \"professional_psychology\": ['psychology'],\n",
    "    \"public_relations\": ['politics'],\n",
    "    \"security_study\": ['politics'],\n",
    "    \"sociology\": ['culture'],\n",
    "    \"sports_science\": ['other'],\n",
    "    \"traditional_chinese_medicine\": ['other','china specific'],\n",
    "    \"virology\": ['biology'],\n",
    "    \"world_history\":['history'],\n",
    "    \"world_religions\": ['global'],\n",
    "}\n",
    "\n",
    "categories = {\n",
    "    \"STEM\": [\"physics\", \"chemistry\", \"biology\", \"computer science\", \"math\", \"engineering\", \"statistics\"],\n",
    "    \"Humanities\": [\"history\", \"philosophy\", \"law\", \"arts\", \"literature\", \"global\"],\n",
    "    \"Social Science\": ['linguistics',\"business\", \"politics\", \"culture\", \"economics\", \"geography\", \"psychology\", \"education\", \"sociology\"],\n",
    "    \"Other\":[\"other\"],\n",
    "    # \"China specific\": [\"china specific\"],\n",
    "}"
   ]
  },
  {
   "cell_type": "code",
   "execution_count": null,
   "metadata": {},
   "outputs": [],
   "source": [
    "mapping = {}\n",
    "\n",
    "for name, catogories in name_en2zh.items():\n",
    "    sub_cat = subcategories[name][0]\n",
    "    for cat, sub_cat_list in categories.items():\n",
    "        if sub_cat in sub_cat_list:\n",
    "            category = cat\n",
    "            break\n",
    "    mapping[name] = {\n",
    "        \"name\": name_en2zh[name],\n",
    "        \"category\": cat\n",
    "    }"
   ]
  },
  {
   "cell_type": "code",
   "execution_count": null,
   "metadata": {},
   "outputs": [],
   "source": [
    "import json\n",
    "with open(\"/work/u5110390/BenchWeaver/evaluation_data/cmmlu/mapping.json\", \"w\") as f:\n",
    "    json.dump(mapping, f, ensure_ascii=False, indent=2)"
   ]
  },
  {
   "cell_type": "code",
   "execution_count": null,
   "metadata": {},
   "outputs": [],
   "source": [
    "from datasets import load_dataset\n",
    "import os\n",
    "import pandas as pd\n",
    "import zipfile\n",
    "import shutil\n",
    "\n",
    "task_list = ['agronomy', 'anatomy', 'ancient_chinese', 'arts', 'astronomy', 'business_ethics', 'chinese_civil_service_exam', 'chinese_driving_rule', 'chinese_food_culture', 'chinese_foreign_policy', 'chinese_history', 'chinese_literature', \n",
    "'chinese_teacher_qualification', 'clinical_knowledge', 'college_actuarial_science', 'college_education', 'college_engineering_hydrology', 'college_law', 'college_mathematics', 'college_medical_statistics', 'college_medicine', 'computer_science',\n",
    "'computer_security', 'conceptual_physics', 'construction_project_management', 'economics', 'education', 'electrical_engineering', 'elementary_chinese', 'elementary_commonsense', 'elementary_information_and_technology', 'elementary_mathematics', \n",
    "'ethnology', 'food_science', 'genetics', 'global_facts', 'high_school_biology', 'high_school_chemistry', 'high_school_geography', 'high_school_mathematics', 'high_school_physics', 'high_school_politics', 'human_sexuality',\n",
    "'international_law', 'journalism', 'jurisprudence', 'legal_and_moral_basis', 'logical', 'machine_learning', 'management', 'marketing', 'marxist_theory', 'modern_chinese', 'nutrition', 'philosophy', 'professional_accounting', 'professional_law', \n",
    "'professional_medicine', 'professional_psychology', 'public_relations', 'security_study', 'sociology', 'sports_science', 'traditional_chinese_medicine', 'virology', 'world_history', 'world_religions']\n",
    "\n",
    "\n",
    "base_dir = \"/work/u5110390/BenchWeaver/evaluation_data/cmmlu/data\"\n",
    "for task in task_list:\n",
    "    dev = load_dataset('haonan-li/cmmlu', task)['dev']\n",
    "    test = load_dataset('haonan-li/cmmlu', task)['test']\n",
    "    # Convert datasets to DataFrames\n",
    "    dev_df = dev.to_pandas()\n",
    "    dev_df['question'] = dev_df['Question']\n",
    "    dev_df['answer'] = dev_df['Answer']\n",
    "    test_df = test.to_pandas()\n",
    "    test_df['question'] = test_df['Question']\n",
    "    test_df['answer'] = test_df['Answer']\n",
    "    # Drop the original columns\n",
    "    dev_df.drop(columns=['Question', 'Answer'], inplace=True)\n",
    "    test_df.drop(columns=['Question', 'Answer'], inplace=True)\n",
    "    # Define file paths\n",
    "    dev_file = os.path.join(base_dir, 'dev', f\"{task}_dev.csv\")\n",
    "    test_file = os.path.join(base_dir, 'test', f\"{task}_test.csv\")\n",
    "    # Create directories if they don't exist\n",
    "    os.makedirs(os.path.dirname(dev_file), exist_ok=True)\n",
    "    os.makedirs(os.path.dirname(test_file), exist_ok=True)\n",
    "    # Save DataFrames to CSV files\n",
    "    dev_df.to_csv(dev_file, index=False)\n",
    "    test_df.to_csv(test_file, index=False)\n",
    "\n",
    "# Define the zip file name\n",
    "zip_file = \"cmmlu.zip\"\n",
    "\n",
    "# Function to zip a directory and its contents\n",
    "def zip_dir(directory, zip_file):\n",
    "    with zipfile.ZipFile(zip_file, 'w', zipfile.ZIP_DEFLATED) as zipf:\n",
    "        for root, _, files in os.walk(directory):\n",
    "            for file in files:\n",
    "                zipf.write(os.path.join(root, file), os.path.relpath(os.path.join(root, file), directory))\n",
    "\n",
    "# Zip the directory\n",
    "zip_dir(base_dir, zip_file)\n",
    "# Remove the base directory after zipping\n",
    "shutil.rmtree(base_dir)"
   ]
  },
  {
   "cell_type": "markdown",
   "metadata": {},
   "source": [
    "# TAIDE Bench"
   ]
  },
  {
   "cell_type": "code",
   "execution_count": 3,
   "metadata": {},
   "outputs": [
    {
     "name": "stdout",
     "output_type": "stream",
     "text": [
      "Exported en2zh data to /work/u5110390/BenchWeaver/evaluation_data/taide-bench/data/test/en2zh_test.csv\n",
      "Exported zh2en data to /work/u5110390/BenchWeaver/evaluation_data/taide-bench/data/test/zh2en_test.csv\n",
      "Exported summary data to /work/u5110390/BenchWeaver/evaluation_data/taide-bench/data/test/summary_test.csv\n",
      "Exported letter data to /work/u5110390/BenchWeaver/evaluation_data/taide-bench/data/test/letter_test.csv\n",
      "Exported essay data to /work/u5110390/BenchWeaver/evaluation_data/taide-bench/data/test/essay_test.csv\n"
     ]
    }
   ],
   "source": [
    "import json\n",
    "import pandas as pd\n",
    "import os\n",
    "export_dir = \"/work/u5110390/BenchWeaver/evaluation_data/taide-bench/data/test\"\n",
    "os.makedirs(export_dir, exist_ok=True)\n",
    "file_path = \"/work/u5110390/BenchWeaver/evaluation_data/taide-bench/data.jsonl\"\n",
    "with open(file_path, \"r\") as f:\n",
    "    data = [json.loads(line) for line in f]\n",
    "dfs = {\n",
    "    \"en2zh\": [],\n",
    "    \"zh2en\": [],\n",
    "    \"summary\": [],\n",
    "    \"letter\": [],\n",
    "    \"essay\": [],\n",
    "}\n",
    "for data_dict in data:\n",
    "    if data_dict['task'] == \"en2zh\":\n",
    "        dfs[\"en2zh\"].append({\n",
    "            \"task\": data_dict[\"task\"],\n",
    "            \"qid\": data_dict[\"qid\"],\n",
    "            \"question\": data_dict[\"prompt\"],\n",
    "            \"answer\": data_dict[\"answer\"],\n",
    "        })\n",
    "    elif data_dict['task'] == \"zh2en\":\n",
    "        dfs[\"zh2en\"].append({\n",
    "            \"task\": data_dict[\"task\"],\n",
    "            \"qid\": data_dict[\"qid\"],\n",
    "            \"question\": data_dict[\"prompt\"],\n",
    "            \"answer\": data_dict[\"answer\"],\n",
    "        })\n",
    "    elif data_dict['task'] == \"summary\":\n",
    "        dfs[\"summary\"].append({\n",
    "            \"task\": data_dict[\"task\"],\n",
    "            \"qid\": data_dict[\"qid\"],\n",
    "            \"question\": data_dict[\"prompt\"],\n",
    "            \"answer\": data_dict[\"answer\"],\n",
    "        })\n",
    "    elif data_dict['task'] == \"letter\":\n",
    "        dfs[\"letter\"].append({\n",
    "            \"task\": data_dict[\"task\"],\n",
    "            \"qid\": data_dict[\"qid\"],\n",
    "            \"question\": data_dict[\"prompt\"],\n",
    "            \"answer\": data_dict[\"answer\"],\n",
    "        })\n",
    "    elif data_dict['task'] == \"essay\":\n",
    "        dfs[\"essay\"].append({\n",
    "            \"task\": data_dict[\"task\"],\n",
    "            \"qid\": data_dict[\"qid\"],\n",
    "            \"question\": data_dict[\"prompt\"],\n",
    "            \"answer\": data_dict[\"answer\"],\n",
    "        })\n",
    "        \n",
    "    \n",
    "for task, df in dfs.items():\n",
    "    df = pd.DataFrame(df)\n",
    "    df.to_csv(f\"{export_dir}/{task}_test.csv\", index=False)\n",
    "    print(f\"Exported {task} data to {export_dir}/{task}_test.csv\")"
   ]
  },
  {
   "cell_type": "markdown",
   "metadata": {},
   "source": [
    "# CCPM"
   ]
  },
  {
   "cell_type": "code",
   "execution_count": 1,
   "metadata": {},
   "outputs": [],
   "source": [
    "import json\n",
    "train_file_path = \"/work/u5110390/BenchWeaver/evaluation_data/ccpm/train.jsonl\"\n",
    "valid_file_path = \"/work/u5110390/BenchWeaver/evaluation_data/ccpm/valid.jsonl\"\n",
    "with open(train_file_path, \"r\") as f:\n",
    "    train_data = [json.loads(line) for line in f]\n",
    "\n",
    "with open(valid_file_path, \"r\") as f: \n",
    "    valid_data = [json.loads(line) for line in f]"
   ]
  },
  {
   "cell_type": "code",
   "execution_count": 2,
   "metadata": {},
   "outputs": [
    {
     "data": {
      "text/plain": [
       "{'translation': '诗人啊，你竟像在遥远的地方站立船头。',\n",
       " 'choices': ['行人初上木兰舟', '骚人遥驻木兰舟', '有人独上木兰舟', '行人迢递木兰舟'],\n",
       " 'answer': 1}"
      ]
     },
     "execution_count": 2,
     "metadata": {},
     "output_type": "execute_result"
    }
   ],
   "source": [
    "train_data[0]"
   ]
  },
  {
   "cell_type": "code",
   "execution_count": 3,
   "metadata": {},
   "outputs": [],
   "source": [
    "train_dict = {\n",
    "    \"question\": [],\n",
    "    \"A\": [],\n",
    "    \"B\": [],\n",
    "    \"C\": [],\n",
    "    \"D\": [],\n",
    "    \"answer\": [],\n",
    "}\n",
    "\n",
    "valid_dict = {\n",
    "    \"question\": [],\n",
    "    \"A\": [],\n",
    "    \"B\": [],\n",
    "    \"C\": [],\n",
    "    \"D\": [],\n",
    "    \"answer\": [],\n",
    "}\n",
    "idx2alphabet = {\n",
    "    0: \"A\",\n",
    "    1: \"B\",\n",
    "    2: \"C\",\n",
    "    3: \"D\"\n",
    "}"
   ]
  },
  {
   "cell_type": "code",
   "execution_count": null,
   "metadata": {},
   "outputs": [],
   "source": [
    "for _dict in train_data:\n",
    "    train_dict['question'].append(\"以下是将某句古诗文翻译而成的现代表述：{translation}\\n该翻译所对应的古诗文是：\".format(translation=_dict['translation']))\n",
    "    train_dict['A'].append(_dict['choices'][0])\n",
    "    train_dict['B'].append(_dict['choices'][1])\n",
    "    train_dict['C'].append(_dict['choices'][2])\n",
    "    train_dict['D'].append(_dict['choices'][3])\n",
    "    train_dict['answer'].append(idx2alphabet[_dict['answer']])\n",
    "\n",
    "for _dict in valid_data:\n",
    "    valid_dict['question'].append(\"以下是将某句古诗文翻译而成的现代表述：{translation}\\n该翻译所对应的古诗文是：\".format(translation=_dict['translation']))\n",
    "    valid_dict['A'].append(_dict['choices'][0])\n",
    "    valid_dict['B'].append(_dict['choices'][1])\n",
    "    valid_dict['C'].append(_dict['choices'][2])\n",
    "    valid_dict['D'].append(_dict['choices'][3])\n",
    "    valid_dict['answer'].append(idx2alphabet[_dict['answer']])\n",
    "    \n",
    "import pandas as pd    \n",
    "train_df = pd.DataFrame(train_dict)\n",
    "valid_df = pd.DataFrame(valid_dict)"
   ]
  },
  {
   "cell_type": "code",
   "execution_count": 5,
   "metadata": {},
   "outputs": [],
   "source": [
    "train_df.to_csv(\"/work/u5110390/BenchWeaver/evaluation_data/ccpm/data/dev/all_train.csv\", index=False)\n",
    "valid_df.to_csv(\"/work/u5110390/BenchWeaver/evaluation_data/ccpm/data/test/all_test.csv\", index=False)"
   ]
  },
  {
   "cell_type": "markdown",
   "metadata": {},
   "source": [
    "# cmath"
   ]
  },
  {
   "cell_type": "code",
   "execution_count": null,
   "metadata": {},
   "outputs": [],
   "source": [
    "import json\n",
    "main_file_path = \"/work/u5110390/BenchWeaver/evaluation_data/cmath/cmath_test.jsonl\"\n",
    "distractor_file_path = \"/work/u5110390/BenchWeaver/evaluation_data/cmath/distractor.jsonl\"\n",
    "with open(main_file_path, \"r\") as f:\n",
    "    main_data = [json.loads(line) for line in f]\n",
    "\n",
    "with open(distractor_file_path, \"r\") as f: \n",
    "    distractor_data = [json.loads(line) for line in f]"
   ]
  },
  {
   "cell_type": "code",
   "execution_count": null,
   "metadata": {},
   "outputs": [],
   "source": [
    "ditstractor_dict = {\n",
    "    \"question\": [],\n",
    "    \"answer\": [],\n",
    "    \"distractor\": [],\n",
    "    \"original\": [],\n",
    "}\n",
    "main_dict = {\n",
    "    \"question\": [],\n",
    "    \"answer\": [],\n",
    "    \"distractor\": [],\n",
    "    \"original\": [],\n",
    "}"
   ]
  },
  {
   "cell_type": "code",
   "execution_count": null,
   "metadata": {},
   "outputs": [],
   "source": [
    "for data_dict in main_data:\n",
    "    main_dict['question'].append(data_dict['question'])\n",
    "    main_dict['answer'].append(data_dict['golden'])\n",
    "    main_dict['distractor'].append(0)\n",
    "    main_dict['original'].append(data_dict['question'])\n",
    "    \n",
    "for data_dict in distractor_data:\n",
    "    ditstractor_dict['question'].append(data_dict['input'])\n",
    "    ditstractor_dict['answer'].append(data_dict['golden'])\n",
    "    ditstractor_dict['distractor'].append(data_dict['distractor'])\n",
    "    ditstractor_dict['original'].append(data_dict['original'])\n",
    "    \n",
    "import pandas as pd\n",
    "main_df = pd.DataFrame(main_dict)\n",
    "distractor_df = pd.DataFrame(ditstractor_dict)"
   ]
  },
  {
   "cell_type": "code",
   "execution_count": null,
   "metadata": {},
   "outputs": [],
   "source": [
    "main_df.to_csv(\"/work/u5110390/BenchWeaver/evaluation_data/cmath/data/test/main_train.csv\", index=False)\n",
    "distractor_df.to_csv(\"/work/u5110390/BenchWeaver/evaluation_data/cmath/data/test/distractor_test.csv\", index=False)"
   ]
  },
  {
   "cell_type": "markdown",
   "metadata": {},
   "source": [
    "# CIF-Bench"
   ]
  },
  {
   "cell_type": "code",
   "execution_count": null,
   "metadata": {},
   "outputs": [],
   "source": [
    "import os\n",
    "import json\n",
    "import re\n",
    "\n",
    "folder = \"/work/u5110390/BenchWeaver/evaluation_data/cif-bench/public\"\n",
    "\n",
    "def retrieve_task_name(file_name:str):\n",
    "    name = file_name.split(\".\")[0]\n",
    "    task_name = re.sub(r\"\\d+_|_public\", \"\", name).lower()\n",
    "    return task_name\n",
    "\n",
    "data_record = {}\n",
    "for file_name in os.listdir(folder):\n",
    "    with open(os.path.join(folder, file_name), \"r\") as f:\n",
    "        data = [json.loads(line) for line in f]\n",
    "    task_name = retrieve_task_name(file_name)\n",
    "    if task_name not in data_record:\n",
    "        data_record[task_name] = data\n",
    "    else:\n",
    "        print(task_name)\n",
    "        data_record[task_name].extend(data)"
   ]
  },
  {
   "cell_type": "code",
   "execution_count": null,
   "metadata": {},
   "outputs": [],
   "source": [
    "new_data_record = {}\n",
    "\n",
    "for task_name, data in data_record.items():\n",
    "    if task_name not in new_data_record:\n",
    "        new_data_record[task_name] = {\n",
    "            \"question\": [],\n",
    "            \"answer\": [],\n",
    "        }\n",
    "        for data_dict in data:\n",
    "            new_data_record[task_name]['question'].append(\n",
    "                \"[任务指南]\\n\" + \n",
    "                data_dict['Instruction'] + \"\\n\" +\n",
    "                \"[任务输入]\\n\" +\n",
    "                data_dict['Input'] + \"\\n\" +\n",
    "                \"[任务输出]：\"\n",
    "            )\n",
    "            new_data_record[task_name]['answer'].append(data_dict['Output'])"
   ]
  },
  {
   "cell_type": "code",
   "execution_count": null,
   "metadata": {},
   "outputs": [],
   "source": [
    "import pandas as pd\n",
    "export_dir = \"/work/u5110390/BenchWeaver/evaluation_data/cif-bench/data/test\"\n",
    "\n",
    "for task_name, data in new_data_record.items():\n",
    "    df = pd.DataFrame(data)\n",
    "    df.to_csv(f\"{export_dir}/{task_name}_test.csv\", index=False)\n",
    "    "
   ]
  },
  {
   "cell_type": "code",
   "execution_count": null,
   "metadata": {},
   "outputs": [],
   "source": [
    "import json\n",
    "with open(\"/work/u5110390/BenchWeaver/evaluation_data/cif-bench/mapping.json\", \"r\") as f:\n",
    "    mapping = json.load(f)\n",
    "    \n",
    "scoreList = list(set([_['category'] for _ in mapping.values()]))\n",
    "scoreList"
   ]
  },
  {
   "cell_type": "markdown",
   "metadata": {},
   "source": [
    "# C3"
   ]
  },
  {
   "cell_type": "code",
   "execution_count": null,
   "metadata": {},
   "outputs": [],
   "source": [
    "import json\n",
    "import os\n",
    "source_dir = \"/work/u5110390/BenchWeaver/evaluation_data/c3/dataset\"\n",
    "file_name_list = os.listdir(source_dir)\n",
    "\n",
    "datasets = []\n",
    "for file_name in file_name_list:\n",
    "    with open(os.path.join(source_dir, file_name), \"r\") as f:\n",
    "        data = json.load(f)\n",
    "    datasets.append(data)"
   ]
  },
  {
   "cell_type": "code",
   "execution_count": null,
   "metadata": {},
   "outputs": [],
   "source": [
    "dataset_record = [\n",
    "    \n",
    "]\n",
    "for dataset in datasets:\n",
    "    record = {\n",
    "        \"paragraph\": [],\n",
    "        \"question\": [],\n",
    "        \"choices\": [],\n",
    "        \"answer\": [],\n",
    "        \"idx\": [],\n",
    "    }\n",
    "    for data_list in dataset:\n",
    "        record[\"paragraph\"].append(\"\\n\".join(data_list[0]))\n",
    "        record[\"question\"].append(data_list[1][0]['question'])\n",
    "        record[\"choices\"].append(str([str(text) for text in data_list[1][0]['choice']]))\n",
    "        record[\"answer\"].append(data_list[1][0]['answer'])\n",
    "        record[\"idx\"].append(data_list[2])\n",
    "        if data_list[1][0]['answer'] not in [str(text) for text in data_list[1][0]['choice']]:\n",
    "            print(data_list)\n",
    "    dataset_record.append(record)\n",
    "    \n",
    "import pandas as pd\n",
    "\n",
    "dataframe_list = []\n",
    "for record in dataset_record:\n",
    "    df = pd.DataFrame(record)\n",
    "    dataframe_list.append(df)\n"
   ]
  },
  {
   "cell_type": "code",
   "execution_count": null,
   "metadata": {},
   "outputs": [],
   "source": [
    "for origin_name, df in zip(file_name_list, dataframe_list):\n",
    "    task = \"mixed\" if \"m\" in origin_name else \"dialogue\"\n",
    "    if \"test\" in origin_name:\n",
    "        split = \"test\"\n",
    "    elif \"train\" in origin_name:\n",
    "        split = \"dev\"\n",
    "    else:\n",
    "        split = \"val\"\n",
    "    df.to_csv(f\"/work/u5110390/BenchWeaver/evaluation_data/c3/data/{split}/{task}_{split}.csv\", index=False)"
   ]
  },
  {
   "cell_type": "markdown",
   "metadata": {},
   "source": [
    "# Chinese SafetyQA"
   ]
  },
  {
   "cell_type": "code",
   "execution_count": null,
   "metadata": {},
   "outputs": [],
   "source": [
    "import json\n",
    "file_path = \"/work/u5110390/BenchWeaver/evaluation_data/chinese-safetyqa/chinese_safetyqa.jsonl\"\n",
    "with open(file_path, \"r\") as f:\n",
    "    data = [json.loads(line) for line in f]\n",
    "import pandas as pd\n",
    "df = pd.DataFrame(data)"
   ]
  },
  {
   "cell_type": "code",
   "execution_count": null,
   "metadata": {},
   "outputs": [],
   "source": [
    "import ast\n",
    "from typing import Tuple\n",
    "choices_list = []\n",
    "for idx in range(df.shape[0]):\n",
    "    choices_list.append([\n",
    "        _ for _ in\n",
    "        ast.literal_eval(df['options'][idx]).values()\n",
    "    ])\n",
    "df['choices'] = choices_list\n",
    "df['answer'] = df['standard_answer']\n",
    "def split_cate(cate: str) -> Tuple:\n",
    "    cate_list = cate.split(\"-\")\n",
    "    return cate_list[0], cate_list[1], cate_list[2]\n",
    "\n",
    "for idx in range(df.shape[0]):\n",
    "    df.loc[idx, 'main_cate'], df.loc[idx, 'sub_cate'], df.loc[idx, 'sub_sub_cate'] = split_cate(df['cate'][idx])\n",
    "df = df[['question', 'answer', 'correct_answer', 'choices', 'main_cate', 'sub_cate', 'sub_sub_cate']]\n"
   ]
  },
  {
   "cell_type": "code",
   "execution_count": null,
   "metadata": {},
   "outputs": [],
   "source": [
    "df = df[df['answer'] == \"2013年\"]\n",
    "df"
   ]
  },
  {
   "cell_type": "code",
   "execution_count": null,
   "metadata": {},
   "outputs": [],
   "source": [
    "task_list = df['main_cate'].unique()\n",
    "task_list"
   ]
  },
  {
   "cell_type": "code",
   "execution_count": null,
   "metadata": {},
   "outputs": [],
   "source": [
    "en_task_list = [\n",
    "    \"theoretical_and_technical_knowledge\",\n",
    "    \"ethical_and_moral_risks\",\n",
    "    \"bias_and_discrimination_risks\",\n",
    "    \"abuse_and_hate_speech_risks\",\n",
    "    \"physical_and_mental_health_risks\",\n",
    "    \"legal_and_regulatory_risks\",\n",
    "    \"rumor_and_misinformation_risks\"\n",
    "]\n"
   ]
  },
  {
   "cell_type": "code",
   "execution_count": null,
   "metadata": {},
   "outputs": [],
   "source": [
    "dfs = df.groupby(['main_cate'])"
   ]
  },
  {
   "cell_type": "code",
   "execution_count": null,
   "metadata": {},
   "outputs": [],
   "source": [
    "import os\n",
    "export_dir = \"/work/u5110390/BenchWeaver/evaluation_data/chinese-safetyqa/data/test\"\n",
    "os.makedirs(export_dir, exist_ok=True)\n",
    "for dataframe, task_name in zip(dfs,  en_task_list):\n",
    "    dataframe[1].to_csv(f\"{export_dir}/{task_name}_test.csv\", index=False)"
   ]
  },
  {
   "cell_type": "code",
   "execution_count": null,
   "metadata": {},
   "outputs": [],
   "source": [
    "import pandas as pd\n",
    "import ast\n",
    "export_dir = \"/work/u5110390/BenchWeaver/evaluation_data/chinese-safetyqa/data/test\"\n",
    "for df_name in os.listdir(export_dir):\n",
    "    df = pd.read_csv(os.path.join(export_dir, df_name))\n",
    "    for i in range(df.shape[0]):\n",
    "        choices = ast.literal_eval(df['choices'][i])\n",
    "        answer = df['answer'][i]\n",
    "        if answer not in choices:\n",
    "            print(df_name, i)\n",
    "            print(df['question'][i])\n",
    "            print(choices)\n",
    "            print(answer)"
   ]
  },
  {
   "cell_type": "markdown",
   "metadata": {},
   "source": [
    "# MT-Bench-TW"
   ]
  },
  {
   "cell_type": "code",
   "execution_count": null,
   "metadata": {},
   "outputs": [],
   "source": [
    "import json\n",
    "file_path = \"/work/u5110390/BenchWeaver/evaluation_data/mt-bench-tw/processed-data.jsonl\"\n",
    "with open(file_path, \"r\") as f:\n",
    "    data = [json.loads(line) for line in f]\n",
    "    \n",
    "data[0].keys()"
   ]
  },
  {
   "cell_type": "code",
   "execution_count": null,
   "metadata": {},
   "outputs": [],
   "source": [
    "\n",
    "from tqdm.auto import tqdm\n",
    "datasets = {}\n",
    "\n",
    "for data_dict in tqdm(data):\n",
    "    if data_dict['category'] not in datasets:\n",
    "        datasets[data_dict['category']] = {\n",
    "            \"question_id\": [],\n",
    "            \"question_turns\": [],\n",
    "            \"answer_turns\": [],\n",
    "        }\n",
    "    data_dict['turns'] = [_ for _ in data_dict['turns'] if _ != \"\"]\n",
    "    assert len(data_dict['turns']) == len(data_dict['reference']), f\"{data_dict['question_id']} {len(data_dict['turns'])} {len(data_dict['reference'])}\"\n",
    "    datasets[data_dict['category']]['question_id'].append(data_dict['question_id'])\n",
    "    datasets[data_dict['category']]['question_turns'].append(data_dict['turns'])\n",
    "    datasets[data_dict['category']]['answer_turns'].append(data_dict['reference'])\n"
   ]
  },
  {
   "cell_type": "code",
   "execution_count": null,
   "metadata": {},
   "outputs": [],
   "source": [
    "import os\n",
    "os.makedirs(\"/work/u5110390/BenchWeaver/evaluation_data/mt-bench-tw/data/test\", exist_ok=True)\n",
    "\n",
    "import pandas as pd\n",
    "\n",
    "for task_name, data in datasets.items():\n",
    "    df = pd.DataFrame(data)\n",
    "    df.to_csv(f\"/work/u5110390/BenchWeaver/evaluation_data/mt-bench-tw/data/test/{task_name}_test.csv\", index=False)\n",
    "\n",
    "df"
   ]
  },
  {
   "cell_type": "code",
   "execution_count": null,
   "metadata": {},
   "outputs": [],
   "source": [
    "list(datasets.keys())"
   ]
  },
  {
   "cell_type": "markdown",
   "metadata": {},
   "source": [
    "# hellaswag"
   ]
  },
  {
   "cell_type": "code",
   "execution_count": null,
   "metadata": {},
   "outputs": [],
   "source": [
    "import json\n",
    "\n",
    "train_path = \"/work/u5110390/BenchWeaver/evaluation_data/hellaswag/hellaswag_train.jsonl\"\n",
    "test_path = \"/work/u5110390/BenchWeaver/evaluation_data/hellaswag/hellaswag_val.jsonl\"\n",
    "\n",
    "with open(train_path, \"r\") as f:\n",
    "    train_data = [json.loads(line) for line in f]\n",
    "\n",
    "with open(test_path, \"r\") as f:\n",
    "    test_data = [json.loads(line) for line in f]\n"
   ]
  },
  {
   "cell_type": "code",
   "execution_count": null,
   "metadata": {},
   "outputs": [],
   "source": [
    "train_dict = {\n",
    "    \"activity_label\": [],\n",
    "    \"split_type\": [],\n",
    "    \"question\": [],\n",
    "    \"A\": [],\n",
    "    \"B\": [],\n",
    "    \"C\": [],\n",
    "    \"D\": [],\n",
    "    \"answer\": [],\n",
    "}\n",
    "\n",
    "test_dict = {\n",
    "    \"activity_label\": [],\n",
    "    \"split_type\": [],\n",
    "    \"question\": [],\n",
    "    \"A\": [],\n",
    "    \"B\": [],\n",
    "    \"C\": [],\n",
    "    \"D\": [],\n",
    "    \"answer\": [],\n",
    "}\n",
    "\n",
    "for data_dict in train_data:\n",
    "    train_dict['activity_label'].append(data_dict['activity_label'])\n",
    "    train_dict['split_type'].append(data_dict['split_type'])\n",
    "    train_dict['question'].append(data_dict['ctx'])\n",
    "    train_dict['A'].append(data_dict['endings'][0])\n",
    "    train_dict['B'].append(data_dict['endings'][1])\n",
    "    train_dict['C'].append(data_dict['endings'][2])\n",
    "    train_dict['D'].append(data_dict['endings'][3])\n",
    "    train_dict['answer'].append(chr(ord('A') + data_dict['label']))\n",
    "    \n",
    "for data_dict in test_data:\n",
    "    test_dict['activity_label'].append(data_dict['activity_label'])\n",
    "    test_dict['split_type'].append(data_dict['split_type'])\n",
    "    test_dict['question'].append(data_dict['ctx'])\n",
    "    test_dict['A'].append(data_dict['endings'][0])\n",
    "    test_dict['B'].append(data_dict['endings'][1])\n",
    "    test_dict['C'].append(data_dict['endings'][2])\n",
    "    test_dict['D'].append(data_dict['endings'][3])\n",
    "    test_dict['answer'].append(chr(ord('A') + data_dict['label']))"
   ]
  },
  {
   "cell_type": "code",
   "execution_count": null,
   "metadata": {},
   "outputs": [],
   "source": [
    "import pandas as pd\n",
    "import os\n",
    "train_df = pd.DataFrame(train_dict)\n",
    "test_df = pd.DataFrame(test_dict)\n",
    "\n",
    "train_df.to_csv(\"/work/u5110390/BenchWeaver/evaluation_data/hellaswag/data/dev/all_train.csv\", index=False)\n",
    "test_df.to_csv(\"/work/u5110390/BenchWeaver/evaluation_data/hellaswag/data/test/all_test.csv\", index=False)"
   ]
  },
  {
   "cell_type": "code",
   "execution_count": null,
   "metadata": {},
   "outputs": [],
   "source": [
    "test_df"
   ]
  },
  {
   "cell_type": "markdown",
   "metadata": {},
   "source": [
    "# IFEval"
   ]
  },
  {
   "cell_type": "code",
   "execution_count": null,
   "metadata": {},
   "outputs": [],
   "source": [
    "import json\n",
    "\n",
    "data_path = \"/work/u5110390/BenchWeaver/evaluation_data/ifeval/input_data.jsonl\"\n",
    "\n",
    "with open(data_path, \"r\") as f:\n",
    "    data = [json.loads(line) for line in f]"
   ]
  },
  {
   "cell_type": "code",
   "execution_count": null,
   "metadata": {},
   "outputs": [],
   "source": [
    "import pandas as pd\n",
    "import os\n",
    "os.makedirs(\"/work/u5110390/BenchWeaver/evaluation_data/ifeval/data/test\", exist_ok=True)\n",
    "df = pd.DataFrame(data)\n",
    "df = df.rename(columns={\n",
    "    \"prompt\": \"question\",\n",
    "})\n",
    "df.to_parquet(\"/work/u5110390/BenchWeaver/evaluation_data/ifeval/data/test/all_test.parquet\", index=False)"
   ]
  },
  {
   "cell_type": "markdown",
   "metadata": {},
   "source": [
    "# flores_plus"
   ]
  },
  {
   "cell_type": "code",
   "execution_count": null,
   "metadata": {},
   "outputs": [],
   "source": [
    "# kor\tHang\tkore1280\tKorean\n",
    "# cmn\tHant\ttaib1240\tMandarin Chinese (Taiwanese)\n",
    "# cmn\tHans\tbeij1234\tMandarin Chinese (Standard Beijing)\n",
    "# eng\tLatn\tstan1293\tEnglish "
   ]
  },
  {
   "cell_type": "code",
   "execution_count": null,
   "metadata": {},
   "outputs": [
    {
     "name": "stderr",
     "output_type": "stream",
     "text": [
      "Using the latest cached version of the dataset since openlanguagedata/flores_plus couldn't be found on the Hugging Face Hub\n",
      "Found the latest cached dataset configuration 'cmn_Hans' at /home/u5110390/.cache/huggingface/datasets/openlanguagedata___flores_plus/cmn_Hans/0.0.0/938b11b24deff75792c7b904cb9802b8cd168564 (last modified on Mon Apr 21 16:41:41 2025).\n",
      "Using the latest cached version of the dataset since openlanguagedata/flores_plus couldn't be found on the Hugging Face Hub\n",
      "Found the latest cached dataset configuration 'cmn_Hant' at /home/u5110390/.cache/huggingface/datasets/openlanguagedata___flores_plus/cmn_Hant/0.0.0/938b11b24deff75792c7b904cb9802b8cd168564 (last modified on Mon Apr 21 16:41:47 2025).\n",
      "Using the latest cached version of the dataset since openlanguagedata/flores_plus couldn't be found on the Hugging Face Hub\n",
      "Found the latest cached dataset configuration 'kor_Hang' at /home/u5110390/.cache/huggingface/datasets/openlanguagedata___flores_plus/kor_Hang/0.0.0/938b11b24deff75792c7b904cb9802b8cd168564 (last modified on Mon Apr 21 16:41:52 2025).\n",
      "Using the latest cached version of the dataset since openlanguagedata/flores_plus couldn't be found on the Hugging Face Hub\n",
      "Found the latest cached dataset configuration 'eng_Latn' at /home/u5110390/.cache/huggingface/datasets/openlanguagedata___flores_plus/eng_Latn/0.0.0/938b11b24deff75792c7b904cb9802b8cd168564 (last modified on Mon Apr 21 16:41:59 2025).\n"
     ]
    }
   ],
   "source": [
    "from datasets import load_dataset\n",
    "# \n",
    "cmn_Hans = load_dataset(\"openlanguagedata/flores_plus\", \"cmn_Hans\")\n",
    "cmn_Hant = load_dataset(\"openlanguagedata/flores_plus\", \"cmn_Hant\")\n",
    "kor_Hang = load_dataset(\"openlanguagedata/flores_plus\", \"kor_Hang\")\n",
    "eng_Latn = load_dataset(\"openlanguagedata/flores_plus\", \"eng_Latn\")"
   ]
  },
  {
   "cell_type": "code",
   "execution_count": null,
   "metadata": {},
   "outputs": [],
   "source": [
    "import os\n",
    "os.makedirs(\"/work/u5110390/BenchWeaver/evaluation_data/flores-plus/data/dev\", exist_ok=True)\n",
    "os.makedirs(\"/work/u5110390/BenchWeaver/evaluation_data/flores-plus/data/test\", exist_ok=True)\n",
    "for dataset, name in zip(\n",
    "    [cmn_Hans, cmn_Hant, kor_Hang, eng_Latn], \n",
    "    [\"cmn_Hans\", \"cmn_Hant\", \"kor_Hang\", \"eng_Latn\"]\n",
    "    ):\n",
    "    dev_df = dataset['dev'].to_pandas()\n",
    "    test_df = dataset['devtest'].to_pandas()\n",
    "    dev_df.to_csv(f\"/work/u5110390/BenchWeaver/evaluation_data/flores-plus/data/dev/{name}_dev.csv\", index=False)\n",
    "    test_df.to_csv(f\"/work/u5110390/BenchWeaver/evaluation_data/flores-plus/data/test/{name}_test.csv\", index=False)"
   ]
  },
  {
   "cell_type": "markdown",
   "metadata": {},
   "source": [
    "# MBPP"
   ]
  },
  {
   "cell_type": "code",
   "execution_count": null,
   "metadata": {},
   "outputs": [],
   "source": [
    "# You are an expert Python programmer, and here is your task: {prompt} Your code should pass these tests:\\n\\n{tests}\\n[BEGIN]\\n{code}\\n[DONE]"
   ]
  },
  {
   "cell_type": "code",
   "execution_count": 2,
   "metadata": {},
   "outputs": [
    {
     "data": {
      "text/plain": [
       "DatasetDict({\n",
       "    train: Dataset({\n",
       "        features: ['task_id', 'text', 'code', 'test_list', 'test_setup_code', 'challenge_test_list'],\n",
       "        num_rows: 374\n",
       "    })\n",
       "    test: Dataset({\n",
       "        features: ['task_id', 'text', 'code', 'test_list', 'test_setup_code', 'challenge_test_list'],\n",
       "        num_rows: 500\n",
       "    })\n",
       "    validation: Dataset({\n",
       "        features: ['task_id', 'text', 'code', 'test_list', 'test_setup_code', 'challenge_test_list'],\n",
       "        num_rows: 90\n",
       "    })\n",
       "    prompt: Dataset({\n",
       "        features: ['task_id', 'text', 'code', 'test_list', 'test_setup_code', 'challenge_test_list'],\n",
       "        num_rows: 10\n",
       "    })\n",
       "})"
      ]
     },
     "execution_count": 2,
     "metadata": {},
     "output_type": "execute_result"
    }
   ],
   "source": [
    "from datasets import load_dataset\n",
    "dataset_full = load_dataset(\"mbpp\")\n",
    "dataset_full"
   ]
  },
  {
   "cell_type": "code",
   "execution_count": 3,
   "metadata": {},
   "outputs": [],
   "source": [
    "train_df = dataset_full['prompt'].to_pandas()\n",
    "test_df = dataset_full['test'].to_pandas()\n",
    "val_df = dataset_full['validation'].to_pandas()\n",
    "\n",
    "train_df.to_parquet(\"/work/u5110390/BenchWeaver/evaluation_data/mbpp/data/dev/full_train.parquet\", index=False)\n",
    "test_df.to_parquet(\"/work/u5110390/BenchWeaver/evaluation_data/mbpp/data/test/full_test.parquet\", index=False)\n",
    "val_df.to_parquet(\"/work/u5110390/BenchWeaver/evaluation_data/mbpp/data/val/full_val.parquet\", index=False)\n"
   ]
  },
  {
   "cell_type": "markdown",
   "metadata": {},
   "source": [
    "# LogicKor"
   ]
  },
  {
   "cell_type": "code",
   "execution_count": 1,
   "metadata": {},
   "outputs": [
    {
     "data": {
      "text/plain": [
       "{'id': 1,\n",
       " 'category': '추론(Reasoning)',\n",
       " 'questions': ['각국의 법률에서는 정의라는 개념이 자주 등장하며, 법령의 형성과 해석에 있어 매우 중요한 부분을 차지한다. 하지만 정의란 명확히 규정할 수 없는 개념이기에 해석의 논란이 있을 수 있다. 그렇다면 사회구성원의 대다수가 납득할 수 있는 보편적 정의를 입증하는 방법은 무엇일지 생각해보아라.',\n",
       "  '위 답변을 영어 문장 3개로 요약한 후. 해당 문장에 있는 단어 3개를 선택하여 단어의 의미를 설명해라.'],\n",
       " 'references': [None, None]}"
      ]
     },
     "execution_count": 1,
     "metadata": {},
     "output_type": "execute_result"
    }
   ],
   "source": [
    "import json\n",
    "def load_jsonl(file_path: str):\n",
    "    with open(file_path, \"r\") as f:\n",
    "        data = [json.loads(line) for line in f]\n",
    "    return data\n",
    "\n",
    "data = load_jsonl(\"/work/u5110390/BenchWeaver/evaluation_data/logickor/questions.jsonl\")\n",
    "data[0]"
   ]
  },
  {
   "cell_type": "code",
   "execution_count": 7,
   "metadata": {},
   "outputs": [
    {
     "data": {
      "application/vnd.jupyter.widget-view+json": {
       "model_id": "dec74fdae6b04ac8b2b004aad9c2c35b",
       "version_major": 2,
       "version_minor": 0
      },
      "text/plain": [
       "  0%|          | 0/42 [00:00<?, ?it/s]"
      ]
     },
     "metadata": {},
     "output_type": "display_data"
    }
   ],
   "source": [
    "from tqdm.auto import tqdm\n",
    "datasets = {}\n",
    "\n",
    "for data_dict in tqdm(data):\n",
    "    if data_dict['category'] not in datasets:\n",
    "        datasets[data_dict['category']] = {\n",
    "            \"question_id\": [],\n",
    "            \"question_turns\": [],\n",
    "            \"answer_turns\": [],\n",
    "        }\n",
    "    datasets[data_dict['category']]['question_id'].append(data_dict['id'])\n",
    "    datasets[data_dict['category']]['question_turns'].append(data_dict['questions'])\n",
    "    answer_turns = []\n",
    "    for answer in data_dict['references']:\n",
    "        if answer is not None:\n",
    "            answer_turns.append(answer)\n",
    "        else:\n",
    "            answer_turns.append(\"\")\n",
    "    datasets[data_dict['category']]['answer_turns'].append(answer_turns)\n",
    "    \n"
   ]
  },
  {
   "cell_type": "code",
   "execution_count": 10,
   "metadata": {},
   "outputs": [],
   "source": [
    "mapping = {}\n",
    "for cat in datasets.keys():\n",
    "    mapping[cat] = {\n",
    "        \"name\": cat,\n",
    "        \"category\": cat,\n",
    "    }"
   ]
  },
  {
   "cell_type": "code",
   "execution_count": 12,
   "metadata": {},
   "outputs": [],
   "source": [
    "with open(\"/work/u5110390/BenchWeaver/evaluation_data/logickor/mapping.json\", \"w\") as f:\n",
    "    json.dump(mapping, f, ensure_ascii=False, indent=2)"
   ]
  },
  {
   "cell_type": "code",
   "execution_count": null,
   "metadata": {},
   "outputs": [],
   "source": [
    "import pandas as pd\n",
    "\n",
    "for task_name, data in datasets.items():\n",
    "    df = pd.DataFrame(data)\n",
    "    df.to_csv(f\"/work/u5110390/BenchWeaver/evaluation_data/logickor/data/test/{task_name}_test.csv\", index=False)"
   ]
  },
  {
   "cell_type": "markdown",
   "metadata": {},
   "source": [
    "# MedMCQA"
   ]
  },
  {
   "cell_type": "code",
   "execution_count": 1,
   "metadata": {},
   "outputs": [
    {
     "data": {
      "application/vnd.jupyter.widget-view+json": {
       "model_id": "a81ec8b595b84021ac10a9fe6cd0821c",
       "version_major": 2,
       "version_minor": 0
      },
      "text/plain": [
       "Downloading readme: 0.00B [00:00, ?B/s]"
      ]
     },
     "metadata": {},
     "output_type": "display_data"
    },
    {
     "data": {
      "application/vnd.jupyter.widget-view+json": {
       "model_id": "1c41ecdd686d4cf3958503f2b26bf82f",
       "version_major": 2,
       "version_minor": 0
      },
      "text/plain": [
       "Downloading data:   0%|          | 0.00/85.9M [00:00<?, ?B/s]"
      ]
     },
     "metadata": {},
     "output_type": "display_data"
    },
    {
     "data": {
      "application/vnd.jupyter.widget-view+json": {
       "model_id": "399c35a83d7542f3be5db784d201ec47",
       "version_major": 2,
       "version_minor": 0
      },
      "text/plain": [
       "Downloading data:   0%|          | 0.00/936k [00:00<?, ?B/s]"
      ]
     },
     "metadata": {},
     "output_type": "display_data"
    },
    {
     "data": {
      "application/vnd.jupyter.widget-view+json": {
       "model_id": "5ea2ed3ce6a44e5398377c54ccadbc60",
       "version_major": 2,
       "version_minor": 0
      },
      "text/plain": [
       "Downloading data:   0%|          | 0.00/1.48M [00:00<?, ?B/s]"
      ]
     },
     "metadata": {},
     "output_type": "display_data"
    },
    {
     "data": {
      "application/vnd.jupyter.widget-view+json": {
       "model_id": "7141e89b6c124f3586323993bde211df",
       "version_major": 2,
       "version_minor": 0
      },
      "text/plain": [
       "Generating train split:   0%|          | 0/182822 [00:00<?, ? examples/s]"
      ]
     },
     "metadata": {},
     "output_type": "display_data"
    },
    {
     "data": {
      "application/vnd.jupyter.widget-view+json": {
       "model_id": "d5aa31a2b6904fb095b578d50de4bde2",
       "version_major": 2,
       "version_minor": 0
      },
      "text/plain": [
       "Generating test split:   0%|          | 0/6150 [00:00<?, ? examples/s]"
      ]
     },
     "metadata": {},
     "output_type": "display_data"
    },
    {
     "data": {
      "application/vnd.jupyter.widget-view+json": {
       "model_id": "6cd8cda890974aa394953df8b094a0bd",
       "version_major": 2,
       "version_minor": 0
      },
      "text/plain": [
       "Generating validation split:   0%|          | 0/4183 [00:00<?, ? examples/s]"
      ]
     },
     "metadata": {},
     "output_type": "display_data"
    }
   ],
   "source": [
    "from datasets import load_dataset\n",
    "\n",
    "ds = load_dataset(\"openlifescienceai/medmcqa\")"
   ]
  },
  {
   "cell_type": "code",
   "execution_count": 4,
   "metadata": {},
   "outputs": [
    {
     "data": {
      "text/plain": [
       "{'id': 'e9ad821a-c438-4965-9f77-760819dfa155',\n",
       " 'question': 'Chronic urethral obstruction due to benign prismatic hyperplasia can lead to the following change in kidney parenchyma',\n",
       " 'opa': 'Hyperplasia',\n",
       " 'opb': 'Hyperophy',\n",
       " 'opc': 'Atrophy',\n",
       " 'opd': 'Dyplasia',\n",
       " 'cop': 2,\n",
       " 'choice_type': 'single',\n",
       " 'exp': 'Chronic urethral obstruction because of urinary calculi, prostatic hyperophy, tumors, normal pregnancy, tumors, uterine prolapse or functional disorders cause hydronephrosis which by definition is used to describe dilatation of renal pelvis and calculus associated with progressive atrophy of the kidney due to obstruction to the outflow of urine Refer Robbins 7yh/9,1012,9/e. P950',\n",
       " 'subject_name': 'Anatomy',\n",
       " 'topic_name': 'Urinary tract'}"
      ]
     },
     "execution_count": 4,
     "metadata": {},
     "output_type": "execute_result"
    }
   ],
   "source": [
    "ds['train'][0]"
   ]
  },
  {
   "cell_type": "code",
   "execution_count": null,
   "metadata": {},
   "outputs": [],
   "source": [
    "from typing import Literal\n",
    "import pandas as pd\n",
    "def format_df(ds, split: str = Literal[\"train\", \"validation\", \"test\"]):\n",
    "    record = {\n",
    "        \"question\": [],\n",
    "        \"A\": [],\n",
    "        \"B\": [],\n",
    "        \"C\": [],\n",
    "        \"D\": [],\n",
    "        \"answer\": [],\n",
    "    }\n",
    "    for item in ds[split]:\n",
    "        record['question'].append(item['question'])\n",
    "        record['A'].append(item['opa'])\n",
    "        record['B'].append(item['opb'])\n",
    "        record['C'].append(item['opc'])\n",
    "        record['D'].append(item['opd'])\n",
    "        record['answer'].append(chr(ord('A') + item['cop']))\n",
    "    return pd.DataFrame(record)\n",
    "\n",
    "format_df(ds, \"validation\").to_csv(\"/work/u5110390/BenchWeaver/evaluation_data/medmcqa/data/test/all_test.csv\", index=False)\n",
    "format_df(ds, \"train\").sample(100).to_csv(\"/work/u5110390/BenchWeaver/evaluation_data/medmcqa/data/dev/all_dev.csv\", index=False)"
   ]
  },
  {
   "cell_type": "markdown",
   "metadata": {},
   "source": [
    "# MedQA"
   ]
  },
  {
   "cell_type": "code",
   "execution_count": 18,
   "metadata": {},
   "outputs": [
    {
     "data": {
      "application/vnd.jupyter.widget-view+json": {
       "model_id": "d25f822b86e54b258523b11faa51f997",
       "version_major": 2,
       "version_minor": 0
      },
      "text/plain": [
       "Downloading readme:   0%|          | 0.00/858 [00:00<?, ?B/s]"
      ]
     },
     "metadata": {},
     "output_type": "display_data"
    },
    {
     "data": {
      "application/vnd.jupyter.widget-view+json": {
       "model_id": "72dac2aef88f4568bff6128bf542a406",
       "version_major": 2,
       "version_minor": 0
      },
      "text/plain": [
       "Downloading data:   0%|          | 0.00/5.68M [00:00<?, ?B/s]"
      ]
     },
     "metadata": {},
     "output_type": "display_data"
    },
    {
     "data": {
      "application/vnd.jupyter.widget-view+json": {
       "model_id": "a50af16362b04094882b80bf6eaeefcf",
       "version_major": 2,
       "version_minor": 0
      },
      "text/plain": [
       "Downloading data:   0%|          | 0.00/739k [00:00<?, ?B/s]"
      ]
     },
     "metadata": {},
     "output_type": "display_data"
    },
    {
     "data": {
      "application/vnd.jupyter.widget-view+json": {
       "model_id": "e04a40bff3024060a29370bd3ee3102f",
       "version_major": 2,
       "version_minor": 0
      },
      "text/plain": [
       "Downloading data:   0%|          | 0.00/720k [00:00<?, ?B/s]"
      ]
     },
     "metadata": {},
     "output_type": "display_data"
    },
    {
     "data": {
      "application/vnd.jupyter.widget-view+json": {
       "model_id": "b9ab395ffc214347bcb9adb847f7a1ec",
       "version_major": 2,
       "version_minor": 0
      },
      "text/plain": [
       "Generating train split:   0%|          | 0/10178 [00:00<?, ? examples/s]"
      ]
     },
     "metadata": {},
     "output_type": "display_data"
    },
    {
     "data": {
      "application/vnd.jupyter.widget-view+json": {
       "model_id": "c3bd459d1bf443c982dfcd32d4a0f7e4",
       "version_major": 2,
       "version_minor": 0
      },
      "text/plain": [
       "Generating test split:   0%|          | 0/1273 [00:00<?, ? examples/s]"
      ]
     },
     "metadata": {},
     "output_type": "display_data"
    },
    {
     "data": {
      "application/vnd.jupyter.widget-view+json": {
       "model_id": "0f802ddbe7b146e6afa9ceae4299392b",
       "version_major": 2,
       "version_minor": 0
      },
      "text/plain": [
       "Generating dev split:   0%|          | 0/1272 [00:00<?, ? examples/s]"
      ]
     },
     "metadata": {},
     "output_type": "display_data"
    }
   ],
   "source": [
    "from datasets import load_dataset\n",
    "\n",
    "ds = load_dataset(\"openlifescienceai/medqa\")"
   ]
  },
  {
   "cell_type": "code",
   "execution_count": 35,
   "metadata": {},
   "outputs": [
    {
     "data": {
      "text/plain": [
       "{'Correct Answer': 'Nitrofurantoin',\n",
       " 'Correct Option': 'D',\n",
       " 'Options': {'A': 'Ampicillin',\n",
       "  'B': 'Ceftriaxone',\n",
       "  'C': 'Doxycycline',\n",
       "  'D': 'Nitrofurantoin'},\n",
       " 'Question': 'A 23-year-old pregnant woman at 22 weeks gestation presents with burning upon urination. She states it started 1 day ago and has been worsening despite drinking more water and taking cranberry extract. She otherwise feels well and is followed by a doctor for her pregnancy. Her temperature is 97.7°F (36.5°C), blood pressure is 122/77 mmHg, pulse is 80/min, respirations are 19/min, and oxygen saturation is 98% on room air. Physical exam is notable for an absence of costovertebral angle tenderness and a gravid uterus. Which of the following is the best treatment for this patient?'}"
      ]
     },
     "execution_count": 35,
     "metadata": {},
     "output_type": "execute_result"
    }
   ],
   "source": [
    "ds['train'][0]['data']"
   ]
  },
  {
   "cell_type": "code",
   "execution_count": 36,
   "metadata": {},
   "outputs": [],
   "source": [
    "def format_df(ds, split: str = Literal[\"train\", \"dev\", \"test\"]):\n",
    "    record = {\n",
    "        \"question\": [],\n",
    "        \"A\": [],\n",
    "        \"B\": [],\n",
    "        \"C\": [],\n",
    "        \"D\": [],\n",
    "        \"answer\": [],\n",
    "    }\n",
    "    for item in ds[split]:\n",
    "        record['question'].append(item['data']['Question'])\n",
    "        record['A'].append(item['data']['Options']['A'])\n",
    "        record['B'].append(item['data']['Options']['B'])\n",
    "        record['C'].append(item['data']['Options']['C'])\n",
    "        record['D'].append(item['data']['Options']['D'])\n",
    "        record['answer'].append(item['data']['Correct Option'])\n",
    "    return pd.DataFrame(record)\n",
    "\n",
    "format_df(ds, \"test\").to_csv(\"/work/u5110390/BenchWeaver/evaluation_data/medqa/data/test/all_test.csv\", index=False)\n",
    "format_df(ds, \"dev\").to_csv(\"/work/u5110390/BenchWeaver/evaluation_data/medqa/data/val/all_val.csv\", index=False)\n",
    "format_df(ds, \"train\").sample(100).to_csv(\"/work/u5110390/BenchWeaver/evaluation_data/medqa/data/dev/all_dev.csv\", index=False)"
   ]
  }
 ],
 "metadata": {
  "kernelspec": {
   "display_name": "BenchWeaver",
   "language": "python",
   "name": "python3"
  },
  "language_info": {
   "codemirror_mode": {
    "name": "ipython",
    "version": 3
   },
   "file_extension": ".py",
   "mimetype": "text/x-python",
   "name": "python",
   "nbconvert_exporter": "python",
   "pygments_lexer": "ipython3",
   "version": "3.11.11"
  }
 },
 "nbformat": 4,
 "nbformat_minor": 2
}
