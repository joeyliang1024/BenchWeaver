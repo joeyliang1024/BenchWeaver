{
 "cells": [
  {
   "cell_type": "markdown",
   "metadata": {},
   "source": [
    "# CLIcK"
   ]
  },
  {
   "cell_type": "code",
   "execution_count": 11,
   "metadata": {},
   "outputs": [
    {
     "data": {
      "text/html": [
       "<div>\n",
       "<style scoped>\n",
       "    .dataframe tbody tr th:only-of-type {\n",
       "        vertical-align: middle;\n",
       "    }\n",
       "\n",
       "    .dataframe tbody tr th {\n",
       "        vertical-align: top;\n",
       "    }\n",
       "\n",
       "    .dataframe thead th {\n",
       "        text-align: right;\n",
       "    }\n",
       "</style>\n",
       "<table border=\"1\" class=\"dataframe\">\n",
       "  <thead>\n",
       "    <tr style=\"text-align: right;\">\n",
       "      <th></th>\n",
       "      <th>id</th>\n",
       "      <th>paragraph</th>\n",
       "      <th>question</th>\n",
       "      <th>choices</th>\n",
       "      <th>answer</th>\n",
       "    </tr>\n",
       "  </thead>\n",
       "  <tbody>\n",
       "    <tr>\n",
       "      <th>0</th>\n",
       "      <td>KIIP_economy_1</td>\n",
       "      <td></td>\n",
       "      <td>다음은 한국 사회의 경제에 대한 문제이다.\\n한국이 외환위기를 완전히 극복한 년도는...</td>\n",
       "      <td>[1999년, 2000년, 2001년, 2002년]</td>\n",
       "      <td>2001년</td>\n",
       "    </tr>\n",
       "    <tr>\n",
       "      <th>1</th>\n",
       "      <td>KIIP_economy_2</td>\n",
       "      <td></td>\n",
       "      <td>다음은 한국 사회의 경제에 대한 문제이다.\\n1960년 한국의 1인당 국민총소득은 ...</td>\n",
       "      <td>[79달러, 800달러, 8,000달러, 80,000달러]</td>\n",
       "      <td>79달러</td>\n",
       "    </tr>\n",
       "    <tr>\n",
       "      <th>2</th>\n",
       "      <td>KIIP_economy_3</td>\n",
       "      <td></td>\n",
       "      <td>다음은 한국 사회의 경제에 대한 문제이다.\\n한국이 외환위기를 겪은 년도는 언제인가?</td>\n",
       "      <td>[1995년, 1996년, 1997년, 1998년]</td>\n",
       "      <td>1997년</td>\n",
       "    </tr>\n",
       "    <tr>\n",
       "      <th>3</th>\n",
       "      <td>KIIP_economy_4</td>\n",
       "      <td></td>\n",
       "      <td>다음은 한국 사회의 경제에 대한 문제이다.\\n한강은 어느 도시를 통과하는가?</td>\n",
       "      <td>[부산, 대구, 인천, 서울]</td>\n",
       "      <td>서울</td>\n",
       "    </tr>\n",
       "    <tr>\n",
       "      <th>4</th>\n",
       "      <td>KIIP_economy_5</td>\n",
       "      <td></td>\n",
       "      <td>다음은 한국 사회의 경제에 대한 문제이다.\\n1970년대부터 한국에서 발달하기 시작...</td>\n",
       "      <td>[농업, 경공업, 중화학 공업, 서비스 업]</td>\n",
       "      <td>중화학 공업</td>\n",
       "    </tr>\n",
       "  </tbody>\n",
       "</table>\n",
       "</div>"
      ],
      "text/plain": [
       "               id paragraph  \\\n",
       "0  KIIP_economy_1             \n",
       "1  KIIP_economy_2             \n",
       "2  KIIP_economy_3             \n",
       "3  KIIP_economy_4             \n",
       "4  KIIP_economy_5             \n",
       "\n",
       "                                            question  \\\n",
       "0  다음은 한국 사회의 경제에 대한 문제이다.\\n한국이 외환위기를 완전히 극복한 년도는...   \n",
       "1  다음은 한국 사회의 경제에 대한 문제이다.\\n1960년 한국의 1인당 국민총소득은 ...   \n",
       "2    다음은 한국 사회의 경제에 대한 문제이다.\\n한국이 외환위기를 겪은 년도는 언제인가?   \n",
       "3         다음은 한국 사회의 경제에 대한 문제이다.\\n한강은 어느 도시를 통과하는가?   \n",
       "4  다음은 한국 사회의 경제에 대한 문제이다.\\n1970년대부터 한국에서 발달하기 시작...   \n",
       "\n",
       "                            choices  answer  \n",
       "0      [1999년, 2000년, 2001년, 2002년]   2001년  \n",
       "1  [79달러, 800달러, 8,000달러, 80,000달러]    79달러  \n",
       "2      [1995년, 1996년, 1997년, 1998년]   1997년  \n",
       "3                  [부산, 대구, 인천, 서울]      서울  \n",
       "4          [농업, 경공업, 중화학 공업, 서비스 업]  중화학 공업  "
      ]
     },
     "execution_count": 11,
     "metadata": {},
     "output_type": "execute_result"
    }
   ],
   "source": [
    "from datasets import load_dataset\n",
    "from typing import Tuple\n",
    "import pandas as pd\n",
    "\n",
    "ds = load_dataset(\"EunsuKim/CLIcK\")\n",
    "df = ds['train'].to_pandas()\n",
    "df.head()"
   ]
  },
  {
   "cell_type": "code",
   "execution_count": 12,
   "metadata": {},
   "outputs": [],
   "source": [
    "def extract_category(id_text: str) -> str:\n",
    "    text_split = id_text.split('_')\n",
    "    return text_split[0]\n"
   ]
  },
  {
   "cell_type": "code",
   "execution_count": 13,
   "metadata": {},
   "outputs": [
    {
     "name": "stdout",
     "output_type": "stream",
     "text": [
      "{'PSAT', 'KHB', 'Kedu', 'PSE', 'KIIP', 'TK', 'CSAT'}\n"
     ]
    }
   ],
   "source": [
    "df['categories'] = df['id'].apply(lambda x: extract_category(x))\n",
    "df['choices'] = df['choices'].apply(lambda x: [str(_) for _ in list(x)])\n",
    "print(set(df['categories']))\n",
    "\n",
    "keys = list(set(df['categories']))"
   ]
  },
  {
   "cell_type": "code",
   "execution_count": 15,
   "metadata": {},
   "outputs": [
    {
     "data": {
      "text/plain": [
       "['1999년', '2000년', '2001년', '2002년']"
      ]
     },
     "execution_count": 15,
     "metadata": {},
     "output_type": "execute_result"
    }
   ],
   "source": [
    "df['choices'].iloc[0]"
   ]
  },
  {
   "cell_type": "code",
   "execution_count": 16,
   "metadata": {},
   "outputs": [],
   "source": [
    "df = df[['paragraph', 'question', 'choices', 'answer', 'categories']]\n",
    "dfs = df.groupby('categories')"
   ]
  },
  {
   "cell_type": "code",
   "execution_count": 17,
   "metadata": {},
   "outputs": [
    {
     "data": {
      "text/html": [
       "<div>\n",
       "<style scoped>\n",
       "    .dataframe tbody tr th:only-of-type {\n",
       "        vertical-align: middle;\n",
       "    }\n",
       "\n",
       "    .dataframe tbody tr th {\n",
       "        vertical-align: top;\n",
       "    }\n",
       "\n",
       "    .dataframe thead th {\n",
       "        text-align: right;\n",
       "    }\n",
       "</style>\n",
       "<table border=\"1\" class=\"dataframe\">\n",
       "  <thead>\n",
       "    <tr style=\"text-align: right;\">\n",
       "      <th></th>\n",
       "      <th>paragraph</th>\n",
       "      <th>question</th>\n",
       "      <th>choices</th>\n",
       "      <th>answer</th>\n",
       "      <th>categories</th>\n",
       "    </tr>\n",
       "  </thead>\n",
       "  <tbody>\n",
       "    <tr>\n",
       "      <th>1690</th>\n",
       "      <td></td>\n",
       "      <td>( )에 들어갈 가장 알맞은 것을 고르십시오.\\n내일 친구와 함께 놀이공원에 ( ).</td>\n",
       "      <td>[가는 편이다, 가는 중이다, 가기로 했다, 간 적이 있다]</td>\n",
       "      <td>가기로 했다</td>\n",
       "      <td>TK</td>\n",
       "    </tr>\n",
       "    <tr>\n",
       "      <th>1691</th>\n",
       "      <td></td>\n",
       "      <td>( )에 들어갈 가장 알맞은 것을 고르십시오.\\n혼자 살다 보니 시간이 ( ) 가족...</td>\n",
       "      <td>[지나거나, 지나도록, 지나거든, 지날수록]</td>\n",
       "      <td>지날수록</td>\n",
       "      <td>TK</td>\n",
       "    </tr>\n",
       "    <tr>\n",
       "      <th>1692</th>\n",
       "      <td></td>\n",
       "      <td>다음 괄호 안 부분과 의미가 비슷한 것을 고르십시오.\\n아침에 늦게 (일어나는 바람...</td>\n",
       "      <td>[일어난 탓에, 일어난 김에, 일어나는 대신, 일어나는 대로]</td>\n",
       "      <td>일어난 탓에</td>\n",
       "      <td>TK</td>\n",
       "    </tr>\n",
       "    <tr>\n",
       "      <th>1693</th>\n",
       "      <td></td>\n",
       "      <td>다음 괄호 안 부분과 의미가 비슷한 것을 고르십시오.\\n경기에서 이기고 지는 것은 ...</td>\n",
       "      <td>[연습할 따름이다, 연습할 모양이다, 연습하기 나름이다, 연습하기 십상이다]</td>\n",
       "      <td>연습하기 나름이다</td>\n",
       "      <td>TK</td>\n",
       "    </tr>\n",
       "    <tr>\n",
       "      <th>1694</th>\n",
       "      <td></td>\n",
       "      <td>(  )에 들어갈 가장 알맞은 것을 고르십시오.\\n해가 뜨는 것을 (  ) 아침 일...</td>\n",
       "      <td>[보아야, 보려고, 보거나, 보는데]</td>\n",
       "      <td>보려고</td>\n",
       "      <td>TK</td>\n",
       "    </tr>\n",
       "    <tr>\n",
       "      <th>...</th>\n",
       "      <td>...</td>\n",
       "      <td>...</td>\n",
       "      <td>...</td>\n",
       "      <td>...</td>\n",
       "      <td>...</td>\n",
       "    </tr>\n",
       "    <tr>\n",
       "      <th>1990</th>\n",
       "      <td>올해 서른두 살인 준은 어렸을 때부터 특출나게 뛰어난 재능이 없다는 점이 큰 불만이...</td>\n",
       "      <td>다음 글의 내용으로 알 수 있는 것을 고르십시오.</td>\n",
       "      <td>[준은 여행지에서 해 뜨는 방향을 한 번에 찾았다., 준의 부모님은 아들과 같은 능...</td>\n",
       "      <td>준은 여행지에서 해 뜨는 방향을 한 번에 찾았다.</td>\n",
       "      <td>TK</td>\n",
       "    </tr>\n",
       "    <tr>\n",
       "      <th>1991</th>\n",
       "      <td>서양 역사에서는 15ㆍ16세기를 ‘위대한 발견의 시대’라고 부른다. 콜럼버스 처럼 ...</td>\n",
       "      <td>( )에 들어갈 말로 가장 알맞은 것을 고르십시오.</td>\n",
       "      <td>[값비싼 물건을 매매했기, 다양한 지도를 수집했기, 미지의 땅을 찾아 떠났기, 탐험...</td>\n",
       "      <td>미지의 땅을 찾아 떠났기</td>\n",
       "      <td>TK</td>\n",
       "    </tr>\n",
       "    <tr>\n",
       "      <th>1992</th>\n",
       "      <td>서양 역사에서는 15ㆍ16세기를 ‘위대한 발견의 시대’라고 부른다. 콜럼버스 처럼 ...</td>\n",
       "      <td>다음 글의 주제로 가장 알맞은 것을 고르십시오.</td>\n",
       "      <td>[콜럼버스는 새로운 대륙을 개척하는 데 기여한 바가 크다., 신대륙 발견은 동방의 ...</td>\n",
       "      <td>유럽인들의 탐험은 항로를 만들어 세계를 연결시켰다는 데 의의가 있다.</td>\n",
       "      <td>TK</td>\n",
       "    </tr>\n",
       "    <tr>\n",
       "      <th>1993</th>\n",
       "      <td>세계는 신에너지, 자동화, 우주여행 등이 주도하는 시대로 급속히 접어들고 있다. 세...</td>\n",
       "      <td>다음 글에 나타난 필자의 태도로 가장 알맞은 것을 고르십시오.</td>\n",
       "      <td>[과학 정책에 대한 정부의 지나친 개입을 경계하고 있다., 과학 기술 발전을 위해서...</td>\n",
       "      <td>과학 정책에 대한 정부의 지나친 개입을 경계하고 있다.</td>\n",
       "      <td>TK</td>\n",
       "    </tr>\n",
       "    <tr>\n",
       "      <th>1994</th>\n",
       "      <td>세계는 신에너지, 자동화, 우주여행 등이 주도하는 시대로 급속히 접어들고 있다. 세...</td>\n",
       "      <td>다음 글의 내용과 같은 것을 고르십시오.</td>\n",
       "      <td>[많은 국가들이 신에너지 개발에 대한 투자를 줄이고 있다., 과학 정책이 빠르게 변...</td>\n",
       "      <td>정부가 우주 산업에 대한 규제를 풀어 성장한 민간 기업이 있다.</td>\n",
       "      <td>TK</td>\n",
       "    </tr>\n",
       "  </tbody>\n",
       "</table>\n",
       "<p>237 rows × 5 columns</p>\n",
       "</div>"
      ],
      "text/plain": [
       "                                              paragraph  \\\n",
       "1690                                                      \n",
       "1691                                                      \n",
       "1692                                                      \n",
       "1693                                                      \n",
       "1694                                                      \n",
       "...                                                 ...   \n",
       "1990  올해 서른두 살인 준은 어렸을 때부터 특출나게 뛰어난 재능이 없다는 점이 큰 불만이...   \n",
       "1991  서양 역사에서는 15ㆍ16세기를 ‘위대한 발견의 시대’라고 부른다. 콜럼버스 처럼 ...   \n",
       "1992  서양 역사에서는 15ㆍ16세기를 ‘위대한 발견의 시대’라고 부른다. 콜럼버스 처럼 ...   \n",
       "1993  세계는 신에너지, 자동화, 우주여행 등이 주도하는 시대로 급속히 접어들고 있다. 세...   \n",
       "1994  세계는 신에너지, 자동화, 우주여행 등이 주도하는 시대로 급속히 접어들고 있다. 세...   \n",
       "\n",
       "                                               question  \\\n",
       "1690    ( )에 들어갈 가장 알맞은 것을 고르십시오.\\n내일 친구와 함께 놀이공원에 ( ).   \n",
       "1691  ( )에 들어갈 가장 알맞은 것을 고르십시오.\\n혼자 살다 보니 시간이 ( ) 가족...   \n",
       "1692  다음 괄호 안 부분과 의미가 비슷한 것을 고르십시오.\\n아침에 늦게 (일어나는 바람...   \n",
       "1693  다음 괄호 안 부분과 의미가 비슷한 것을 고르십시오.\\n경기에서 이기고 지는 것은 ...   \n",
       "1694  (  )에 들어갈 가장 알맞은 것을 고르십시오.\\n해가 뜨는 것을 (  ) 아침 일...   \n",
       "...                                                 ...   \n",
       "1990                        다음 글의 내용으로 알 수 있는 것을 고르십시오.   \n",
       "1991                       ( )에 들어갈 말로 가장 알맞은 것을 고르십시오.   \n",
       "1992                         다음 글의 주제로 가장 알맞은 것을 고르십시오.   \n",
       "1993                 다음 글에 나타난 필자의 태도로 가장 알맞은 것을 고르십시오.   \n",
       "1994                             다음 글의 내용과 같은 것을 고르십시오.   \n",
       "\n",
       "                                                choices  \\\n",
       "1690                  [가는 편이다, 가는 중이다, 가기로 했다, 간 적이 있다]   \n",
       "1691                           [지나거나, 지나도록, 지나거든, 지날수록]   \n",
       "1692                 [일어난 탓에, 일어난 김에, 일어나는 대신, 일어나는 대로]   \n",
       "1693         [연습할 따름이다, 연습할 모양이다, 연습하기 나름이다, 연습하기 십상이다]   \n",
       "1694                               [보아야, 보려고, 보거나, 보는데]   \n",
       "...                                                 ...   \n",
       "1990  [준은 여행지에서 해 뜨는 방향을 한 번에 찾았다., 준의 부모님은 아들과 같은 능...   \n",
       "1991  [값비싼 물건을 매매했기, 다양한 지도를 수집했기, 미지의 땅을 찾아 떠났기, 탐험...   \n",
       "1992  [콜럼버스는 새로운 대륙을 개척하는 데 기여한 바가 크다., 신대륙 발견은 동방의 ...   \n",
       "1993  [과학 정책에 대한 정부의 지나친 개입을 경계하고 있다., 과학 기술 발전을 위해서...   \n",
       "1994  [많은 국가들이 신에너지 개발에 대한 투자를 줄이고 있다., 과학 정책이 빠르게 변...   \n",
       "\n",
       "                                      answer categories  \n",
       "1690                                  가기로 했다         TK  \n",
       "1691                                    지날수록         TK  \n",
       "1692                                  일어난 탓에         TK  \n",
       "1693                               연습하기 나름이다         TK  \n",
       "1694                                     보려고         TK  \n",
       "...                                      ...        ...  \n",
       "1990             준은 여행지에서 해 뜨는 방향을 한 번에 찾았다.         TK  \n",
       "1991                           미지의 땅을 찾아 떠났기         TK  \n",
       "1992  유럽인들의 탐험은 항로를 만들어 세계를 연결시켰다는 데 의의가 있다.         TK  \n",
       "1993          과학 정책에 대한 정부의 지나친 개입을 경계하고 있다.         TK  \n",
       "1994     정부가 우주 산업에 대한 규제를 풀어 성장한 민간 기업이 있다.         TK  \n",
       "\n",
       "[237 rows x 5 columns]"
      ]
     },
     "execution_count": 17,
     "metadata": {},
     "output_type": "execute_result"
    }
   ],
   "source": [
    "dfs.get_group('TK')"
   ]
  },
  {
   "cell_type": "code",
   "execution_count": null,
   "metadata": {},
   "outputs": [],
   "source": [
    "# save each group to folder with name: category_test.csv\n",
    "folder = \"/work/u5110390/BenchWeaver/evaluation_data/click/data/test\"\n",
    "import os\n",
    "for key in keys:\n",
    "    group = dfs.get_group(key)\n",
    "    group.to_csv(os.path.join(folder, f\"{key}_test.csv\"), index=False)"
   ]
  },
  {
   "cell_type": "markdown",
   "metadata": {},
   "source": [
    "# HAE_RAE_BENCH 1.0"
   ]
  },
  {
   "cell_type": "code",
   "execution_count": 44,
   "metadata": {},
   "outputs": [],
   "source": [
    "from datasets import load_dataset, get_dataset_config_names\n",
    "from typing import Tuple\n",
    "import pandas as pd\n"
   ]
  },
  {
   "cell_type": "code",
   "execution_count": 45,
   "metadata": {},
   "outputs": [],
   "source": [
    "opqa = ['lyrics_denoising', 'proverbs_denoising']\n",
    "mcqa = ['correct_definition_matching', 'csat_geo', 'csat_law', 'csat_socio', 'date_understanding', 'general_knowledge', 'history', 'loan_words', 'rare_words', 'standard_nomenclature', 'reading_comprehension']"
   ]
  },
  {
   "cell_type": "markdown",
   "metadata": {},
   "source": [
    "## MCQA"
   ]
  },
  {
   "cell_type": "code",
   "execution_count": 46,
   "metadata": {},
   "outputs": [
    {
     "name": "stderr",
     "output_type": "stream",
     "text": [
      "100%|██████████| 11/11 [00:17<00:00,  1.61s/it, reading_comprehension]     "
     ]
    },
    {
     "name": "stdout",
     "output_type": "stream",
     "text": [
      "{'(D)', '(E)', '(A)', '(B)', '(C)'}\n",
      "5\n"
     ]
    },
    {
     "name": "stderr",
     "output_type": "stream",
     "text": [
      "\n"
     ]
    }
   ],
   "source": [
    "# check options for each task\n",
    "import ast\n",
    "from tqdm.auto import  tqdm\n",
    "answers = []\n",
    "with  tqdm(total=len(mcqa)) as pbar:\n",
    "    for task in mcqa:\n",
    "        pbar.set_postfix_str(task)\n",
    "        ds = load_dataset(\"HAERAE-HUB/HAE_RAE_BENCH_1.1\", task)\n",
    "        df = ds['test'].to_pandas()\n",
    "        answers.extend(df['answer'].tolist())\n",
    "        for idx in range(df.shape[0]):\n",
    "            try:\n",
    "                option_list = ast.literal_eval(df['options'].iloc[idx])\n",
    "            except:\n",
    "                option_list = df['options'].iloc[idx].split(\"|\")\n",
    "            if len(option_list) != 5:\n",
    "                print(idx, df['options'].iloc[idx])\n",
    "        pbar.update(1)\n",
    "print(set(answers))\n",
    "print(len(set(answers)))"
   ]
  },
  {
   "cell_type": "code",
   "execution_count": 47,
   "metadata": {},
   "outputs": [
    {
     "name": "stderr",
     "output_type": "stream",
     "text": [
      "  9%|▉         | 1/11 [00:04<00:41,  4.11s/it, csat_geo]                   "
     ]
    },
    {
     "name": "stdout",
     "output_type": "stream",
     "text": [
      "-------------------correct_definition_matching-------------------\n",
      "다음 문장에서 \"가노\"가 사용된 의미로 옳은 것을 고르시요. \n",
      "    \n",
      "### 문장: \n",
      "이미 타계한 지 오래인 그의 조부가 서유하 씨 부친이었던 대지주 서 참봉 댁 가노로 있었다.\n",
      "\n",
      "### 선택지: \n",
      "(A) 일본 중부 지방의 중앙부에 있는 현. 제사업, 정밀 기계, 전기 기계 따위의 산업이 발달하였으며, 쌀 및 고랭지 채소의 산지로 알려져 있다. 사과, 배, 포도 따위의 과일도 많이 난다. 현청 소재지는 나가노, 면적은 1만 3633㎢.\n",
      "(B) 16세기에서 17세기 사이의 제정 러시아의 부호 집안. 16세기 중반 이반 사세(Ivan四世)의 신임을 얻으면서부터 융성하여 광대한 직할령, 제염, 제철 따위의 특권을 부여받고 사병(私兵)ㆍ요새의 소유도 인정받았으며 시베리아의 개척에 공헌하였다.\n",
      "(C) 이탈리아의 무용가ㆍ안무가(1769~1821). 발레를 춤추는 드라마로 끌어올린 혁신적인 안무가였다. 베토벤이 그를 위하여 작곡한 <프로메테의 창조물>의 안무가 유명하다.\n",
      "(D) ‘가내 노비’를 줄여 이르는 말.\n",
      "(E) 일본 나가노현 북부에 있는 시. 인쇄, 식료품, 전기 기기 따위의 공업과 상업이 발달하였다. 교외에서는 사과, 야채 따위의 재배가 활발하다. 현청 소재지이다.\n",
      "\n",
      "### 정답:\n",
      "=================================\n"
     ]
    },
    {
     "name": "stderr",
     "output_type": "stream",
     "text": [
      " 18%|█▊        | 2/11 [00:05<00:21,  2.44s/it, csat_law]"
     ]
    },
    {
     "name": "stdout",
     "output_type": "stream",
     "text": [
      "-------------------csat_geo-------------------\n",
      "다음 자료는 대동여지도 제작에 관한 가상 대화 장면이다. (ㄱ)~(ㄹ)에 대한 옳은 설명만을 <보기>에서 있는 대로 고른 것은?\n",
      "\n",
      "### 참고:\n",
      "<word start>(ㄱ)산줄기<word end>는 끊어지지 않게 하고, 물줄기는 <word start>(ㄴ)쌍선<word end>과 단선으로 구분해서 새기도록 하여라.\n",
      "예. 도로에는 <word start>(ㄷ)방점<word end>도 표시하겠습니다. 그런데 <word start>(ㄹ)목판<word end>에 새기자니 시간이 많이 걸리네요.\n",
      "\n",
      "<보기>\n",
      "(A). (ㄱ)은 하천 유역을 나누는 경계가 된다.\n",
      "(B). (ㄴ)은 배가 다닐 수 있는 하천을 나타낸 것이다.\n",
      "(C). (ㄷ)은 교통 및 통신 시설을 표현한 기호이다.\n",
      "(D). (ㄹ)로 제작되어 지도의 대량 생산이 가능하다.\n",
      "### 선택지: (A)  (A), (B)  (B)  (C), (D)  (C)  (A), (B), (C)  (D)  (A), (B), (D)  (E)  (B), (C), (D)\n",
      "=================================\n"
     ]
    },
    {
     "name": "stderr",
     "output_type": "stream",
     "text": [
      " 27%|██▋       | 3/11 [00:06<00:15,  1.93s/it, csat_socio]"
     ]
    },
    {
     "name": "stdout",
     "output_type": "stream",
     "text": [
      "-------------------csat_law-------------------\n",
      "다음 자료에 대한 옳은 설명만을 <보기>에서 고른 것은?\n",
      "### 참고:\n",
      "[게임의 규칙]\n",
      "◦ 각 모둠은 (가) ~ (라) 사례 중 서로 다른 두 가지를 선택한다.\n",
      "◦ 선택한 사례가 범죄의 구성 요건에 해당하지 않으면 3점, 위법성 조각 사유에 해당하면 2점, 책임 조각 사유에 해당하면 1점을 획득한다.\n",
      "◦ 범죄가 성립하는 사례를 선택하면 점수를 획득하지 못한다.\n",
      "◦ 선택한 두 사례로 획득한 총점이 가장 높은 모둠이 우승한다.\n",
      "[사례]\n",
      "(가) 갑(14세)은 동급생을 위협하여 금품을 빼앗았다.\n",
      "(나) 을(22세)은 음식점에서 남의 것이라고 생각하고 지갑을 훔쳤는데 알고 보니 자신의 지갑이었다.\n",
      "(다) 병(25세)은 자신의 집에 침입하여 생명을 위협하는 강도를 제압하는 과정에서 강도에게 가벼운 상처를 입혔다.\n",
      "(라) 정(30세)은 심신 상실의 상태에서 행인에게 폭행을 가하였다.\n",
      "<모둠별 선택 결과>\n",
      "\\begin{table}[]\n",
      "\\begin{tabular}{lllll}\n",
      "모둠    & A 모둠     & B 모둠     & C 모둠     & D 모둠     \\\\\n",
      "선택 결과 & (가), (나) & (가), (다) & (나), (다) & (다), (라)\n",
      "\\end{tabular}\n",
      "\\end{table}\n",
      "<보기>\n",
      "ㄱ. B 모둠의 총점이 가장 낮다.\n",
      "ㄴ. 우승한 모둠은 C 모둠이다.\n",
      "ㄷ. A 모둠의 총점은 D 모둠의 총점보다 높다.\n",
      "ㄹ. 두 가지 사례로 획득할 수 있는 총점은 최대 6점이다.\n",
      "\n",
      "### 선택지: (A) ㄱ, ㄴ (B) ㄱ, ㄷ (C) ㄴ, ㄷ (D) ㄴ, ㄹ (E) ㄷ, ㄹ\n",
      "=================================\n"
     ]
    },
    {
     "name": "stderr",
     "output_type": "stream",
     "text": [
      " 36%|███▋      | 4/11 [00:07<00:11,  1.67s/it, date_understanding]"
     ]
    },
    {
     "name": "stdout",
     "output_type": "stream",
     "text": [
      "-------------------csat_socio-------------------\n",
      "밑줄 친 (ㄱ) ～ (ㅅ)에 대한 설명으로 옳은 것은? \n",
      "### 참고:\n",
      "연구자 갑은 ‘고등학생의 <word>(ㄱ) 학업 성취도<word/>에 <word>(ㄴ) 꾸준한 운동<word/>이 미치는 영향’을 <word>(ㄷ) 연구 주제로 설정<word/>하고, 고등학생의 학업 성취도에 꾸준한 운동이 긍정적인 효과가 있을 것이라는 가설을 세웠다. 그리고 평소 운동을 꾸준히 하지 않는 고등학생 100명을 모집하여 50명씩 <word>(ㄹ) (A) 집단<word/>과 <word>(ㅁ) (B) 집단<word/>으로 나누었다. 갑은 <word>(ㅂ) 사전 검사<word/>를 실시한 후 6개월 동안 한 집단은 <word>(ㅅ) 매일 20분씩 달리기를 하도록 하였고<word/>, 다른 한 집단은 평소처럼 생활하도록 하였다. 6개월 후 사후 검사를 실시하여 사전 검사 결과와 비교해 보니 (A) 집단과 달리 (B) 집단의 경우 학업 성취도가 유의미하게 향상되어 갑은 가설이 타당하다는 결론을 내렸다.\n",
      "### 선택지: (A) (ㄱ)은 독립 변인, (ㄴ)은 종속 변인이다. (B) (ㄷ)에서 연구자의 가치 중립이 필수적이다. (C) (ㄹ)은 통제 집단, (ㅁ)은 실험 집단이다. (D) (ㅂ)은 실험 처치 전 독립 변인을 측정하기 위한 검사이다. (E) (ㅅ)은 종속 변인에 대한 조작적 정의를 바탕으로 한 실험 처치이다.\n",
      "=================================\n"
     ]
    },
    {
     "name": "stderr",
     "output_type": "stream",
     "text": [
      " 45%|████▌     | 5/11 [00:12<00:15,  2.53s/it, general_knowledge] "
     ]
    },
    {
     "name": "stdout",
     "output_type": "stream",
     "text": [
      "-------------------date_understanding-------------------\n",
      "다음 질문에 대답으로 가장 적절한 것을 고르시요.\n",
      "### 질문:\n",
      "올해는 2020년, 오늘은 광복절 입니다. 친구와 익일 후에 만나기로 약속을 잡았다면, 우리가 만나는 날짜는 언제인가요?\n",
      "\n",
      "### 선택지:\n",
      "(A) 2020-08-17\n",
      "(B) 2020-08-13\n",
      "(C) 2020-08-16\n",
      "(D) 2022-08-16\n",
      "(E) 2028-11-19\n",
      "\n",
      "### 정답:\n",
      "=================================\n"
     ]
    },
    {
     "name": "stderr",
     "output_type": "stream",
     "text": [
      " 55%|█████▍    | 6/11 [00:13<00:11,  2.24s/it, history]          "
     ]
    },
    {
     "name": "stdout",
     "output_type": "stream",
     "text": [
      "-------------------general_knowledge-------------------\n",
      "다음 질문을 읽고 정답으로 가장 알맞은 것을 고르시요.\n",
      "    \n",
      "### 질문: \n",
      "다음은 무엇에 대한 이야기입니까?\n",
      "### 참고:한국에서는 명절에 조상의 산소를 찾아가 인사를 드리고 산소를 살핀다.\n",
      "\n",
      "### 선택지: \n",
      "(A) 추석\n",
      "(B) 제사\n",
      "(C) 성묘\n",
      "(D) 백일\n",
      "(E) 장례\n",
      "\n",
      "### 정답:\n",
      "=================================\n"
     ]
    },
    {
     "name": "stderr",
     "output_type": "stream",
     "text": [
      " 64%|██████▎   | 7/11 [00:15<00:07,  1.99s/it, loan_words]"
     ]
    },
    {
     "name": "stdout",
     "output_type": "stream",
     "text": [
      "-------------------history-------------------\n",
      "다음 질문을 읽고 정답으로 가장 알맞은 것을 고르시요.\n",
      "    \n",
      "### 질문: \n",
      "청동기 시대에 커다란 돌을 쌓아 만든 족장의 무덤을 무엇이라고 하는가?\n",
      "\n",
      "### 선택지: \n",
      "(A) 고분\n",
      "(B) 고인돌\n",
      "(C) 돌무덤\n",
      "(D) 돌기와집\n",
      "(E) 굴식돌방\n",
      "\n",
      "### 정답:\n",
      "=================================\n"
     ]
    },
    {
     "name": "stderr",
     "output_type": "stream",
     "text": [
      " 73%|███████▎  | 8/11 [00:16<00:05,  1.78s/it, rare_words]"
     ]
    },
    {
     "name": "stdout",
     "output_type": "stream",
     "text": [
      "-------------------loan_words-------------------\n",
      "다음 질문을 읽고 정답으로 가장 알맞은 것을 고르시요.\n",
      "    \n",
      "### 질문: \n",
      "언택트의 순화어 알맞은 것은?\n",
      "\n",
      "### 선택지: \n",
      "(A) 비전속\n",
      "(B) 부대기\n",
      "(C) 기대주\n",
      "(D) 상대방\n",
      "(E) 비대면\n",
      "\n",
      "### 정답:\n",
      "=================================\n"
     ]
    },
    {
     "name": "stderr",
     "output_type": "stream",
     "text": [
      " 82%|████████▏ | 9/11 [00:17<00:03,  1.62s/it, standard_nomenclature]"
     ]
    },
    {
     "name": "stdout",
     "output_type": "stream",
     "text": [
      "-------------------rare_words-------------------\n",
      "다음 질문을 읽고 정답으로 가장 알맞은 것을 고르시요.\n",
      "    \n",
      "### 질문: \n",
      "물건을 만들 때에 다듬지 않고 거칠게 대강 만드는 일의 의미를 가진 단어로 알맞은 것은?\n",
      "\n",
      "### 선택지: \n",
      "(A) 건널목\n",
      "(B) 나들목\n",
      "(C) 속재목\n",
      "(D) 건목\n",
      "(E) 조건문\n",
      "\n",
      "### 정답:\n",
      "=================================\n"
     ]
    },
    {
     "name": "stderr",
     "output_type": "stream",
     "text": [
      " 91%|█████████ | 10/11 [00:19<00:01,  1.51s/it, reading_comprehension]"
     ]
    },
    {
     "name": "stdout",
     "output_type": "stream",
     "text": [
      "-------------------standard_nomenclature-------------------\n",
      "다음 질문을 읽고 정답으로 가장 알맞은 것을 고르시요.\n",
      "    \n",
      "### 질문: \n",
      "욜드의 올바른 표준 전문 용어로 알맞은 것은?\n",
      "\n",
      "### 선택지: \n",
      "(A) 청노년\n",
      "(B) 청소원\n",
      "(C) 청바지\n",
      "(D) 청동끌\n",
      "(E) 청소년복\n",
      "\n",
      "### 정답:\n",
      "=================================\n"
     ]
    },
    {
     "name": "stderr",
     "output_type": "stream",
     "text": [
      "100%|██████████| 11/11 [00:20<00:00,  1.85s/it, reading_comprehension]"
     ]
    },
    {
     "name": "stdout",
     "output_type": "stream",
     "text": [
      "-------------------reading_comprehension-------------------\n",
      "다음 지문을 읽고 질문에 대답으로 가장 적절한 것을 고르시요.\n",
      "\n",
      "### 지문: \n",
      "이제 한 편의 이야기를 들려 드립니다. 잘 듣고 물음에 답하십시오.\n",
      "자, 여러분! 안녕하십니까? 오늘은 제가 어제 꾼 꿈 이야기 하날 들려 드리겠습니다. 전 꿈속에서 낯선 거리를 걷고 있었습니다. 그러다가 홍미로운 간판을 발견했답니다. 행 복을 파는 가게. 그렇게 쓰여 있었습니다. 전 호기심으로 문을 열고 들어갔답니다. 그곳 에서는 한 노인이 물건을 팔고 있었습니다. 전 잠시 머뭇거리다가 노인에게 다가가서 물 었습니다. 여기서는 무슨 물건을 파느냐고요. 노인은 미소를 지으며, 원하는 것은 뭐든 다 살 수 있다고 말했습니다. 저는 제 귀를 의심했습니다. '무엇이든 다?' 전 무엇을 사야 할까 생각하다가 말했답니다. \"사랑, 부귀 그리고 지혜하고 건강도 사고 싶습니다. 저 자신뿐 아니라 우리 가족 모두 를 위해서요. 지금 바로 살 수 있나요?\" 그러자 노인은 빙긋이 웃으며 대답했습니다. \"젊은이, 한번 잘 보게나. 여기에서 팔고 있는 것은 무르익은 과일이 아니라 씨앗이라 네. 앞으로 좋은 열매를 맺으려면 이 씨앗들을 잘 가꾸어야 할 걸세.\"\n",
      "    \n",
      "### 질문:\n",
      " 이 이야기에서 얻을 수 있는 교훈으로 가장 적절한 것은?\n",
      "\n",
      "### 선택지:\n",
      "(A) 새로운 세계에 대한 열망을 가져야 한다.\n",
      "(B) 주어진 기회를 능동적으로 활용해야 한다.\n",
      "(C) 큰 것을 얻으려면 작은 것은 버려야 한다.\n",
      "(D) 물질적 가치보다 정신적 가치를 중시해야 한다.\n",
      "(E) 소망하는 바를 성취하기 위해서는 노력을 해야 한다.\n",
      "\n",
      "### 정답:\n",
      "=================================\n"
     ]
    },
    {
     "name": "stderr",
     "output_type": "stream",
     "text": [
      "\n"
     ]
    }
   ],
   "source": [
    "# check question format\n",
    "with  tqdm(total=len(mcqa)) as pbar:\n",
    "    for task in mcqa:\n",
    "        pbar.set_postfix_str(task)\n",
    "        ds = load_dataset(\"HAERAE-HUB/HAE_RAE_BENCH_1.1\", task)\n",
    "        df = ds['test'].to_pandas()\n",
    "        print(f\"-------------------{task}-------------------\")\n",
    "        print(df['query'].iloc[0])\n",
    "        print(\"=================================\")\n",
    "        pbar.update(1)"
   ]
  },
  {
   "cell_type": "code",
   "execution_count": 48,
   "metadata": {},
   "outputs": [],
   "source": [
    "# redefine the task\n",
    "import re\n",
    "from typing import List\n",
    "\n",
    "def parse_options(options_list_text: str)->List[str]:\n",
    "    try:\n",
    "        option_list = ast.literal_eval(options_list_text)\n",
    "    except:\n",
    "        option_list = options_list_text.split(\"|\")\n",
    "    return option_list\n",
    "\n",
    "def clean_answer(answers: str)->str:\n",
    "    return re.sub(r\"\\(|\\)\", \"\", answers)\n",
    "\n",
    "\n",
    "def process_mcqa_task(task) -> pd.DataFrame:\n",
    "    ds = load_dataset(\"HAERAE-HUB/HAE_RAE_BENCH_1.1\", task)\n",
    "    df = ds['test'].to_pandas()\n",
    "    \n",
    "    # Apply parse_options and expand into separate columns\n",
    "    options_df = df['options'].apply(lambda x: pd.Series(parse_options(x), index=[\"A\", \"B\", \"C\", \"D\", \"E\"]))\n",
    "    df = pd.concat([df, options_df], axis=1)\n",
    "\n",
    "    df['answer'] = df['answer'].apply(clean_answer)\n",
    "    df['question'] = df['query']\n",
    "    df['categories'] = \"mcqa\"\n",
    "    return df[['question', 'A', 'B', 'C', 'D', 'E', 'answer', 'categories']]"
   ]
  },
  {
   "cell_type": "code",
   "execution_count": null,
   "metadata": {},
   "outputs": [
    {
     "name": "stderr",
     "output_type": "stream",
     "text": [
      "100%|██████████| 11/11 [00:19<00:00,  1.75s/it, reading_comprehension]     \n"
     ]
    }
   ],
   "source": [
    "with tqdm(total=len(mcqa)) as pbar:\n",
    "    for task in mcqa:\n",
    "        pbar.set_postfix_str(task)\n",
    "        df = process_mcqa_task(task)\n",
    "        df.to_csv(f\"/work/u5110390/BenchWeaver/evaluation_data/hae-rae-bench/data/test/{task}_test.csv\", index=False)\n",
    "        pbar.update(1)"
   ]
  },
  {
   "cell_type": "markdown",
   "metadata": {},
   "source": [
    "## OPQA"
   ]
  },
  {
   "cell_type": "code",
   "execution_count": 51,
   "metadata": {},
   "outputs": [
    {
     "name": "stderr",
     "output_type": "stream",
     "text": [
      " 50%|█████     | 1/2 [00:01<00:01,  1.74s/it, proverbs_denoising]"
     ]
    },
    {
     "name": "stdout",
     "output_type": "stream",
     "text": [
      "-------------------lyrics_denoising-------------------\n",
      "다음은 제이티엘(JTL)의 노래 Without Your Love의 가사 중 일부분입니다. 주어진 단어를 활용해 [MASK]에 들어갈 가사를 생성하시요.\n",
      "\n",
      "### 가사: \n",
      "it's without without your love\n",
      "[MASK]'[MASK] [MASK] [MASK]'[MASK] [MASK] [MASK] [MASK]\n",
      "believe it you'd better believe it\n",
      "감정의 흐름을 잃어버려 공간 속에 난 갇혔어\n",
      "without your loving\n",
      "햇빛을 내려 비가 내리게 \n",
      "햇님을 담아 별님을 담아 나 상상했던 이상을 찾아 \n",
      "It's without without your love\n",
      "\n",
      "### 단어: ['love', 'without', \"It's\", 'your', \"it's\", 'without']\n",
      "\n",
      "## 정답:\n",
      "=================================\n",
      "nan\n",
      "=================================\n",
      "It's without it's without your love\n"
     ]
    },
    {
     "name": "stderr",
     "output_type": "stream",
     "text": [
      "100%|██████████| 2/2 [00:03<00:00,  1.58s/it, proverbs_denoising]"
     ]
    },
    {
     "name": "stdout",
     "output_type": "stream",
     "text": [
      "-------------------proverbs_denoising-------------------\n",
      "다음은 어떤 한국 속담에 대한 뜻풀이 입니다. 다음 뜻풀이를 읽고 주어진 단어를 사용해 해당 속담을 생성하시요.\n",
      "\n",
      "### 뜻풀이: \n",
      "일의 차례가 뒤바뀌었음을 비유적으로 이르는 말.\n",
      "\n",
      "### 단어: ['뒤에', '하고', '말', '앞에', '뒤에', '말', '할', '할', '앞에', '하고']\n",
      "\n",
      "## 정답:\n",
      "=================================\n",
      "nan\n",
      "=================================\n",
      "앞에 할 말 뒤에 하고 뒤에 할 말 앞에 하고\n"
     ]
    },
    {
     "name": "stderr",
     "output_type": "stream",
     "text": [
      "\n"
     ]
    }
   ],
   "source": [
    "with tqdm(total=len(opqa)) as pbar:\n",
    "    for task in opqa:\n",
    "        pbar.set_postfix_str(task)\n",
    "        ds = load_dataset(\"HAERAE-HUB/HAE_RAE_BENCH_1.1\", task)\n",
    "        df = ds['test'].to_pandas()\n",
    "        print(f\"-------------------{task}-------------------\")\n",
    "        print(df['query'].iloc[0])\n",
    "        print(\"=================================\")\n",
    "        print(df['options'].iloc[0])\n",
    "        print(\"=================================\")\n",
    "        print(df['answer'].iloc[0])\n",
    "        pbar.update(1)"
   ]
  },
  {
   "cell_type": "code",
   "execution_count": 52,
   "metadata": {},
   "outputs": [],
   "source": [
    "\n",
    "def process_opqa_task(task) -> pd.DataFrame:\n",
    "    ds = load_dataset(\"HAERAE-HUB/HAE_RAE_BENCH_1.1\", task)\n",
    "    df = ds['test'].to_pandas()\n",
    "    df['A'] = \"\"\n",
    "    df['B'] = \"\"\n",
    "    df['C'] = \"\"\n",
    "    df['D'] = \"\"\n",
    "    df['E'] = \"\"\n",
    "    df['question'] = df['query']\n",
    "    df['categories'] = \"opqa\"\n",
    "    \n",
    "    return df[['question', 'A', 'B', 'C', 'D', 'E', 'answer', 'categories']]"
   ]
  },
  {
   "cell_type": "code",
   "execution_count": null,
   "metadata": {},
   "outputs": [
    {
     "name": "stderr",
     "output_type": "stream",
     "text": [
      "100%|██████████| 2/2 [00:02<00:00,  1.36s/it, proverbs_denoising]\n"
     ]
    }
   ],
   "source": [
    "with tqdm(total=len(opqa)) as pbar:\n",
    "    for task in opqa:\n",
    "        pbar.set_postfix_str(task)\n",
    "        df = process_opqa_task(task)\n",
    "        df.to_csv(f\"/work/u5110390/BenchWeaver/evaluation_data/hae-rae-bench/data/test/{task}_test.csv\", index=False)\n",
    "        pbar.update(1)"
   ]
  },
  {
   "cell_type": "markdown",
   "metadata": {},
   "source": [
    "# KMMLU (Hard)"
   ]
  },
  {
   "cell_type": "code",
   "execution_count": 1,
   "metadata": {},
   "outputs": [],
   "source": [
    "supercategories = {\n",
    "        \"accounting\": \"HUMSS\",\n",
    "        \"agricultural_sciences\": \"Other\",\n",
    "        \"aviation_engineering_and_maintenance\": \"Applied Science\",\n",
    "        \"biology\": \"STEM\",\n",
    "        \"chemical_engineering\": \"STEM\",\n",
    "        \"chemistry\": \"STEM\",\n",
    "        \"civil_engineering\": \"STEM\",\n",
    "        \"computer_science\": \"STEM\",\n",
    "        \"construction\": \"Other\",\n",
    "        \"criminal_law\": \"HUMSS\",\n",
    "        \"ecology\": \"STEM\",\n",
    "        \"economics\": \"HUMSS\",\n",
    "        \"education\": \"HUMSS\",\n",
    "        \"electrical_engineering\": \"STEM\",\n",
    "        \"electronics_engineering\": \"Applied Science\",\n",
    "        \"energy_management\": \"Applied Science\",\n",
    "        \"environmental_science\": \"Applied Science\",\n",
    "        \"fashion\": \"Other\",\n",
    "        \"food_processing\": \"Other\",\n",
    "        \"gas_technology_and_engineering\": \"Applied Science\",\n",
    "        \"geomatics\": \"Applied Science\",\n",
    "        \"health\": \"Other\",\n",
    "        \"industrial_engineer\": \"Applied Science\",\n",
    "        \"information_technology\": \"STEM\",\n",
    "        \"interior_architecture_and_design\": \"Other\",\n",
    "        \"law\": \"HUMSS\",\n",
    "        \"machine_design_and_manufacturing\": \"Applied Science\",\n",
    "        \"management\": \"HUMSS\",\n",
    "        \"maritime_engineering\": \"Applied Science\",\n",
    "        \"marketing\": \"Other\",\n",
    "        \"materials_engineering\": \"STEM\",\n",
    "        \"mechanical_engineering\": \"STEM\",\n",
    "        \"nondestructive_testing\": \"Applied Science\",\n",
    "        \"patent\": \"Other\",\n",
    "        \"political_science_and_sociology\": \"HUMSS\",\n",
    "        \"psychology\": \"HUMSS\",\n",
    "        \"public_safety\": \"Other\",\n",
    "        \"railway_and_automotive_engineering\": \"Applied Science\",\n",
    "        \"real_estate\": \"Other\",\n",
    "        \"refrigerating_machinery\": \"Other\",\n",
    "        \"social_welfare\": \"HUMSS\",\n",
    "        \"taxation\": \"HUMSS\",\n",
    "        \"telecommunications_and_wireless_technology\": \"Applied Science\",\n",
    "        \"korean_history\": \"HUMSS\",\n",
    "        \"math\": \"STEM\"\n",
    "    }"
   ]
  },
  {
   "cell_type": "code",
   "execution_count": 2,
   "metadata": {},
   "outputs": [
    {
     "data": {
      "text/plain": [
       "{'Applied Science', 'HUMSS', 'Other', 'STEM'}"
      ]
     },
     "execution_count": 2,
     "metadata": {},
     "output_type": "execute_result"
    }
   ],
   "source": [
    "set(supercategories.values())"
   ]
  },
  {
   "cell_type": "code",
   "execution_count": 3,
   "metadata": {},
   "outputs": [],
   "source": [
    "import json\n",
    "\n",
    "mapping = {}\n",
    "for k, v in supercategories.items():\n",
    "    mapping[k] = {\n",
    "        \"name\": k.replace(\"_\", \" \"),\n",
    "        \"category\": v\n",
    "    }\n",
    "    \n",
    "with open(\"/work/u5110390/BenchWeaver/evaluation_data/kmmlu/mapping.json\", \"w\") as f:\n",
    "    json.dump(mapping, f, indent=2)\n",
    "    \n",
    "with open(\"/work/u5110390/BenchWeaver/evaluation_data/kmmlu-hard/mapping.json\", \"w\") as f:\n",
    "    json.dump(mapping, f, indent=2)"
   ]
  },
  {
   "cell_type": "code",
   "execution_count": 4,
   "metadata": {},
   "outputs": [
    {
     "data": {
      "text/plain": [
       "['accounting',\n",
       " 'agricultural_sciences',\n",
       " 'aviation_engineering_and_maintenance',\n",
       " 'biology',\n",
       " 'chemical_engineering',\n",
       " 'chemistry',\n",
       " 'civil_engineering',\n",
       " 'computer_science',\n",
       " 'construction',\n",
       " 'criminal_law',\n",
       " 'ecology',\n",
       " 'economics',\n",
       " 'education',\n",
       " 'electrical_engineering',\n",
       " 'electronics_engineering',\n",
       " 'energy_management',\n",
       " 'environmental_science',\n",
       " 'fashion',\n",
       " 'food_processing',\n",
       " 'gas_technology_and_engineering',\n",
       " 'geomatics',\n",
       " 'health',\n",
       " 'industrial_engineer',\n",
       " 'information_technology',\n",
       " 'interior_architecture_and_design',\n",
       " 'law',\n",
       " 'machine_design_and_manufacturing',\n",
       " 'management',\n",
       " 'maritime_engineering',\n",
       " 'marketing',\n",
       " 'materials_engineering',\n",
       " 'mechanical_engineering',\n",
       " 'nondestructive_testing',\n",
       " 'patent',\n",
       " 'political_science_and_sociology',\n",
       " 'psychology',\n",
       " 'public_safety',\n",
       " 'railway_and_automotive_engineering',\n",
       " 'real_estate',\n",
       " 'refrigerating_machinery',\n",
       " 'social_welfare',\n",
       " 'taxation',\n",
       " 'telecommunications_and_wireless_technology',\n",
       " 'korean_history',\n",
       " 'math']"
      ]
     },
     "execution_count": 4,
     "metadata": {},
     "output_type": "execute_result"
    }
   ],
   "source": [
    "task = ['Accounting', 'Agricultural-Sciences', 'Aviation-Engineering-and-Maintenance', 'Biology', 'Chemical-Engineering', 'Chemistry', 'Civil-Engineering', 'Computer-Science', 'Construction', 'Criminal-Law', 'Ecology', 'Economics', 'Education', 'Electrical-Engineering', 'Electronics-Engineering', 'Energy-Management', 'Environmental-Science', 'Fashion', 'Food-Processing', 'Gas-Technology-and-Engineering', 'Geomatics', 'Health', 'Industrial-Engineer', 'Information-Technology', 'Interior-Architecture-and-Design', 'Law', 'Machine-Design-and-Manufacturing', 'Management', 'Maritime-Engineering', 'Marketing', 'Materials-Engineering', 'Mechanical-Engineering', 'Nondestructive-Testing', 'Patent', 'Political-Science-and-Sociology', 'Psychology', 'Public-Safety', 'Railway-and-Automotive-Engineering', 'Real-Estate', 'Refrigerating-Machinery', 'Social-Welfare', 'Taxation', 'Telecommunications-and-Wireless-Technology', 'Korean-History', 'Math']\n",
    "\n",
    "task_list = [t.lower().replace(\"-\", \"_\") for t in task]\n",
    "task_list"
   ]
  },
  {
   "cell_type": "code",
   "execution_count": 5,
   "metadata": {},
   "outputs": [],
   "source": [
    "from datasets import load_dataset\n",
    "from tqdm.auto import tqdm\n",
    "import pandas as pd"
   ]
  },
  {
   "cell_type": "code",
   "execution_count": 7,
   "metadata": {},
   "outputs": [
    {
     "data": {
      "application/vnd.jupyter.widget-view+json": {
       "model_id": "f0907036804f4db6b19c8450a3378932",
       "version_major": 2,
       "version_minor": 0
      },
      "text/plain": [
       "  0%|          | 0/45 [00:00<?, ?it/s]"
      ]
     },
     "metadata": {},
     "output_type": "display_data"
    }
   ],
   "source": [
    "import os\n",
    "def casting_idx2option(idx) -> str:\n",
    "    idx2option = { \"1\": \"A\", \"2\": \"B\", \"3\": \"C\", \"4\": \"D\", \"5\": \"E\", \"6\": \"F\"}\n",
    "    return idx2option[str(idx)]\n",
    "\n",
    "with tqdm(total=len(task)) as pbar:\n",
    "    for t in task:\n",
    "        pbar.set_postfix_str(t)\n",
    "        ds = load_dataset(\"HAERAE-HUB/KMMLU\", t)\n",
    "        train_df = ds['train'].to_pandas()\n",
    "        test_df = ds['test'].to_pandas()\n",
    "        dev_df = ds['dev'].to_pandas()\n",
    "        train_df['answer'] = train_df['answer'].apply(casting_idx2option)\n",
    "        test_df['answer'] = test_df['answer'].apply(casting_idx2option)\n",
    "        dev_df['answer'] = dev_df['answer'].apply(casting_idx2option)\n",
    "        task_name = t.lower().replace(\"-\", \"_\")\n",
    "        os.makedirs(\"/work/u5110390/BenchWeaver/evaluation_data/kmmlu/data/dev\", exist_ok=True)\n",
    "        os.makedirs(\"/work/u5110390/BenchWeaver/evaluation_data/kmmlu/data/test\", exist_ok=True)\n",
    "        os.makedirs(\"/work/u5110390/BenchWeaver/evaluation_data/kmmlu/data/val\", exist_ok=True)\n",
    "        train_df.to_csv(f\"/work/u5110390/BenchWeaver/evaluation_data/kmmlu/data/dev/{task_name}_dev.csv\", encoding=\"utf-8\", index=False)\n",
    "        dev_df.to_csv(f\"/work/u5110390/BenchWeaver/evaluation_data/kmmlu/data/val/{task_name}_val.csv\", encoding=\"utf-8\", index=False)\n",
    "        test_df.to_csv(f\"/work/u5110390/BenchWeaver/evaluation_data/kmmlu/data/test/{task_name}_test.csv\", encoding=\"utf-8\", index=False)\n",
    "        pbar.update(1)"
   ]
  },
  {
   "cell_type": "code",
   "execution_count": 24,
   "metadata": {},
   "outputs": [
    {
     "data": {
      "application/vnd.jupyter.widget-view+json": {
       "model_id": "d8ce6e2de9034101b0da9ac2330828a3",
       "version_major": 2,
       "version_minor": 0
      },
      "text/plain": [
       "  0%|          | 0/45 [00:00<?, ?it/s]"
      ]
     },
     "metadata": {},
     "output_type": "display_data"
    },
    {
     "data": {
      "application/vnd.jupyter.widget-view+json": {
       "model_id": "763107c8cfe64a50b6f55179566c0950",
       "version_major": 2,
       "version_minor": 0
      },
      "text/plain": [
       "Downloading readme:   0%|          | 0.00/11.7k [00:00<?, ?B/s]"
      ]
     },
     "metadata": {},
     "output_type": "display_data"
    },
    {
     "data": {
      "application/vnd.jupyter.widget-view+json": {
       "model_id": "f2ed2ae8deed4b079416f7afbd478b26",
       "version_major": 2,
       "version_minor": 0
      },
      "text/plain": [
       "Downloading data:   0%|          | 0.00/8.86k [00:00<?, ?B/s]"
      ]
     },
     "metadata": {},
     "output_type": "display_data"
    },
    {
     "data": {
      "application/vnd.jupyter.widget-view+json": {
       "model_id": "c036710805154fcb91bc1927641e6c5f",
       "version_major": 2,
       "version_minor": 0
      },
      "text/plain": [
       "Downloading data:   0%|          | 0.00/29.4k [00:00<?, ?B/s]"
      ]
     },
     "metadata": {},
     "output_type": "display_data"
    },
    {
     "data": {
      "application/vnd.jupyter.widget-view+json": {
       "model_id": "fc563d94a733412d8b9d57c949620a67",
       "version_major": 2,
       "version_minor": 0
      },
      "text/plain": [
       "Generating dev split:   0%|          | 0/5 [00:00<?, ? examples/s]"
      ]
     },
     "metadata": {},
     "output_type": "display_data"
    },
    {
     "data": {
      "application/vnd.jupyter.widget-view+json": {
       "model_id": "3c21ae0456024e86a7f8f08a2ebf5f23",
       "version_major": 2,
       "version_minor": 0
      },
      "text/plain": [
       "Generating test split:   0%|          | 0/46 [00:00<?, ? examples/s]"
      ]
     },
     "metadata": {},
     "output_type": "display_data"
    },
    {
     "data": {
      "application/vnd.jupyter.widget-view+json": {
       "model_id": "9c2fd72c505041918fd97f1da45d5c60",
       "version_major": 2,
       "version_minor": 0
      },
      "text/plain": [
       "Downloading data:   0%|          | 0.00/8.56k [00:00<?, ?B/s]"
      ]
     },
     "metadata": {},
     "output_type": "display_data"
    },
    {
     "data": {
      "application/vnd.jupyter.widget-view+json": {
       "model_id": "cfc8f9da45dc4e9cb4678cdfe30df08c",
       "version_major": 2,
       "version_minor": 0
      },
      "text/plain": [
       "Downloading data:   0%|          | 0.00/31.2k [00:00<?, ?B/s]"
      ]
     },
     "metadata": {},
     "output_type": "display_data"
    },
    {
     "data": {
      "application/vnd.jupyter.widget-view+json": {
       "model_id": "745f2e72faf0467a9ee59a05d3912fb0",
       "version_major": 2,
       "version_minor": 0
      },
      "text/plain": [
       "Generating dev split:   0%|          | 0/5 [00:00<?, ? examples/s]"
      ]
     },
     "metadata": {},
     "output_type": "display_data"
    },
    {
     "data": {
      "application/vnd.jupyter.widget-view+json": {
       "model_id": "69b7253d4c404e06b01ffb3835d417da",
       "version_major": 2,
       "version_minor": 0
      },
      "text/plain": [
       "Generating test split:   0%|          | 0/100 [00:00<?, ? examples/s]"
      ]
     },
     "metadata": {},
     "output_type": "display_data"
    },
    {
     "data": {
      "application/vnd.jupyter.widget-view+json": {
       "model_id": "931327c341194538be8b88091c478501",
       "version_major": 2,
       "version_minor": 0
      },
      "text/plain": [
       "Downloading data:   0%|          | 0.00/9.38k [00:00<?, ?B/s]"
      ]
     },
     "metadata": {},
     "output_type": "display_data"
    },
    {
     "data": {
      "application/vnd.jupyter.widget-view+json": {
       "model_id": "9d2043f642ca401caf1cc2b8e7293a9b",
       "version_major": 2,
       "version_minor": 0
      },
      "text/plain": [
       "Downloading data:   0%|          | 0.00/29.4k [00:00<?, ?B/s]"
      ]
     },
     "metadata": {},
     "output_type": "display_data"
    },
    {
     "data": {
      "application/vnd.jupyter.widget-view+json": {
       "model_id": "cff5448a39fc4117a67f92adbe384584",
       "version_major": 2,
       "version_minor": 0
      },
      "text/plain": [
       "Generating dev split:   0%|          | 0/5 [00:00<?, ? examples/s]"
      ]
     },
     "metadata": {},
     "output_type": "display_data"
    },
    {
     "data": {
      "application/vnd.jupyter.widget-view+json": {
       "model_id": "e654f114806142b9879d079b0c6eab49",
       "version_major": 2,
       "version_minor": 0
      },
      "text/plain": [
       "Generating test split:   0%|          | 0/100 [00:00<?, ? examples/s]"
      ]
     },
     "metadata": {},
     "output_type": "display_data"
    },
    {
     "data": {
      "application/vnd.jupyter.widget-view+json": {
       "model_id": "cb72473d73bb4ee8b3e0306684724e92",
       "version_major": 2,
       "version_minor": 0
      },
      "text/plain": [
       "Downloading data:   0%|          | 0.00/7.64k [00:00<?, ?B/s]"
      ]
     },
     "metadata": {},
     "output_type": "display_data"
    },
    {
     "data": {
      "application/vnd.jupyter.widget-view+json": {
       "model_id": "30f8beac89ce4c839aae5d397860e675",
       "version_major": 2,
       "version_minor": 0
      },
      "text/plain": [
       "Downloading data:   0%|          | 0.00/20.9k [00:00<?, ?B/s]"
      ]
     },
     "metadata": {},
     "output_type": "display_data"
    },
    {
     "data": {
      "application/vnd.jupyter.widget-view+json": {
       "model_id": "20af94ca5e534222badd4ee4c4b14294",
       "version_major": 2,
       "version_minor": 0
      },
      "text/plain": [
       "Generating dev split:   0%|          | 0/5 [00:00<?, ? examples/s]"
      ]
     },
     "metadata": {},
     "output_type": "display_data"
    },
    {
     "data": {
      "application/vnd.jupyter.widget-view+json": {
       "model_id": "857d4ee965824fc794c93cc8faa5bae8",
       "version_major": 2,
       "version_minor": 0
      },
      "text/plain": [
       "Generating test split:   0%|          | 0/100 [00:00<?, ? examples/s]"
      ]
     },
     "metadata": {},
     "output_type": "display_data"
    },
    {
     "data": {
      "application/vnd.jupyter.widget-view+json": {
       "model_id": "29b241ab795d45f18612ecd021e1a7f0",
       "version_major": 2,
       "version_minor": 0
      },
      "text/plain": [
       "Downloading data:   0%|          | 0.00/8.96k [00:00<?, ?B/s]"
      ]
     },
     "metadata": {},
     "output_type": "display_data"
    },
    {
     "data": {
      "application/vnd.jupyter.widget-view+json": {
       "model_id": "32d8377864cc43bda1aa1053db5d2ee3",
       "version_major": 2,
       "version_minor": 0
      },
      "text/plain": [
       "Downloading data:   0%|          | 0.00/28.5k [00:00<?, ?B/s]"
      ]
     },
     "metadata": {},
     "output_type": "display_data"
    },
    {
     "data": {
      "application/vnd.jupyter.widget-view+json": {
       "model_id": "81d76403f8f749699c9c1a85defba19d",
       "version_major": 2,
       "version_minor": 0
      },
      "text/plain": [
       "Generating dev split:   0%|          | 0/5 [00:00<?, ? examples/s]"
      ]
     },
     "metadata": {},
     "output_type": "display_data"
    },
    {
     "data": {
      "application/vnd.jupyter.widget-view+json": {
       "model_id": "c02926e5c4c842638cb719b1d533c5a5",
       "version_major": 2,
       "version_minor": 0
      },
      "text/plain": [
       "Generating test split:   0%|          | 0/100 [00:00<?, ? examples/s]"
      ]
     },
     "metadata": {},
     "output_type": "display_data"
    },
    {
     "data": {
      "application/vnd.jupyter.widget-view+json": {
       "model_id": "dfb3745376f24f998da62950f074c5f4",
       "version_major": 2,
       "version_minor": 0
      },
      "text/plain": [
       "Downloading data:   0%|          | 0.00/7.01k [00:00<?, ?B/s]"
      ]
     },
     "metadata": {},
     "output_type": "display_data"
    },
    {
     "data": {
      "application/vnd.jupyter.widget-view+json": {
       "model_id": "dd0fd9167a2b47f5b61e2cf5749b1a28",
       "version_major": 2,
       "version_minor": 0
      },
      "text/plain": [
       "Downloading data:   0%|          | 0.00/25.9k [00:00<?, ?B/s]"
      ]
     },
     "metadata": {},
     "output_type": "display_data"
    },
    {
     "data": {
      "application/vnd.jupyter.widget-view+json": {
       "model_id": "64f4c9bec5ff4d0a9bb0e7c5da549f64",
       "version_major": 2,
       "version_minor": 0
      },
      "text/plain": [
       "Generating dev split:   0%|          | 0/5 [00:00<?, ? examples/s]"
      ]
     },
     "metadata": {},
     "output_type": "display_data"
    },
    {
     "data": {
      "application/vnd.jupyter.widget-view+json": {
       "model_id": "c06a1aec4ce94cc890240a0fc413d309",
       "version_major": 2,
       "version_minor": 0
      },
      "text/plain": [
       "Generating test split:   0%|          | 0/100 [00:00<?, ? examples/s]"
      ]
     },
     "metadata": {},
     "output_type": "display_data"
    },
    {
     "data": {
      "application/vnd.jupyter.widget-view+json": {
       "model_id": "9ef97e96337644e1a6b81bcf6c58eec3",
       "version_major": 2,
       "version_minor": 0
      },
      "text/plain": [
       "Downloading data:   0%|          | 0.00/11.4k [00:00<?, ?B/s]"
      ]
     },
     "metadata": {},
     "output_type": "display_data"
    },
    {
     "data": {
      "application/vnd.jupyter.widget-view+json": {
       "model_id": "070165c26dd146dc97df4cac031e2cc2",
       "version_major": 2,
       "version_minor": 0
      },
      "text/plain": [
       "Downloading data:   0%|          | 0.00/31.0k [00:00<?, ?B/s]"
      ]
     },
     "metadata": {},
     "output_type": "display_data"
    },
    {
     "data": {
      "application/vnd.jupyter.widget-view+json": {
       "model_id": "e999f126fb774da7b3ab695f1ab24e0c",
       "version_major": 2,
       "version_minor": 0
      },
      "text/plain": [
       "Generating dev split:   0%|          | 0/5 [00:00<?, ? examples/s]"
      ]
     },
     "metadata": {},
     "output_type": "display_data"
    },
    {
     "data": {
      "application/vnd.jupyter.widget-view+json": {
       "model_id": "b5536700aeb2479d87ebdd793362b212",
       "version_major": 2,
       "version_minor": 0
      },
      "text/plain": [
       "Generating test split:   0%|          | 0/100 [00:00<?, ? examples/s]"
      ]
     },
     "metadata": {},
     "output_type": "display_data"
    },
    {
     "data": {
      "application/vnd.jupyter.widget-view+json": {
       "model_id": "dfd3553f299b4fd2b1ba1f8abc7d0f5f",
       "version_major": 2,
       "version_minor": 0
      },
      "text/plain": [
       "Downloading data:   0%|          | 0.00/10.7k [00:00<?, ?B/s]"
      ]
     },
     "metadata": {},
     "output_type": "display_data"
    },
    {
     "data": {
      "application/vnd.jupyter.widget-view+json": {
       "model_id": "31c28bec91ae4b6d8cfd75c8a2be44b0",
       "version_major": 2,
       "version_minor": 0
      },
      "text/plain": [
       "Downloading data:   0%|          | 0.00/30.8k [00:00<?, ?B/s]"
      ]
     },
     "metadata": {},
     "output_type": "display_data"
    },
    {
     "data": {
      "application/vnd.jupyter.widget-view+json": {
       "model_id": "3338ba0326a54a97a68fb7f5f67ae90f",
       "version_major": 2,
       "version_minor": 0
      },
      "text/plain": [
       "Generating dev split:   0%|          | 0/5 [00:00<?, ? examples/s]"
      ]
     },
     "metadata": {},
     "output_type": "display_data"
    },
    {
     "data": {
      "application/vnd.jupyter.widget-view+json": {
       "model_id": "1214ac5fb1dc48bb96577cddf92d2f24",
       "version_major": 2,
       "version_minor": 0
      },
      "text/plain": [
       "Generating test split:   0%|          | 0/100 [00:00<?, ? examples/s]"
      ]
     },
     "metadata": {},
     "output_type": "display_data"
    },
    {
     "data": {
      "application/vnd.jupyter.widget-view+json": {
       "model_id": "1d0489ec63f44aabb503b128e9ff5e09",
       "version_major": 2,
       "version_minor": 0
      },
      "text/plain": [
       "Downloading data:   0%|          | 0.00/8.54k [00:00<?, ?B/s]"
      ]
     },
     "metadata": {},
     "output_type": "display_data"
    },
    {
     "data": {
      "application/vnd.jupyter.widget-view+json": {
       "model_id": "d74dfbec1d1b43aab168f4923fcc2b5a",
       "version_major": 2,
       "version_minor": 0
      },
      "text/plain": [
       "Downloading data:   0%|          | 0.00/31.1k [00:00<?, ?B/s]"
      ]
     },
     "metadata": {},
     "output_type": "display_data"
    },
    {
     "data": {
      "application/vnd.jupyter.widget-view+json": {
       "model_id": "3141ae0e22814cb182b81934b197a249",
       "version_major": 2,
       "version_minor": 0
      },
      "text/plain": [
       "Generating dev split:   0%|          | 0/5 [00:00<?, ? examples/s]"
      ]
     },
     "metadata": {},
     "output_type": "display_data"
    },
    {
     "data": {
      "application/vnd.jupyter.widget-view+json": {
       "model_id": "a249212f164b4410a03862b2ec2942e6",
       "version_major": 2,
       "version_minor": 0
      },
      "text/plain": [
       "Generating test split:   0%|          | 0/100 [00:00<?, ? examples/s]"
      ]
     },
     "metadata": {},
     "output_type": "display_data"
    },
    {
     "data": {
      "application/vnd.jupyter.widget-view+json": {
       "model_id": "4fd0f54a342744edabc9b22a58e1ea30",
       "version_major": 2,
       "version_minor": 0
      },
      "text/plain": [
       "Downloading data:   0%|          | 0.00/14.0k [00:00<?, ?B/s]"
      ]
     },
     "metadata": {},
     "output_type": "display_data"
    },
    {
     "data": {
      "application/vnd.jupyter.widget-view+json": {
       "model_id": "c9308a3df2d84bf4a6a8e1329b2e1da3",
       "version_major": 2,
       "version_minor": 0
      },
      "text/plain": [
       "Downloading data:   0%|          | 0.00/90.7k [00:00<?, ?B/s]"
      ]
     },
     "metadata": {},
     "output_type": "display_data"
    },
    {
     "data": {
      "application/vnd.jupyter.widget-view+json": {
       "model_id": "8f6f395e2ba24de78dd313b2bbda8650",
       "version_major": 2,
       "version_minor": 0
      },
      "text/plain": [
       "Generating dev split:   0%|          | 0/5 [00:00<?, ? examples/s]"
      ]
     },
     "metadata": {},
     "output_type": "display_data"
    },
    {
     "data": {
      "application/vnd.jupyter.widget-view+json": {
       "model_id": "f85a8419fdab4d0882fed4c3eb7e7e82",
       "version_major": 2,
       "version_minor": 0
      },
      "text/plain": [
       "Generating test split:   0%|          | 0/100 [00:00<?, ? examples/s]"
      ]
     },
     "metadata": {},
     "output_type": "display_data"
    },
    {
     "data": {
      "application/vnd.jupyter.widget-view+json": {
       "model_id": "6edd31b94f5f4831b20e546237fcc212",
       "version_major": 2,
       "version_minor": 0
      },
      "text/plain": [
       "Downloading data:   0%|          | 0.00/10.0k [00:00<?, ?B/s]"
      ]
     },
     "metadata": {},
     "output_type": "display_data"
    },
    {
     "data": {
      "application/vnd.jupyter.widget-view+json": {
       "model_id": "b10ecb3952fd4dad8c1dc01a638b439c",
       "version_major": 2,
       "version_minor": 0
      },
      "text/plain": [
       "Downloading data:   0%|          | 0.00/31.9k [00:00<?, ?B/s]"
      ]
     },
     "metadata": {},
     "output_type": "display_data"
    },
    {
     "data": {
      "application/vnd.jupyter.widget-view+json": {
       "model_id": "4c68bfc295ad4f3f957f0d6ce06a7e43",
       "version_major": 2,
       "version_minor": 0
      },
      "text/plain": [
       "Generating dev split:   0%|          | 0/5 [00:00<?, ? examples/s]"
      ]
     },
     "metadata": {},
     "output_type": "display_data"
    },
    {
     "data": {
      "application/vnd.jupyter.widget-view+json": {
       "model_id": "e0058dd1492a43c2b3a1dc235030d4d7",
       "version_major": 2,
       "version_minor": 0
      },
      "text/plain": [
       "Generating test split:   0%|          | 0/100 [00:00<?, ? examples/s]"
      ]
     },
     "metadata": {},
     "output_type": "display_data"
    },
    {
     "data": {
      "application/vnd.jupyter.widget-view+json": {
       "model_id": "2bf991819c0b4844862df5412618ed42",
       "version_major": 2,
       "version_minor": 0
      },
      "text/plain": [
       "Downloading data:   0%|          | 0.00/9.89k [00:00<?, ?B/s]"
      ]
     },
     "metadata": {},
     "output_type": "display_data"
    },
    {
     "data": {
      "application/vnd.jupyter.widget-view+json": {
       "model_id": "08fbcae4971048009e010c21eb41d0a1",
       "version_major": 2,
       "version_minor": 0
      },
      "text/plain": [
       "Downloading data:   0%|          | 0.00/24.2k [00:00<?, ?B/s]"
      ]
     },
     "metadata": {},
     "output_type": "display_data"
    },
    {
     "data": {
      "application/vnd.jupyter.widget-view+json": {
       "model_id": "830fccfd4e1f4396b345916b55e25acd",
       "version_major": 2,
       "version_minor": 0
      },
      "text/plain": [
       "Generating dev split:   0%|          | 0/5 [00:00<?, ? examples/s]"
      ]
     },
     "metadata": {},
     "output_type": "display_data"
    },
    {
     "data": {
      "application/vnd.jupyter.widget-view+json": {
       "model_id": "5f85ba18936f41898273bc6c99e6f07c",
       "version_major": 2,
       "version_minor": 0
      },
      "text/plain": [
       "Generating test split:   0%|          | 0/42 [00:00<?, ? examples/s]"
      ]
     },
     "metadata": {},
     "output_type": "display_data"
    },
    {
     "data": {
      "application/vnd.jupyter.widget-view+json": {
       "model_id": "0b1299d528cb48bdba695e37d49a74bf",
       "version_major": 2,
       "version_minor": 0
      },
      "text/plain": [
       "Downloading data:   0%|          | 0.00/10.1k [00:00<?, ?B/s]"
      ]
     },
     "metadata": {},
     "output_type": "display_data"
    },
    {
     "data": {
      "application/vnd.jupyter.widget-view+json": {
       "model_id": "aaa913bfd35748e3a4e9c6bd4ce5320e",
       "version_major": 2,
       "version_minor": 0
      },
      "text/plain": [
       "Downloading data:   0%|          | 0.00/10.7k [00:00<?, ?B/s]"
      ]
     },
     "metadata": {},
     "output_type": "display_data"
    },
    {
     "data": {
      "application/vnd.jupyter.widget-view+json": {
       "model_id": "decdea61c86944edbc07d8ffca945036",
       "version_major": 2,
       "version_minor": 0
      },
      "text/plain": [
       "Generating dev split:   0%|          | 0/5 [00:00<?, ? examples/s]"
      ]
     },
     "metadata": {},
     "output_type": "display_data"
    },
    {
     "data": {
      "application/vnd.jupyter.widget-view+json": {
       "model_id": "013e9c87669d426e97f47c7a61f4bb89",
       "version_major": 2,
       "version_minor": 0
      },
      "text/plain": [
       "Generating test split:   0%|          | 0/23 [00:00<?, ? examples/s]"
      ]
     },
     "metadata": {},
     "output_type": "display_data"
    },
    {
     "data": {
      "application/vnd.jupyter.widget-view+json": {
       "model_id": "71918918835b42209a66d8566e9e0674",
       "version_major": 2,
       "version_minor": 0
      },
      "text/plain": [
       "Downloading data:   0%|          | 0.00/10.1k [00:00<?, ?B/s]"
      ]
     },
     "metadata": {},
     "output_type": "display_data"
    },
    {
     "data": {
      "application/vnd.jupyter.widget-view+json": {
       "model_id": "8d3a0fbedabf4a3285e6bf7cfb10d3b9",
       "version_major": 2,
       "version_minor": 0
      },
      "text/plain": [
       "Downloading data:   0%|          | 0.00/24.6k [00:00<?, ?B/s]"
      ]
     },
     "metadata": {},
     "output_type": "display_data"
    },
    {
     "data": {
      "application/vnd.jupyter.widget-view+json": {
       "model_id": "29bf391ca2864b07899f00ffe413136e",
       "version_major": 2,
       "version_minor": 0
      },
      "text/plain": [
       "Generating dev split:   0%|          | 0/5 [00:00<?, ? examples/s]"
      ]
     },
     "metadata": {},
     "output_type": "display_data"
    },
    {
     "data": {
      "application/vnd.jupyter.widget-view+json": {
       "model_id": "8a258b38cd5c49cea8f91b82993569e0",
       "version_major": 2,
       "version_minor": 0
      },
      "text/plain": [
       "Generating test split:   0%|          | 0/100 [00:00<?, ? examples/s]"
      ]
     },
     "metadata": {},
     "output_type": "display_data"
    },
    {
     "data": {
      "application/vnd.jupyter.widget-view+json": {
       "model_id": "c7becc453b244fd7add5d9b26e03c349",
       "version_major": 2,
       "version_minor": 0
      },
      "text/plain": [
       "Downloading data:   0%|          | 0.00/7.93k [00:00<?, ?B/s]"
      ]
     },
     "metadata": {},
     "output_type": "display_data"
    },
    {
     "data": {
      "application/vnd.jupyter.widget-view+json": {
       "model_id": "ecef8039896e438cbdb0e2352ba4fbfa",
       "version_major": 2,
       "version_minor": 0
      },
      "text/plain": [
       "Downloading data:   0%|          | 0.00/24.0k [00:00<?, ?B/s]"
      ]
     },
     "metadata": {},
     "output_type": "display_data"
    },
    {
     "data": {
      "application/vnd.jupyter.widget-view+json": {
       "model_id": "81912dc8dec14b2e9888847fda17a88d",
       "version_major": 2,
       "version_minor": 0
      },
      "text/plain": [
       "Generating dev split:   0%|          | 0/5 [00:00<?, ? examples/s]"
      ]
     },
     "metadata": {},
     "output_type": "display_data"
    },
    {
     "data": {
      "application/vnd.jupyter.widget-view+json": {
       "model_id": "1fcf141ede414e578e5a255dc7ffaefd",
       "version_major": 2,
       "version_minor": 0
      },
      "text/plain": [
       "Generating test split:   0%|          | 0/100 [00:00<?, ? examples/s]"
      ]
     },
     "metadata": {},
     "output_type": "display_data"
    },
    {
     "data": {
      "application/vnd.jupyter.widget-view+json": {
       "model_id": "73aefd28c35e4cbd8b59e07e70542041",
       "version_major": 2,
       "version_minor": 0
      },
      "text/plain": [
       "Downloading data:   0%|          | 0.00/8.82k [00:00<?, ?B/s]"
      ]
     },
     "metadata": {},
     "output_type": "display_data"
    },
    {
     "data": {
      "application/vnd.jupyter.widget-view+json": {
       "model_id": "dc7e765731da48b5932aebf355d6a4ae",
       "version_major": 2,
       "version_minor": 0
      },
      "text/plain": [
       "Downloading data:   0%|          | 0.00/25.0k [00:00<?, ?B/s]"
      ]
     },
     "metadata": {},
     "output_type": "display_data"
    },
    {
     "data": {
      "application/vnd.jupyter.widget-view+json": {
       "model_id": "2f77fa8c89b64675b0f08e38b023cebf",
       "version_major": 2,
       "version_minor": 0
      },
      "text/plain": [
       "Generating dev split:   0%|          | 0/5 [00:00<?, ? examples/s]"
      ]
     },
     "metadata": {},
     "output_type": "display_data"
    },
    {
     "data": {
      "application/vnd.jupyter.widget-view+json": {
       "model_id": "908e40ab8d1f45fd90c96f2497f34798",
       "version_major": 2,
       "version_minor": 0
      },
      "text/plain": [
       "Generating test split:   0%|          | 0/100 [00:00<?, ? examples/s]"
      ]
     },
     "metadata": {},
     "output_type": "display_data"
    },
    {
     "data": {
      "application/vnd.jupyter.widget-view+json": {
       "model_id": "303fb6712a73446392df584a1657e39d",
       "version_major": 2,
       "version_minor": 0
      },
      "text/plain": [
       "Downloading data:   0%|          | 0.00/8.21k [00:00<?, ?B/s]"
      ]
     },
     "metadata": {},
     "output_type": "display_data"
    },
    {
     "data": {
      "application/vnd.jupyter.widget-view+json": {
       "model_id": "3f143347778242d99fc27352f7e8e23c",
       "version_major": 2,
       "version_minor": 0
      },
      "text/plain": [
       "Downloading data:   0%|          | 0.00/34.0k [00:00<?, ?B/s]"
      ]
     },
     "metadata": {},
     "output_type": "display_data"
    },
    {
     "data": {
      "application/vnd.jupyter.widget-view+json": {
       "model_id": "27a76b1f4052439eae75e6d9ed921ee3",
       "version_major": 2,
       "version_minor": 0
      },
      "text/plain": [
       "Generating dev split:   0%|          | 0/5 [00:00<?, ? examples/s]"
      ]
     },
     "metadata": {},
     "output_type": "display_data"
    },
    {
     "data": {
      "application/vnd.jupyter.widget-view+json": {
       "model_id": "22565ece6c474210830cd244b577e125",
       "version_major": 2,
       "version_minor": 0
      },
      "text/plain": [
       "Generating test split:   0%|          | 0/100 [00:00<?, ? examples/s]"
      ]
     },
     "metadata": {},
     "output_type": "display_data"
    },
    {
     "data": {
      "application/vnd.jupyter.widget-view+json": {
       "model_id": "da22f20132af467186ef839459d3a05e",
       "version_major": 2,
       "version_minor": 0
      },
      "text/plain": [
       "Downloading data:   0%|          | 0.00/8.74k [00:00<?, ?B/s]"
      ]
     },
     "metadata": {},
     "output_type": "display_data"
    },
    {
     "data": {
      "application/vnd.jupyter.widget-view+json": {
       "model_id": "f21486cf90bb46a282481408ed659b62",
       "version_major": 2,
       "version_minor": 0
      },
      "text/plain": [
       "Downloading data:   0%|          | 0.00/24.3k [00:00<?, ?B/s]"
      ]
     },
     "metadata": {},
     "output_type": "display_data"
    },
    {
     "data": {
      "application/vnd.jupyter.widget-view+json": {
       "model_id": "f45097f0c72641028c8325099cbb69aa",
       "version_major": 2,
       "version_minor": 0
      },
      "text/plain": [
       "Generating dev split:   0%|          | 0/5 [00:00<?, ? examples/s]"
      ]
     },
     "metadata": {},
     "output_type": "display_data"
    },
    {
     "data": {
      "application/vnd.jupyter.widget-view+json": {
       "model_id": "6dcb3e58a4f94c2aa7706da78158de0d",
       "version_major": 2,
       "version_minor": 0
      },
      "text/plain": [
       "Generating test split:   0%|          | 0/100 [00:00<?, ? examples/s]"
      ]
     },
     "metadata": {},
     "output_type": "display_data"
    },
    {
     "data": {
      "application/vnd.jupyter.widget-view+json": {
       "model_id": "9be489f3f0ff415d961313005f1e3b45",
       "version_major": 2,
       "version_minor": 0
      },
      "text/plain": [
       "Downloading data:   0%|          | 0.00/7.38k [00:00<?, ?B/s]"
      ]
     },
     "metadata": {},
     "output_type": "display_data"
    },
    {
     "data": {
      "application/vnd.jupyter.widget-view+json": {
       "model_id": "586c57c90b65461b8ed34c0b15caaaac",
       "version_major": 2,
       "version_minor": 0
      },
      "text/plain": [
       "Downloading data:   0%|          | 0.00/28.1k [00:00<?, ?B/s]"
      ]
     },
     "metadata": {},
     "output_type": "display_data"
    },
    {
     "data": {
      "application/vnd.jupyter.widget-view+json": {
       "model_id": "784e2d75d6c84113aa5be1dbfa7e5ee0",
       "version_major": 2,
       "version_minor": 0
      },
      "text/plain": [
       "Generating dev split:   0%|          | 0/5 [00:00<?, ? examples/s]"
      ]
     },
     "metadata": {},
     "output_type": "display_data"
    },
    {
     "data": {
      "application/vnd.jupyter.widget-view+json": {
       "model_id": "9203f18c58af4c719285b4ff38171967",
       "version_major": 2,
       "version_minor": 0
      },
      "text/plain": [
       "Generating test split:   0%|          | 0/100 [00:00<?, ? examples/s]"
      ]
     },
     "metadata": {},
     "output_type": "display_data"
    },
    {
     "data": {
      "application/vnd.jupyter.widget-view+json": {
       "model_id": "1913902860c74be7a0f42c1325341c88",
       "version_major": 2,
       "version_minor": 0
      },
      "text/plain": [
       "Downloading data:   0%|          | 0.00/9.65k [00:00<?, ?B/s]"
      ]
     },
     "metadata": {},
     "output_type": "display_data"
    },
    {
     "data": {
      "application/vnd.jupyter.widget-view+json": {
       "model_id": "bf0694ce12a4407d8fdc4659ca1c57f5",
       "version_major": 2,
       "version_minor": 0
      },
      "text/plain": [
       "Downloading data:   0%|          | 0.00/25.9k [00:00<?, ?B/s]"
      ]
     },
     "metadata": {},
     "output_type": "display_data"
    },
    {
     "data": {
      "application/vnd.jupyter.widget-view+json": {
       "model_id": "660fa73b87204446a3794322fe46f857",
       "version_major": 2,
       "version_minor": 0
      },
      "text/plain": [
       "Generating dev split:   0%|          | 0/5 [00:00<?, ? examples/s]"
      ]
     },
     "metadata": {},
     "output_type": "display_data"
    },
    {
     "data": {
      "application/vnd.jupyter.widget-view+json": {
       "model_id": "717ee974ac02462f8adab1d73e799132",
       "version_major": 2,
       "version_minor": 0
      },
      "text/plain": [
       "Generating test split:   0%|          | 0/100 [00:00<?, ? examples/s]"
      ]
     },
     "metadata": {},
     "output_type": "display_data"
    },
    {
     "data": {
      "application/vnd.jupyter.widget-view+json": {
       "model_id": "ae26e8563cfe45b99ed33c1fd30c628d",
       "version_major": 2,
       "version_minor": 0
      },
      "text/plain": [
       "Downloading data:   0%|          | 0.00/7.10k [00:00<?, ?B/s]"
      ]
     },
     "metadata": {},
     "output_type": "display_data"
    },
    {
     "data": {
      "application/vnd.jupyter.widget-view+json": {
       "model_id": "63eae680b74941cbb9d8648820b28952",
       "version_major": 2,
       "version_minor": 0
      },
      "text/plain": [
       "Downloading data:   0%|          | 0.00/23.8k [00:00<?, ?B/s]"
      ]
     },
     "metadata": {},
     "output_type": "display_data"
    },
    {
     "data": {
      "application/vnd.jupyter.widget-view+json": {
       "model_id": "e4f46d36340549e4ab68ba7e4b660fd2",
       "version_major": 2,
       "version_minor": 0
      },
      "text/plain": [
       "Generating dev split:   0%|          | 0/5 [00:00<?, ? examples/s]"
      ]
     },
     "metadata": {},
     "output_type": "display_data"
    },
    {
     "data": {
      "application/vnd.jupyter.widget-view+json": {
       "model_id": "7cda8e80529e49d6af1153369fe241b3",
       "version_major": 2,
       "version_minor": 0
      },
      "text/plain": [
       "Generating test split:   0%|          | 0/100 [00:00<?, ? examples/s]"
      ]
     },
     "metadata": {},
     "output_type": "display_data"
    },
    {
     "data": {
      "application/vnd.jupyter.widget-view+json": {
       "model_id": "4e7708f0ada64608b6fdee60bd7faf08",
       "version_major": 2,
       "version_minor": 0
      },
      "text/plain": [
       "Downloading data:   0%|          | 0.00/9.48k [00:00<?, ?B/s]"
      ]
     },
     "metadata": {},
     "output_type": "display_data"
    },
    {
     "data": {
      "application/vnd.jupyter.widget-view+json": {
       "model_id": "b7bfcda11e4645f78594fa667f07a3a6",
       "version_major": 2,
       "version_minor": 0
      },
      "text/plain": [
       "Downloading data:   0%|          | 0.00/8.25k [00:00<?, ?B/s]"
      ]
     },
     "metadata": {},
     "output_type": "display_data"
    },
    {
     "data": {
      "application/vnd.jupyter.widget-view+json": {
       "model_id": "56430d50219d4a979ecc04880b7a4a2a",
       "version_major": 2,
       "version_minor": 0
      },
      "text/plain": [
       "Generating dev split:   0%|          | 0/5 [00:00<?, ? examples/s]"
      ]
     },
     "metadata": {},
     "output_type": "display_data"
    },
    {
     "data": {
      "application/vnd.jupyter.widget-view+json": {
       "model_id": "d86257f881f84de78af2b2af0cf953a2",
       "version_major": 2,
       "version_minor": 0
      },
      "text/plain": [
       "Generating test split:   0%|          | 0/23 [00:00<?, ? examples/s]"
      ]
     },
     "metadata": {},
     "output_type": "display_data"
    },
    {
     "data": {
      "application/vnd.jupyter.widget-view+json": {
       "model_id": "6dfd5eee44ea4ef195d5bcd14e2902d0",
       "version_major": 2,
       "version_minor": 0
      },
      "text/plain": [
       "Downloading data:   0%|          | 0.00/8.05k [00:00<?, ?B/s]"
      ]
     },
     "metadata": {},
     "output_type": "display_data"
    },
    {
     "data": {
      "application/vnd.jupyter.widget-view+json": {
       "model_id": "18c44a7abf1746fe99e1e3047ea5a436",
       "version_major": 2,
       "version_minor": 0
      },
      "text/plain": [
       "Downloading data:   0%|          | 0.00/27.6k [00:00<?, ?B/s]"
      ]
     },
     "metadata": {},
     "output_type": "display_data"
    },
    {
     "data": {
      "application/vnd.jupyter.widget-view+json": {
       "model_id": "c2adfed7851e4d21a30058594c751a64",
       "version_major": 2,
       "version_minor": 0
      },
      "text/plain": [
       "Generating dev split:   0%|          | 0/5 [00:00<?, ? examples/s]"
      ]
     },
     "metadata": {},
     "output_type": "display_data"
    },
    {
     "data": {
      "application/vnd.jupyter.widget-view+json": {
       "model_id": "2cef9ebe1f4d402d8ba718e985a44757",
       "version_major": 2,
       "version_minor": 0
      },
      "text/plain": [
       "Generating test split:   0%|          | 0/100 [00:00<?, ? examples/s]"
      ]
     },
     "metadata": {},
     "output_type": "display_data"
    },
    {
     "data": {
      "application/vnd.jupyter.widget-view+json": {
       "model_id": "570390e334b64f24bffcbe17bd9fc9aa",
       "version_major": 2,
       "version_minor": 0
      },
      "text/plain": [
       "Downloading data:   0%|          | 0.00/8.15k [00:00<?, ?B/s]"
      ]
     },
     "metadata": {},
     "output_type": "display_data"
    },
    {
     "data": {
      "application/vnd.jupyter.widget-view+json": {
       "model_id": "91ae3414965f4070a7c294cd7a94cfca",
       "version_major": 2,
       "version_minor": 0
      },
      "text/plain": [
       "Downloading data:   0%|          | 0.00/22.9k [00:00<?, ?B/s]"
      ]
     },
     "metadata": {},
     "output_type": "display_data"
    },
    {
     "data": {
      "application/vnd.jupyter.widget-view+json": {
       "model_id": "7b530a75aef545788fc5f87af06f027d",
       "version_major": 2,
       "version_minor": 0
      },
      "text/plain": [
       "Generating dev split:   0%|          | 0/5 [00:00<?, ? examples/s]"
      ]
     },
     "metadata": {},
     "output_type": "display_data"
    },
    {
     "data": {
      "application/vnd.jupyter.widget-view+json": {
       "model_id": "c8eea8aca6ae4591813e90b352b7dcbc",
       "version_major": 2,
       "version_minor": 0
      },
      "text/plain": [
       "Generating test split:   0%|          | 0/100 [00:00<?, ? examples/s]"
      ]
     },
     "metadata": {},
     "output_type": "display_data"
    },
    {
     "data": {
      "application/vnd.jupyter.widget-view+json": {
       "model_id": "281aba3bfbc8460bb7a1f190d9d85d84",
       "version_major": 2,
       "version_minor": 0
      },
      "text/plain": [
       "Downloading data:   0%|          | 0.00/11.3k [00:00<?, ?B/s]"
      ]
     },
     "metadata": {},
     "output_type": "display_data"
    },
    {
     "data": {
      "application/vnd.jupyter.widget-view+json": {
       "model_id": "677ff2a00e16455e876ef7f2a680425f",
       "version_major": 2,
       "version_minor": 0
      },
      "text/plain": [
       "Downloading data:   0%|          | 0.00/29.6k [00:00<?, ?B/s]"
      ]
     },
     "metadata": {},
     "output_type": "display_data"
    },
    {
     "data": {
      "application/vnd.jupyter.widget-view+json": {
       "model_id": "8ed3483eaae742448c0beb3e75aff97f",
       "version_major": 2,
       "version_minor": 0
      },
      "text/plain": [
       "Generating dev split:   0%|          | 0/5 [00:00<?, ? examples/s]"
      ]
     },
     "metadata": {},
     "output_type": "display_data"
    },
    {
     "data": {
      "application/vnd.jupyter.widget-view+json": {
       "model_id": "ccbcf04aa348453bad90ec7ec620c595",
       "version_major": 2,
       "version_minor": 0
      },
      "text/plain": [
       "Generating test split:   0%|          | 0/100 [00:00<?, ? examples/s]"
      ]
     },
     "metadata": {},
     "output_type": "display_data"
    },
    {
     "data": {
      "application/vnd.jupyter.widget-view+json": {
       "model_id": "8ffdf8feef344a4b82d45f0a926c4b6e",
       "version_major": 2,
       "version_minor": 0
      },
      "text/plain": [
       "Downloading data:   0%|          | 0.00/8.99k [00:00<?, ?B/s]"
      ]
     },
     "metadata": {},
     "output_type": "display_data"
    },
    {
     "data": {
      "application/vnd.jupyter.widget-view+json": {
       "model_id": "c81f7019fd9d45dbb709b7a8e3efa78e",
       "version_major": 2,
       "version_minor": 0
      },
      "text/plain": [
       "Downloading data:   0%|          | 0.00/52.1k [00:00<?, ?B/s]"
      ]
     },
     "metadata": {},
     "output_type": "display_data"
    },
    {
     "data": {
      "application/vnd.jupyter.widget-view+json": {
       "model_id": "f6e762df15bb4de9a5f8146c2bb61f03",
       "version_major": 2,
       "version_minor": 0
      },
      "text/plain": [
       "Generating dev split:   0%|          | 0/5 [00:00<?, ? examples/s]"
      ]
     },
     "metadata": {},
     "output_type": "display_data"
    },
    {
     "data": {
      "application/vnd.jupyter.widget-view+json": {
       "model_id": "7f20161bdf09412a9abd97a7ba800c2d",
       "version_major": 2,
       "version_minor": 0
      },
      "text/plain": [
       "Generating test split:   0%|          | 0/100 [00:00<?, ? examples/s]"
      ]
     },
     "metadata": {},
     "output_type": "display_data"
    },
    {
     "data": {
      "application/vnd.jupyter.widget-view+json": {
       "model_id": "56afbcfc07b240d5ad7a25aafd3ae7a3",
       "version_major": 2,
       "version_minor": 0
      },
      "text/plain": [
       "Downloading data:   0%|          | 0.00/8.90k [00:00<?, ?B/s]"
      ]
     },
     "metadata": {},
     "output_type": "display_data"
    },
    {
     "data": {
      "application/vnd.jupyter.widget-view+json": {
       "model_id": "772a5e371c9d475f81b32489d430ba86",
       "version_major": 2,
       "version_minor": 0
      },
      "text/plain": [
       "Downloading data:   0%|          | 0.00/26.5k [00:00<?, ?B/s]"
      ]
     },
     "metadata": {},
     "output_type": "display_data"
    },
    {
     "data": {
      "application/vnd.jupyter.widget-view+json": {
       "model_id": "3a095a41d91e41078b1fa7e2537b0ed5",
       "version_major": 2,
       "version_minor": 0
      },
      "text/plain": [
       "Generating dev split:   0%|          | 0/5 [00:00<?, ? examples/s]"
      ]
     },
     "metadata": {},
     "output_type": "display_data"
    },
    {
     "data": {
      "application/vnd.jupyter.widget-view+json": {
       "model_id": "ee585653ce1545d9bf9866d27d5d2ea2",
       "version_major": 2,
       "version_minor": 0
      },
      "text/plain": [
       "Generating test split:   0%|          | 0/100 [00:00<?, ? examples/s]"
      ]
     },
     "metadata": {},
     "output_type": "display_data"
    },
    {
     "data": {
      "application/vnd.jupyter.widget-view+json": {
       "model_id": "147c7ad9631847bba180cb1c3f0d276e",
       "version_major": 2,
       "version_minor": 0
      },
      "text/plain": [
       "Downloading data:   0%|          | 0.00/8.11k [00:00<?, ?B/s]"
      ]
     },
     "metadata": {},
     "output_type": "display_data"
    },
    {
     "data": {
      "application/vnd.jupyter.widget-view+json": {
       "model_id": "7ce3d10505684c06ada4c87118da9897",
       "version_major": 2,
       "version_minor": 0
      },
      "text/plain": [
       "Downloading data:   0%|          | 0.00/46.9k [00:00<?, ?B/s]"
      ]
     },
     "metadata": {},
     "output_type": "display_data"
    },
    {
     "data": {
      "application/vnd.jupyter.widget-view+json": {
       "model_id": "94fa2c34ced149cc910be18b8ca2959c",
       "version_major": 2,
       "version_minor": 0
      },
      "text/plain": [
       "Generating dev split:   0%|          | 0/5 [00:00<?, ? examples/s]"
      ]
     },
     "metadata": {},
     "output_type": "display_data"
    },
    {
     "data": {
      "application/vnd.jupyter.widget-view+json": {
       "model_id": "5f4c3b78995e44f2ac0f59decd9691fb",
       "version_major": 2,
       "version_minor": 0
      },
      "text/plain": [
       "Generating test split:   0%|          | 0/100 [00:00<?, ? examples/s]"
      ]
     },
     "metadata": {},
     "output_type": "display_data"
    },
    {
     "data": {
      "application/vnd.jupyter.widget-view+json": {
       "model_id": "e78c5d3b6e77473e8e9243a3846aa8dc",
       "version_major": 2,
       "version_minor": 0
      },
      "text/plain": [
       "Downloading data:   0%|          | 0.00/10.9k [00:00<?, ?B/s]"
      ]
     },
     "metadata": {},
     "output_type": "display_data"
    },
    {
     "data": {
      "application/vnd.jupyter.widget-view+json": {
       "model_id": "2c266929f0454654b45d6ba801f02675",
       "version_major": 2,
       "version_minor": 0
      },
      "text/plain": [
       "Downloading data:   0%|          | 0.00/24.5k [00:00<?, ?B/s]"
      ]
     },
     "metadata": {},
     "output_type": "display_data"
    },
    {
     "data": {
      "application/vnd.jupyter.widget-view+json": {
       "model_id": "151e48c132f140a69386e2f62f590c6a",
       "version_major": 2,
       "version_minor": 0
      },
      "text/plain": [
       "Generating dev split:   0%|          | 0/5 [00:00<?, ? examples/s]"
      ]
     },
     "metadata": {},
     "output_type": "display_data"
    },
    {
     "data": {
      "application/vnd.jupyter.widget-view+json": {
       "model_id": "00d7e555a2b047638ac5668b99486e0e",
       "version_major": 2,
       "version_minor": 0
      },
      "text/plain": [
       "Generating test split:   0%|          | 0/100 [00:00<?, ? examples/s]"
      ]
     },
     "metadata": {},
     "output_type": "display_data"
    },
    {
     "data": {
      "application/vnd.jupyter.widget-view+json": {
       "model_id": "c83fac7c877548249ac1b8319091ceb4",
       "version_major": 2,
       "version_minor": 0
      },
      "text/plain": [
       "Downloading data:   0%|          | 0.00/10.5k [00:00<?, ?B/s]"
      ]
     },
     "metadata": {},
     "output_type": "display_data"
    },
    {
     "data": {
      "application/vnd.jupyter.widget-view+json": {
       "model_id": "46a58d6534964de49f8f24063a68b3ad",
       "version_major": 2,
       "version_minor": 0
      },
      "text/plain": [
       "Downloading data:   0%|          | 0.00/35.7k [00:00<?, ?B/s]"
      ]
     },
     "metadata": {},
     "output_type": "display_data"
    },
    {
     "data": {
      "application/vnd.jupyter.widget-view+json": {
       "model_id": "6b1970c43c014db5a18f9d925e33052f",
       "version_major": 2,
       "version_minor": 0
      },
      "text/plain": [
       "Generating dev split:   0%|          | 0/5 [00:00<?, ? examples/s]"
      ]
     },
     "metadata": {},
     "output_type": "display_data"
    },
    {
     "data": {
      "application/vnd.jupyter.widget-view+json": {
       "model_id": "ee0b52b64e3b43f3a90e609af541c50b",
       "version_major": 2,
       "version_minor": 0
      },
      "text/plain": [
       "Generating test split:   0%|          | 0/100 [00:00<?, ? examples/s]"
      ]
     },
     "metadata": {},
     "output_type": "display_data"
    },
    {
     "data": {
      "application/vnd.jupyter.widget-view+json": {
       "model_id": "75b2814e646a4fb1b16002aba6bc19cf",
       "version_major": 2,
       "version_minor": 0
      },
      "text/plain": [
       "Downloading data:   0%|          | 0.00/8.82k [00:00<?, ?B/s]"
      ]
     },
     "metadata": {},
     "output_type": "display_data"
    },
    {
     "data": {
      "application/vnd.jupyter.widget-view+json": {
       "model_id": "8a63c5939c2c40c6b3ee84cc2e0b8cdd",
       "version_major": 2,
       "version_minor": 0
      },
      "text/plain": [
       "Downloading data:   0%|          | 0.00/26.4k [00:00<?, ?B/s]"
      ]
     },
     "metadata": {},
     "output_type": "display_data"
    },
    {
     "data": {
      "application/vnd.jupyter.widget-view+json": {
       "model_id": "b02df60e56b347e1bedc3845b232b811",
       "version_major": 2,
       "version_minor": 0
      },
      "text/plain": [
       "Generating dev split:   0%|          | 0/5 [00:00<?, ? examples/s]"
      ]
     },
     "metadata": {},
     "output_type": "display_data"
    },
    {
     "data": {
      "application/vnd.jupyter.widget-view+json": {
       "model_id": "a685d17976c8419aa09fea765f86c660",
       "version_major": 2,
       "version_minor": 0
      },
      "text/plain": [
       "Generating test split:   0%|          | 0/100 [00:00<?, ? examples/s]"
      ]
     },
     "metadata": {},
     "output_type": "display_data"
    },
    {
     "data": {
      "application/vnd.jupyter.widget-view+json": {
       "model_id": "055fb479300b45ecb07440b8a07636ca",
       "version_major": 2,
       "version_minor": 0
      },
      "text/plain": [
       "Downloading data:   0%|          | 0.00/7.55k [00:00<?, ?B/s]"
      ]
     },
     "metadata": {},
     "output_type": "display_data"
    },
    {
     "data": {
      "application/vnd.jupyter.widget-view+json": {
       "model_id": "6860d67841094e368315cd497762121f",
       "version_major": 2,
       "version_minor": 0
      },
      "text/plain": [
       "Downloading data:   0%|          | 0.00/24.1k [00:00<?, ?B/s]"
      ]
     },
     "metadata": {},
     "output_type": "display_data"
    },
    {
     "data": {
      "application/vnd.jupyter.widget-view+json": {
       "model_id": "fbdce3895af2461c90521cb8adda40cb",
       "version_major": 2,
       "version_minor": 0
      },
      "text/plain": [
       "Generating dev split:   0%|          | 0/5 [00:00<?, ? examples/s]"
      ]
     },
     "metadata": {},
     "output_type": "display_data"
    },
    {
     "data": {
      "application/vnd.jupyter.widget-view+json": {
       "model_id": "7f44e504ab4e49ca8407f3f798aac9cd",
       "version_major": 2,
       "version_minor": 0
      },
      "text/plain": [
       "Generating test split:   0%|          | 0/100 [00:00<?, ? examples/s]"
      ]
     },
     "metadata": {},
     "output_type": "display_data"
    },
    {
     "data": {
      "application/vnd.jupyter.widget-view+json": {
       "model_id": "06ce51b6b11a4e99a9690472daac3005",
       "version_major": 2,
       "version_minor": 0
      },
      "text/plain": [
       "Downloading data:   0%|          | 0.00/10.2k [00:00<?, ?B/s]"
      ]
     },
     "metadata": {},
     "output_type": "display_data"
    },
    {
     "data": {
      "application/vnd.jupyter.widget-view+json": {
       "model_id": "4e58d14e165746a09646ca5c2717507d",
       "version_major": 2,
       "version_minor": 0
      },
      "text/plain": [
       "Downloading data:   0%|          | 0.00/29.2k [00:00<?, ?B/s]"
      ]
     },
     "metadata": {},
     "output_type": "display_data"
    },
    {
     "data": {
      "application/vnd.jupyter.widget-view+json": {
       "model_id": "a98d91bc97244c529415e4a16771a153",
       "version_major": 2,
       "version_minor": 0
      },
      "text/plain": [
       "Generating dev split:   0%|          | 0/5 [00:00<?, ? examples/s]"
      ]
     },
     "metadata": {},
     "output_type": "display_data"
    },
    {
     "data": {
      "application/vnd.jupyter.widget-view+json": {
       "model_id": "6681d89d6a4a4455b806b7a33a6db483",
       "version_major": 2,
       "version_minor": 0
      },
      "text/plain": [
       "Generating test split:   0%|          | 0/100 [00:00<?, ? examples/s]"
      ]
     },
     "metadata": {},
     "output_type": "display_data"
    },
    {
     "data": {
      "application/vnd.jupyter.widget-view+json": {
       "model_id": "2973b04b2bf64cf2bd74055fc7e64901",
       "version_major": 2,
       "version_minor": 0
      },
      "text/plain": [
       "Downloading data:   0%|          | 0.00/15.6k [00:00<?, ?B/s]"
      ]
     },
     "metadata": {},
     "output_type": "display_data"
    },
    {
     "data": {
      "application/vnd.jupyter.widget-view+json": {
       "model_id": "e47ba94389be4707af816cd16b75e281",
       "version_major": 2,
       "version_minor": 0
      },
      "text/plain": [
       "Downloading data:   0%|          | 0.00/46.0k [00:00<?, ?B/s]"
      ]
     },
     "metadata": {},
     "output_type": "display_data"
    },
    {
     "data": {
      "application/vnd.jupyter.widget-view+json": {
       "model_id": "b2483c62909d44cda548ffe850f6be3e",
       "version_major": 2,
       "version_minor": 0
      },
      "text/plain": [
       "Generating dev split:   0%|          | 0/5 [00:00<?, ? examples/s]"
      ]
     },
     "metadata": {},
     "output_type": "display_data"
    },
    {
     "data": {
      "application/vnd.jupyter.widget-view+json": {
       "model_id": "04e27ff25def45b28140369fd3f2a30d",
       "version_major": 2,
       "version_minor": 0
      },
      "text/plain": [
       "Generating test split:   0%|          | 0/51 [00:00<?, ? examples/s]"
      ]
     },
     "metadata": {},
     "output_type": "display_data"
    },
    {
     "data": {
      "application/vnd.jupyter.widget-view+json": {
       "model_id": "ae3bb7879ba84adf82062aebafdd5284",
       "version_major": 2,
       "version_minor": 0
      },
      "text/plain": [
       "Downloading data:   0%|          | 0.00/10.9k [00:00<?, ?B/s]"
      ]
     },
     "metadata": {},
     "output_type": "display_data"
    },
    {
     "data": {
      "application/vnd.jupyter.widget-view+json": {
       "model_id": "dd0445675634440c97beaaa24101db43",
       "version_major": 2,
       "version_minor": 0
      },
      "text/plain": [
       "Downloading data:   0%|          | 0.00/49.2k [00:00<?, ?B/s]"
      ]
     },
     "metadata": {},
     "output_type": "display_data"
    },
    {
     "data": {
      "application/vnd.jupyter.widget-view+json": {
       "model_id": "aea95abe4db4400fa9412bccf5ee5d57",
       "version_major": 2,
       "version_minor": 0
      },
      "text/plain": [
       "Generating dev split:   0%|          | 0/5 [00:00<?, ? examples/s]"
      ]
     },
     "metadata": {},
     "output_type": "display_data"
    },
    {
     "data": {
      "application/vnd.jupyter.widget-view+json": {
       "model_id": "58f899a3c8db4ddb8063133ad07ab8f7",
       "version_major": 2,
       "version_minor": 0
      },
      "text/plain": [
       "Generating test split:   0%|          | 0/90 [00:00<?, ? examples/s]"
      ]
     },
     "metadata": {},
     "output_type": "display_data"
    },
    {
     "data": {
      "application/vnd.jupyter.widget-view+json": {
       "model_id": "f1e6a48da30c4323b295a346e2b69f69",
       "version_major": 2,
       "version_minor": 0
      },
      "text/plain": [
       "Downloading data:   0%|          | 0.00/11.8k [00:00<?, ?B/s]"
      ]
     },
     "metadata": {},
     "output_type": "display_data"
    },
    {
     "data": {
      "application/vnd.jupyter.widget-view+json": {
       "model_id": "28f0f0db0cee4411b92e26d0649780f6",
       "version_major": 2,
       "version_minor": 0
      },
      "text/plain": [
       "Downloading data:   0%|          | 0.00/42.9k [00:00<?, ?B/s]"
      ]
     },
     "metadata": {},
     "output_type": "display_data"
    },
    {
     "data": {
      "application/vnd.jupyter.widget-view+json": {
       "model_id": "a8ccd96edd3b452eb71bf15dc768a964",
       "version_major": 2,
       "version_minor": 0
      },
      "text/plain": [
       "Generating dev split:   0%|          | 0/5 [00:00<?, ? examples/s]"
      ]
     },
     "metadata": {},
     "output_type": "display_data"
    },
    {
     "data": {
      "application/vnd.jupyter.widget-view+json": {
       "model_id": "9b39afae10b2470c8096795db7978f82",
       "version_major": 2,
       "version_minor": 0
      },
      "text/plain": [
       "Generating test split:   0%|          | 0/100 [00:00<?, ? examples/s]"
      ]
     },
     "metadata": {},
     "output_type": "display_data"
    },
    {
     "data": {
      "application/vnd.jupyter.widget-view+json": {
       "model_id": "56a7e1498a5343c08a8b04e92c7a5dd1",
       "version_major": 2,
       "version_minor": 0
      },
      "text/plain": [
       "Downloading data:   0%|          | 0.00/11.8k [00:00<?, ?B/s]"
      ]
     },
     "metadata": {},
     "output_type": "display_data"
    },
    {
     "data": {
      "application/vnd.jupyter.widget-view+json": {
       "model_id": "5229c028a5134c89acbd83e573d2077d",
       "version_major": 2,
       "version_minor": 0
      },
      "text/plain": [
       "Downloading data:   0%|          | 0.00/26.7k [00:00<?, ?B/s]"
      ]
     },
     "metadata": {},
     "output_type": "display_data"
    },
    {
     "data": {
      "application/vnd.jupyter.widget-view+json": {
       "model_id": "8c04b386fd334055ab9c9a2ef3d240be",
       "version_major": 2,
       "version_minor": 0
      },
      "text/plain": [
       "Generating dev split:   0%|          | 0/5 [00:00<?, ? examples/s]"
      ]
     },
     "metadata": {},
     "output_type": "display_data"
    },
    {
     "data": {
      "application/vnd.jupyter.widget-view+json": {
       "model_id": "e4fd6519b603451c85f5f46d5aeb3e9d",
       "version_major": 2,
       "version_minor": 0
      },
      "text/plain": [
       "Generating test split:   0%|          | 0/100 [00:00<?, ? examples/s]"
      ]
     },
     "metadata": {},
     "output_type": "display_data"
    },
    {
     "data": {
      "application/vnd.jupyter.widget-view+json": {
       "model_id": "4f3e041c1ad44b5196cdc29dc25af38c",
       "version_major": 2,
       "version_minor": 0
      },
      "text/plain": [
       "Downloading data:   0%|          | 0.00/8.45k [00:00<?, ?B/s]"
      ]
     },
     "metadata": {},
     "output_type": "display_data"
    },
    {
     "data": {
      "application/vnd.jupyter.widget-view+json": {
       "model_id": "6650a06b4ed1459da8dd5f4edf849e27",
       "version_major": 2,
       "version_minor": 0
      },
      "text/plain": [
       "Downloading data:   0%|          | 0.00/27.4k [00:00<?, ?B/s]"
      ]
     },
     "metadata": {},
     "output_type": "display_data"
    },
    {
     "data": {
      "application/vnd.jupyter.widget-view+json": {
       "model_id": "a6942336ca1f468c97d559984e97b388",
       "version_major": 2,
       "version_minor": 0
      },
      "text/plain": [
       "Generating dev split:   0%|          | 0/5 [00:00<?, ? examples/s]"
      ]
     },
     "metadata": {},
     "output_type": "display_data"
    },
    {
     "data": {
      "application/vnd.jupyter.widget-view+json": {
       "model_id": "64e39f6a38594acea83318022016d349",
       "version_major": 2,
       "version_minor": 0
      },
      "text/plain": [
       "Generating test split:   0%|          | 0/100 [00:00<?, ? examples/s]"
      ]
     },
     "metadata": {},
     "output_type": "display_data"
    },
    {
     "data": {
      "application/vnd.jupyter.widget-view+json": {
       "model_id": "021265269a0447d78689bc8c567e962e",
       "version_major": 2,
       "version_minor": 0
      },
      "text/plain": [
       "Downloading data:   0%|          | 0.00/11.7k [00:00<?, ?B/s]"
      ]
     },
     "metadata": {},
     "output_type": "display_data"
    },
    {
     "data": {
      "application/vnd.jupyter.widget-view+json": {
       "model_id": "21ccb17451174ec69d1c62d9e0ae4cc1",
       "version_major": 2,
       "version_minor": 0
      },
      "text/plain": [
       "Downloading data:   0%|          | 0.00/57.7k [00:00<?, ?B/s]"
      ]
     },
     "metadata": {},
     "output_type": "display_data"
    },
    {
     "data": {
      "application/vnd.jupyter.widget-view+json": {
       "model_id": "2fde248d3735408a870acea5e844b705",
       "version_major": 2,
       "version_minor": 0
      },
      "text/plain": [
       "Generating dev split:   0%|          | 0/5 [00:00<?, ? examples/s]"
      ]
     },
     "metadata": {},
     "output_type": "display_data"
    },
    {
     "data": {
      "application/vnd.jupyter.widget-view+json": {
       "model_id": "2d6ffacbce25483a9217b3f06c8e342a",
       "version_major": 2,
       "version_minor": 0
      },
      "text/plain": [
       "Generating test split:   0%|          | 0/89 [00:00<?, ? examples/s]"
      ]
     },
     "metadata": {},
     "output_type": "display_data"
    },
    {
     "data": {
      "application/vnd.jupyter.widget-view+json": {
       "model_id": "2bf4e054343c410aa2ebbab60b653e91",
       "version_major": 2,
       "version_minor": 0
      },
      "text/plain": [
       "Downloading data:   0%|          | 0.00/7.97k [00:00<?, ?B/s]"
      ]
     },
     "metadata": {},
     "output_type": "display_data"
    },
    {
     "data": {
      "application/vnd.jupyter.widget-view+json": {
       "model_id": "461d80784383431383890946bcadea96",
       "version_major": 2,
       "version_minor": 0
      },
      "text/plain": [
       "Downloading data:   0%|          | 0.00/27.9k [00:00<?, ?B/s]"
      ]
     },
     "metadata": {},
     "output_type": "display_data"
    },
    {
     "data": {
      "application/vnd.jupyter.widget-view+json": {
       "model_id": "44ee70073ba04c15bc9e4ed40b115fea",
       "version_major": 2,
       "version_minor": 0
      },
      "text/plain": [
       "Generating dev split:   0%|          | 0/5 [00:00<?, ? examples/s]"
      ]
     },
     "metadata": {},
     "output_type": "display_data"
    },
    {
     "data": {
      "application/vnd.jupyter.widget-view+json": {
       "model_id": "5de04b8e8e2643249ca9dcc8245b3bbb",
       "version_major": 2,
       "version_minor": 0
      },
      "text/plain": [
       "Generating test split:   0%|          | 0/100 [00:00<?, ? examples/s]"
      ]
     },
     "metadata": {},
     "output_type": "display_data"
    },
    {
     "data": {
      "application/vnd.jupyter.widget-view+json": {
       "model_id": "cab90c66fd2342b793566e384f9b7dab",
       "version_major": 2,
       "version_minor": 0
      },
      "text/plain": [
       "Downloading data:   0%|          | 0.00/10.5k [00:00<?, ?B/s]"
      ]
     },
     "metadata": {},
     "output_type": "display_data"
    },
    {
     "data": {
      "application/vnd.jupyter.widget-view+json": {
       "model_id": "6e382bc19c4246279e281450648d82b8",
       "version_major": 2,
       "version_minor": 0
      },
      "text/plain": [
       "Downloading data:   0%|          | 0.00/36.4k [00:00<?, ?B/s]"
      ]
     },
     "metadata": {},
     "output_type": "display_data"
    },
    {
     "data": {
      "application/vnd.jupyter.widget-view+json": {
       "model_id": "4359175499ad46f4b07f64ec3fbd5b67",
       "version_major": 2,
       "version_minor": 0
      },
      "text/plain": [
       "Generating dev split:   0%|          | 0/5 [00:00<?, ? examples/s]"
      ]
     },
     "metadata": {},
     "output_type": "display_data"
    },
    {
     "data": {
      "application/vnd.jupyter.widget-view+json": {
       "model_id": "011b231d0ee9429d95a4cb010d5d4a81",
       "version_major": 2,
       "version_minor": 0
      },
      "text/plain": [
       "Generating test split:   0%|          | 0/100 [00:00<?, ? examples/s]"
      ]
     },
     "metadata": {},
     "output_type": "display_data"
    },
    {
     "data": {
      "application/vnd.jupyter.widget-view+json": {
       "model_id": "ac2e7a2a386845a8aaa5c4834ba29649",
       "version_major": 2,
       "version_minor": 0
      },
      "text/plain": [
       "Downloading data:   0%|          | 0.00/14.4k [00:00<?, ?B/s]"
      ]
     },
     "metadata": {},
     "output_type": "display_data"
    },
    {
     "data": {
      "application/vnd.jupyter.widget-view+json": {
       "model_id": "5442110495164ba7989e0a9d6ab7eddb",
       "version_major": 2,
       "version_minor": 0
      },
      "text/plain": [
       "Downloading data:   0%|          | 0.00/88.3k [00:00<?, ?B/s]"
      ]
     },
     "metadata": {},
     "output_type": "display_data"
    },
    {
     "data": {
      "application/vnd.jupyter.widget-view+json": {
       "model_id": "1e9423aaf0154c4a9e00bbdd765aab13",
       "version_major": 2,
       "version_minor": 0
      },
      "text/plain": [
       "Generating dev split:   0%|          | 0/5 [00:00<?, ? examples/s]"
      ]
     },
     "metadata": {},
     "output_type": "display_data"
    },
    {
     "data": {
      "application/vnd.jupyter.widget-view+json": {
       "model_id": "04afd7967bef41d199a45b57958fe9bb",
       "version_major": 2,
       "version_minor": 0
      },
      "text/plain": [
       "Generating test split:   0%|          | 0/96 [00:00<?, ? examples/s]"
      ]
     },
     "metadata": {},
     "output_type": "display_data"
    },
    {
     "data": {
      "application/vnd.jupyter.widget-view+json": {
       "model_id": "27b82c6dea7f4e479b0493f478d22318",
       "version_major": 2,
       "version_minor": 0
      },
      "text/plain": [
       "Downloading data:   0%|          | 0.00/8.43k [00:00<?, ?B/s]"
      ]
     },
     "metadata": {},
     "output_type": "display_data"
    },
    {
     "data": {
      "application/vnd.jupyter.widget-view+json": {
       "model_id": "8ad0c7d684dd45c686b0725b881918a6",
       "version_major": 2,
       "version_minor": 0
      },
      "text/plain": [
       "Downloading data:   0%|          | 0.00/28.7k [00:00<?, ?B/s]"
      ]
     },
     "metadata": {},
     "output_type": "display_data"
    },
    {
     "data": {
      "application/vnd.jupyter.widget-view+json": {
       "model_id": "9bae717a5a8846028d1bea288f2bd5b4",
       "version_major": 2,
       "version_minor": 0
      },
      "text/plain": [
       "Generating dev split:   0%|          | 0/5 [00:00<?, ? examples/s]"
      ]
     },
     "metadata": {},
     "output_type": "display_data"
    },
    {
     "data": {
      "application/vnd.jupyter.widget-view+json": {
       "model_id": "6d1e2f843ff24eb1bcdd80df95c299a5",
       "version_major": 2,
       "version_minor": 0
      },
      "text/plain": [
       "Generating test split:   0%|          | 0/100 [00:00<?, ? examples/s]"
      ]
     },
     "metadata": {},
     "output_type": "display_data"
    },
    {
     "data": {
      "application/vnd.jupyter.widget-view+json": {
       "model_id": "0dc2dcfc20124d9081752a3e2b740e53",
       "version_major": 2,
       "version_minor": 0
      },
      "text/plain": [
       "Downloading data:   0%|          | 0.00/11.6k [00:00<?, ?B/s]"
      ]
     },
     "metadata": {},
     "output_type": "display_data"
    },
    {
     "data": {
      "application/vnd.jupyter.widget-view+json": {
       "model_id": "2e6c34e17da543ac9a40259edc2acddb",
       "version_major": 2,
       "version_minor": 0
      },
      "text/plain": [
       "Downloading data:   0%|          | 0.00/29.1k [00:00<?, ?B/s]"
      ]
     },
     "metadata": {},
     "output_type": "display_data"
    },
    {
     "data": {
      "application/vnd.jupyter.widget-view+json": {
       "model_id": "aa08ed9253d442eb98f1df4bb04d627c",
       "version_major": 2,
       "version_minor": 0
      },
      "text/plain": [
       "Generating dev split:   0%|          | 0/5 [00:00<?, ? examples/s]"
      ]
     },
     "metadata": {},
     "output_type": "display_data"
    },
    {
     "data": {
      "application/vnd.jupyter.widget-view+json": {
       "model_id": "a855fefeca0a4f5b8014fc8fc08589a1",
       "version_major": 2,
       "version_minor": 0
      },
      "text/plain": [
       "Generating test split:   0%|          | 0/44 [00:00<?, ? examples/s]"
      ]
     },
     "metadata": {},
     "output_type": "display_data"
    },
    {
     "data": {
      "application/vnd.jupyter.widget-view+json": {
       "model_id": "98d861a88efd43ce934438325148882f",
       "version_major": 2,
       "version_minor": 0
      },
      "text/plain": [
       "Downloading data:   0%|          | 0.00/8.13k [00:00<?, ?B/s]"
      ]
     },
     "metadata": {},
     "output_type": "display_data"
    },
    {
     "data": {
      "application/vnd.jupyter.widget-view+json": {
       "model_id": "c2d0c9007564494f8e12be9a0c9bd97b",
       "version_major": 2,
       "version_minor": 0
      },
      "text/plain": [
       "Downloading data:   0%|          | 0.00/18.3k [00:00<?, ?B/s]"
      ]
     },
     "metadata": {},
     "output_type": "display_data"
    },
    {
     "data": {
      "application/vnd.jupyter.widget-view+json": {
       "model_id": "d0b154e4fc9345418e20db6ef2f4222c",
       "version_major": 2,
       "version_minor": 0
      },
      "text/plain": [
       "Generating dev split:   0%|          | 0/5 [00:00<?, ? examples/s]"
      ]
     },
     "metadata": {},
     "output_type": "display_data"
    },
    {
     "data": {
      "application/vnd.jupyter.widget-view+json": {
       "model_id": "133fa09d44624fea9ecd619a592717c6",
       "version_major": 2,
       "version_minor": 0
      },
      "text/plain": [
       "Generating test split:   0%|          | 0/100 [00:00<?, ? examples/s]"
      ]
     },
     "metadata": {},
     "output_type": "display_data"
    }
   ],
   "source": [
    "\n",
    "        \n",
    "with tqdm(total=len(task)) as pbar:\n",
    "    for t in task:\n",
    "        pbar.set_postfix_str(t)\n",
    "        task_name = t.lower().replace(\"-\", \"_\")\n",
    "        ds = load_dataset(\"HAERAE-HUB/KMMLU-HARD\", task_name)\n",
    "        test_df = ds['test'].to_pandas()\n",
    "        dev_df = ds['dev'].to_pandas()\n",
    "        test_df['answer'] = test_df['answer'].apply(casting_idx2option)\n",
    "        dev_df['answer'] = dev_df['answer'].apply(casting_idx2option)\n",
    "        test_df.rename(columns={\"cot\": \"explanation\"}, inplace=True)\n",
    "        dev_df.rename(columns={\"cot\": \"explanation\"}, inplace=True)\n",
    "        os.makedirs(\"/work/u5110390/BenchWeaver/evaluation_data/kmmlu-hard/data/dev\", exist_ok=True)\n",
    "        os.makedirs(\"/work/u5110390/BenchWeaver/evaluation_data/kmmlu-hard/data/test\", exist_ok=True)\n",
    "        dev_df.to_csv(f\"/work/u5110390/BenchWeaver/evaluation_data/kmmlu-hard/data/dev/{task_name}_dev.csv\", index=False)\n",
    "        test_df.to_csv(f\"/work/u5110390/BenchWeaver/evaluation_data/kmmlu-hard/data/test/{task_name}_test.csv\", index=False)\n",
    "        pbar.update(1)"
   ]
  },
  {
   "cell_type": "code",
   "execution_count": 1,
   "metadata": {},
   "outputs": [],
   "source": [
    "import pandas as pd\n",
    "df = pd.read_csv(\"/work/u5110390/BenchWeaver/evaluation_data/kmmlu/data/test/agricultural_sciences_test.csv\")"
   ]
  },
  {
   "cell_type": "markdown",
   "metadata": {},
   "source": [
    "# TMMLU+"
   ]
  },
  {
   "cell_type": "code",
   "execution_count": null,
   "metadata": {},
   "outputs": [
    {
     "name": "stderr",
     "output_type": "stream",
     "text": [
      "/home/joeyliang/anaconda3/envs/BenchWeaver/lib/python3.11/site-packages/tqdm/auto.py:21: TqdmWarning: IProgress not found. Please update jupyter and ipywidgets. See https://ipywidgets.readthedocs.io/en/stable/user_install.html\n",
      "  from .autonotebook import tqdm as notebook_tqdm\n"
     ]
    }
   ],
   "source": [
    "from datasets import load_dataset\n",
    "import os\n",
    "import pandas as pd\n",
    "import zipfile\n",
    "import shutil\n",
    "\n",
    "task_list = [\n",
    "             'engineering_math', 'dentistry', 'traditional_chinese_medicine_clinical_medicine', 'clinical_psychology', 'technical', 'culinary_skills', 'mechanical', 'logic_reasoning', 'real_estate',\n",
    "             'general_principles_of_law', 'finance_banking', 'anti_money_laundering', 'ttqav2', 'marketing_management', 'business_management', 'organic_chemistry', 'advance_chemistry',\n",
    "             'physics', 'secondary_physics', 'human_behavior', 'national_protection', 'jce_humanities', 'politic_science', 'agriculture', 'official_document_management',\n",
    "             'financial_analysis', 'pharmacy', 'educational_psychology', 'statistics_and_machine_learning', 'management_accounting', 'introduction_to_law', 'computer_science', 'veterinary_pathology',\n",
    "             'accounting', 'fire_science', 'optometry', 'insurance_studies', 'pharmacology', 'taxation', 'trust_practice', 'geography_of_taiwan', 'physical_education', 'auditing', 'administrative_law',\n",
    "             'education_(profession_level)', 'economics', 'veterinary_pharmacology', 'nautical_science', 'occupational_therapy_for_psychological_disorders',\n",
    "             'basic_medical_science', 'macroeconomics', 'trade', 'chinese_language_and_literature', 'tve_design', 'junior_science_exam', 'junior_math_exam', 'junior_chinese_exam',\n",
    "             'junior_social_studies', 'tve_mathematics', 'tve_chinese_language', 'tve_natural_sciences', 'junior_chemistry', 'music', 'education', 'three_principles_of_people',\n",
    "             'taiwanese_hokkien'\n",
    "            ]\n",
    "\n",
    "base_dir = \"/work/u5110390/BenchWeaver/evaluation_data/tmmluplus/data\"\n",
    "for task in task_list:\n",
    "    val = load_dataset('ikala/tmmluplus', task)['validation']\n",
    "    dev = load_dataset('ikala/tmmluplus', task)['train']\n",
    "    test = load_dataset('ikala/tmmluplus', task)['test']\n",
    "    # Convert datasets to DataFrames\n",
    "    val_df = val.to_pandas()\n",
    "    dev_df = dev.to_pandas()\n",
    "    test_df = test.to_pandas()\n",
    "    # Define file paths\n",
    "    val_file = os.path.join(base_dir, 'val', f\"{task}_val.csv\")\n",
    "    dev_file = os.path.join(base_dir, 'dev', f\"{task}_dev.csv\")\n",
    "    test_file = os.path.join(base_dir, 'test', f\"{task}_test.csv\")\n",
    "    # Create directories if they don't exist\n",
    "    os.makedirs(os.path.dirname(val_file), exist_ok=True)\n",
    "    os.makedirs(os.path.dirname(dev_file), exist_ok=True)\n",
    "    os.makedirs(os.path.dirname(test_file), exist_ok=True)\n",
    "    # Save DataFrames to CSV files\n",
    "    val_df.to_csv(val_file, index=False)\n",
    "    dev_df.to_csv(dev_file, index=False)\n",
    "    test_df.to_csv(test_file, index=False)\n",
    "\n",
    "# Define the zip file name\n",
    "zip_file = \"tmmluplus.zip\"\n",
    "\n",
    "# Function to zip a directory and its contents\n",
    "def zip_dir(directory, zip_file):\n",
    "    with zipfile.ZipFile(zip_file, 'w', zipfile.ZIP_DEFLATED) as zipf:\n",
    "        for root, _, files in os.walk(directory):\n",
    "            for file in files:\n",
    "                zipf.write(os.path.join(root, file), os.path.relpath(os.path.join(root, file), directory))\n",
    "\n",
    "# Zip the directory\n",
    "zip_dir(base_dir, zip_file)\n",
    "# Remove the base directory after zipping\n",
    "shutil.rmtree(base_dir)"
   ]
  },
  {
   "cell_type": "code",
   "execution_count": null,
   "metadata": {},
   "outputs": [
    {
     "data": {
      "text/html": [
       "<div>\n",
       "<style scoped>\n",
       "    .dataframe tbody tr th:only-of-type {\n",
       "        vertical-align: middle;\n",
       "    }\n",
       "\n",
       "    .dataframe tbody tr th {\n",
       "        vertical-align: top;\n",
       "    }\n",
       "\n",
       "    .dataframe thead th {\n",
       "        text-align: right;\n",
       "    }\n",
       "</style>\n",
       "<table border=\"1\" class=\"dataframe\">\n",
       "  <thead>\n",
       "    <tr style=\"text-align: right;\">\n",
       "      <th></th>\n",
       "      <th>subject</th>\n",
       "      <th>name</th>\n",
       "      <th>category</th>\n",
       "    </tr>\n",
       "  </thead>\n",
       "  <tbody>\n",
       "    <tr>\n",
       "      <th>0</th>\n",
       "      <td>dentistry</td>\n",
       "      <td>牙醫學</td>\n",
       "      <td>health</td>\n",
       "    </tr>\n",
       "    <tr>\n",
       "      <th>1</th>\n",
       "      <td>traditional_chinese_medicine_clinical_medicine</td>\n",
       "      <td>中醫臨床醫學</td>\n",
       "      <td>health</td>\n",
       "    </tr>\n",
       "    <tr>\n",
       "      <th>2</th>\n",
       "      <td>clinical_psychology</td>\n",
       "      <td>臨床心理學</td>\n",
       "      <td>psychology</td>\n",
       "    </tr>\n",
       "    <tr>\n",
       "      <th>3</th>\n",
       "      <td>technical</td>\n",
       "      <td>技術工相關</td>\n",
       "      <td>other</td>\n",
       "    </tr>\n",
       "    <tr>\n",
       "      <th>4</th>\n",
       "      <td>culinary_skills</td>\n",
       "      <td>餐旅</td>\n",
       "      <td>other</td>\n",
       "    </tr>\n",
       "    <tr>\n",
       "      <th>...</th>\n",
       "      <td>...</td>\n",
       "      <td>...</td>\n",
       "      <td>...</td>\n",
       "    </tr>\n",
       "    <tr>\n",
       "      <th>62</th>\n",
       "      <td>music</td>\n",
       "      <td>音樂科</td>\n",
       "      <td>other</td>\n",
       "    </tr>\n",
       "    <tr>\n",
       "      <th>63</th>\n",
       "      <td>education</td>\n",
       "      <td>教育常識</td>\n",
       "      <td>education</td>\n",
       "    </tr>\n",
       "    <tr>\n",
       "      <th>64</th>\n",
       "      <td>three_principles_of_people</td>\n",
       "      <td>三民主義</td>\n",
       "      <td>culture</td>\n",
       "    </tr>\n",
       "    <tr>\n",
       "      <th>65</th>\n",
       "      <td>taiwanese_hokkien</td>\n",
       "      <td>閩南語</td>\n",
       "      <td>culture</td>\n",
       "    </tr>\n",
       "    <tr>\n",
       "      <th>66</th>\n",
       "      <td>engineering_math</td>\n",
       "      <td>工程數學</td>\n",
       "      <td>math</td>\n",
       "    </tr>\n",
       "  </tbody>\n",
       "</table>\n",
       "<p>67 rows × 3 columns</p>\n",
       "</div>"
      ],
      "text/plain": [
       "                                           subject    name    category\n",
       "0                                        dentistry     牙醫學      health\n",
       "1   traditional_chinese_medicine_clinical_medicine  中醫臨床醫學      health\n",
       "2                              clinical_psychology   臨床心理學  psychology\n",
       "3                                        technical   技術工相關       other\n",
       "4                                  culinary_skills      餐旅       other\n",
       "..                                             ...     ...         ...\n",
       "62                                           music     音樂科       other\n",
       "63                                       education    教育常識   education\n",
       "64                      three_principles_of_people    三民主義     culture\n",
       "65                               taiwanese_hokkien     閩南語     culture\n",
       "66                                engineering_math    工程數學        math\n",
       "\n",
       "[67 rows x 3 columns]"
      ]
     },
     "execution_count": 13,
     "metadata": {},
     "output_type": "execute_result"
    }
   ],
   "source": [
    "import pandas as pd\n",
    "df = pd.read_csv(\"/work/u5110390/BenchWeaver/evaluation_data/tmmluplus/subject.tsv\", delimiter=\"\\t\")\n",
    "df"
   ]
  },
  {
   "cell_type": "code",
   "execution_count": 14,
   "metadata": {},
   "outputs": [],
   "source": [
    "mmlu_mapping = {\n",
    "    \"health\": \"Other\",\n",
    "    \"psychology\": \"Social Sciences\",\n",
    "    \"other\": \"Other\",\n",
    "    \"law\": \"Social Sciences\",\n",
    "    \"business\": \"Other\",\n",
    "    \"culture\": \"Humanities\",\n",
    "    \"chemistry\": \"STEM\",\n",
    "    \"physics\": \"STEM\",\n",
    "    \"politics\": \"Social Sciences\",\n",
    "    \"philosophy\": \"Humanities\",\n",
    "    \"math\": \"STEM\",\n",
    "    \"biology\": \"STEM\",\n",
    "    \"engineering\": \"STEM\",\n",
    "    \"computer science\": \"STEM\",\n",
    "    \"education\": \"Social Sciences\",\n",
    "    \"economics\": \"Social Sciences\",\n",
    "    \"geography\": \"Social Sciences\"\n",
    "}\n"
   ]
  },
  {
   "cell_type": "code",
   "execution_count": 15,
   "metadata": {},
   "outputs": [],
   "source": [
    "catogories = {}\n",
    "for idx in range(df.shape[0]):\n",
    "    catogories[df['subject'][idx]] = {\n",
    "        \"name\": df['name'][idx],\n",
    "        \"category\": mmlu_mapping[df['category'][idx]]\n",
    "    }"
   ]
  },
  {
   "cell_type": "code",
   "execution_count": null,
   "metadata": {},
   "outputs": [],
   "source": [
    "import json\n",
    "with open(\"/work/u5110390/BenchWeaver/evaluation_data/tmmluplus/mapping.json\", \"w\") as f:\n",
    "    json.dump(catogories, f, ensure_ascii=False, indent=2)"
   ]
  },
  {
   "cell_type": "markdown",
   "metadata": {},
   "source": [
    "# TMLU"
   ]
  },
  {
   "cell_type": "code",
   "execution_count": 6,
   "metadata": {},
   "outputs": [],
   "source": [
    "mapping ={\n",
    "    \"AST_civics\": {\"name\": \"分科測驗公民\", \"category\": \"Social Science\"},\n",
    "    \"AST_geography\": {\"name\": \"分科測驗地理\", \"category\": \"Social Science\"},\n",
    "    \"CAP_civics\": {\"name\": \"會考公民\", \"category\": \"Social Science\"},\n",
    "    \"CAP_geography\": {\"name\": \"會考地理\", \"category\": \"Social Science\"},\n",
    "    \"GSAT_civics\": {\"name\": \"學測公民\", \"category\": \"Social Science\"},\n",
    "    \"GSAT_geography\": {\"name\": \"學測地理\", \"category\": \"Social Science\"},\n",
    "    \"accountant\": {\"name\": \"會計師\", \"category\": \"Social Science\"},\n",
    "    \"clinical_psychologist\": {\"name\": \"臨床心理師\", \"category\": \"Social Science\"},\n",
    "    \"AST_biology\": {\"name\": \"分科測驗生物\", \"category\": \"STEM\"},\n",
    "    \"AST_chemistry\": {\"name\": \"分科測驗化學\", \"category\": \"STEM\"},\n",
    "    \"AST_mathematics\": {\"name\": \"分科測驗數學\", \"category\": \"STEM\"},\n",
    "    \"AST_physics\": {\"name\": \"分科測驗物理\", \"category\": \"STEM\"},\n",
    "    \"CAP_biology\": {\"name\": \"會考生物\", \"category\": \"STEM\"},\n",
    "    \"CAP_chemistry\": {\"name\": \"會考化學\", \"category\": \"STEM\"},\n",
    "    \"CAP_earth_science\": {\"name\": \"會考地球科學\", \"category\": \"STEM\"},\n",
    "    \"CAP_mathematics\": {\"name\": \"會考數學\", \"category\": \"STEM\"},\n",
    "    \"CAP_physics\": {\"name\": \"會考物理\", \"category\": \"STEM\"},\n",
    "    \"GSAT_biology\": {\"name\": \"學測生物\", \"category\": \"STEM\"},\n",
    "    \"GSAT_chemistry\": {\"name\": \"學測化學\", \"category\": \"STEM\"},\n",
    "    \"GSAT_earth_science\": {\"name\": \"學測地球科學\", \"category\": \"STEM\"},\n",
    "    \"GSAT_mathematics\": {\"name\": \"學測數學\", \"category\": \"STEM\"},\n",
    "    \"GSAT_physics\": {\"name\": \"學測物理\", \"category\": \"STEM\"},\n",
    "    \"AST_chinese\": {\"name\": \"分科測驗國文\", \"category\": \"Humanities\"},\n",
    "    \"AST_history\": {\"name\": \"分科測驗歷史\", \"category\": \"Humanities\"},\n",
    "    \"CAP_chinese\": {\"name\": \"會考國文\", \"category\": \"Humanities\"},\n",
    "    \"CAP_history\": {\"name\": \"會考歷史\", \"category\": \"Humanities\"},\n",
    "    \"GSAT_chinese\": {\"name\": \"學測國文\", \"category\": \"Humanities\"},\n",
    "    \"GSAT_history\": {\"name\": \"學測歷史\", \"category\": \"Humanities\"},\n",
    "    \"tour_guide\": {\"name\": \"導遊\", \"category\": \"Humanities\"},\n",
    "    \"tour_leader\": {\"name\": \"領隊\", \"category\": \"Humanities\"},\n",
    "    \"lawyer_qualification\": {\"name\": \"律師資格\", \"category\": \"Humanities\"},\n",
    "    \"driving_rule\": {\"name\": \"台灣駕駛規則\", \"category\": \"Taiwan Specific\"},\n",
    "    \"teacher_qualification\": {\"name\": \"教師資格\", \"category\": \"Taiwan Specific\"},\n",
    "    \"taiwan_tourist_resources\": {\"name\": \"台灣觀光資源\", \"category\": \"Taiwan Specific\"},\n",
    "    \"basic_traditional_chinese_medicine\": {\"name\": \"中醫基礎醫學\", \"category\": \"Others\"},\n",
    "    \"clinical_traditional_chinese_medicine\": {\"name\": \"中醫針灸\", \"category\": \"Others\"},\n",
    "    \"nutritionist\": {\"name\": \"營養師\", \"category\": \"Others\"}\n",
    "}\n"
   ]
  },
  {
   "cell_type": "code",
   "execution_count": 22,
   "metadata": {},
   "outputs": [
    {
     "data": {
      "text/plain": [
       "['AST_civics',\n",
       " 'AST_geography',\n",
       " 'CAP_civics',\n",
       " 'CAP_geography',\n",
       " 'GSAT_civics',\n",
       " 'GSAT_geography',\n",
       " 'accountant',\n",
       " 'clinical_psychologist',\n",
       " 'AST_biology',\n",
       " 'AST_chemistry',\n",
       " 'AST_mathematics',\n",
       " 'AST_physics',\n",
       " 'CAP_biology',\n",
       " 'CAP_chemistry',\n",
       " 'CAP_earth_science',\n",
       " 'CAP_mathematics',\n",
       " 'CAP_physics',\n",
       " 'GSAT_biology',\n",
       " 'GSAT_chemistry',\n",
       " 'GSAT_earth_science',\n",
       " 'GSAT_mathematics',\n",
       " 'GSAT_physics',\n",
       " 'AST_chinese',\n",
       " 'AST_history',\n",
       " 'CAP_chinese',\n",
       " 'CAP_history',\n",
       " 'GSAT_chinese',\n",
       " 'GSAT_history',\n",
       " 'tour_guide',\n",
       " 'tour_leader',\n",
       " 'lawyer_qualification',\n",
       " 'driving_rule',\n",
       " 'teacher_qualification',\n",
       " 'taiwan_tourist_resources',\n",
       " 'basic_traditional_chinese_medicine',\n",
       " 'clinical_traditional_chinese_medicine',\n",
       " 'nutritionist']"
      ]
     },
     "execution_count": 22,
     "metadata": {},
     "output_type": "execute_result"
    }
   ],
   "source": [
    "task_list = list(mapping.keys())\n",
    "task_list"
   ]
  },
  {
   "cell_type": "code",
   "execution_count": null,
   "metadata": {},
   "outputs": [],
   "source": [
    "import json\n",
    "with open(\"/work/u5110390/BenchWeaver/evaluation_data/tmlu/mapping.json\", \"w\") as f:\n",
    "    json.dump(mapping, f, ensure_ascii=False, indent=2)"
   ]
  },
  {
   "cell_type": "code",
   "execution_count": null,
   "metadata": {},
   "outputs": [
    {
     "name": "stderr",
     "output_type": "stream",
     "text": [
      "100%|██████████| 37/37 [01:17<00:00,  2.08s/it]\n"
     ]
    }
   ],
   "source": [
    "from datasets import load_dataset\n",
    "from tqdm.auto import tqdm\n",
    "import pandas as pd\n",
    "import os\n",
    "import zipfile\n",
    "import shutil\n",
    "\n",
    "def process_df(df:pd.DataFrame) -> pd.DataFrame:\n",
    "    choice_lists = []\n",
    "    for idx in range(df.shape[0]):\n",
    "        answer_opt = df['answer'].iloc[idx]\n",
    "        choice_list = [\n",
    "            df.loc[idx, 'A'],\n",
    "            df.loc[idx, 'B'],\n",
    "            df.loc[idx, 'C'],\n",
    "            df.loc[idx, 'D'],\n",
    "            df.loc[idx, 'E'],\n",
    "            df.loc[idx, 'F'],\n",
    "        ]\n",
    "        df.loc[idx, 'choices'] = str(choice_list)\n",
    "        df.loc[idx, 'answer'] = df.loc[idx, answer_opt]\n",
    "    df = df[['question', 'choices', 'answer']]\n",
    "    return df\n",
    "\n",
    "base_dir = \"/work/u5110390/BenchWeaver/evaluation_data/tmlu/data\"\n",
    "os.makedirs(base_dir, exist_ok=True)\n",
    "\n",
    "for task in tqdm(mapping.keys()):\n",
    "    ds = load_dataset(\"miulab/tmlu\", task)\n",
    "    dev_df = process_df(ds['dev'].to_pandas())\n",
    "    test_df = process_df(ds['test'].to_pandas())\n",
    "    dev_file = os.path.join(base_dir, 'dev', f\"{task}_dev.csv\")\n",
    "    test_file = os.path.join(base_dir, 'test', f\"{task}_test.csv\")\n",
    "    os.makedirs(os.path.dirname(dev_file), exist_ok=True)\n",
    "    os.makedirs(os.path.dirname(test_file), exist_ok=True)\n",
    "    dev_df.to_csv(dev_file, index=False)\n",
    "    test_df.to_csv(test_file, index=False)\n",
    "\n",
    "# Define the zip file name\n",
    "zip_file = \"/work/u5110390/BenchWeaver/evaluation_data/tmlu/tmlu.zip\"\n",
    "\n",
    "# Function to zip a directory and its contents\n",
    "def zip_dir(directory, zip_file):\n",
    "    with zipfile.ZipFile(zip_file, 'w', zipfile.ZIP_DEFLATED) as zipf:\n",
    "        for root, _, files in os.walk(directory):\n",
    "            for file in files:\n",
    "                zipf.write(os.path.join(root, file), os.path.relpath(os.path.join(root, file), directory))\n",
    "\n",
    "# Zip the directory\n",
    "zip_dir(base_dir, zip_file)\n",
    "# Remove the base directory after zipping\n",
    "shutil.rmtree(base_dir)"
   ]
  },
  {
   "cell_type": "markdown",
   "metadata": {},
   "source": [
    "# DRCD"
   ]
  },
  {
   "cell_type": "code",
   "execution_count": null,
   "metadata": {},
   "outputs": [],
   "source": [
    "import json\n",
    "from typing import Any\n",
    "def load_json(file_path:str) -> Any:\n",
    "    with open(file_path, \"r\") as f:\n",
    "        data = json.load(f)\n",
    "    return data\n",
    "\n",
    "train_data = load_json(\"/work/u5110390/BenchWeaver/evaluation_data/drcd/DRCD_training.json\")\n",
    "dev_data = load_json(\"/work/u5110390/BenchWeaver/evaluation_data/drcd/DRCD_dev.json\")\n",
    "test_data = load_json(\"/work/u5110390/BenchWeaver/evaluation_data/drcd/DRCD_test.json\")"
   ]
  },
  {
   "cell_type": "code",
   "execution_count": 2,
   "metadata": {},
   "outputs": [],
   "source": [
    "train_record = {\n",
    "    \"title\": [],\n",
    "    \"id\": [],\n",
    "    \"context\": [],\n",
    "    \"question\": [],\n",
    "    \"answer\": [],\n",
    "    \"answer_start\": [],\n",
    "}\n",
    "dev_record = {\n",
    "    \"title\": [],\n",
    "    \"id\": [],\n",
    "    \"context\": [],\n",
    "    \"question\": [],\n",
    "    \"answer\": [],\n",
    "    \"answer_start\": [],\n",
    "}\n",
    "test_record = {\n",
    "    \"title\": [],\n",
    "    \"id\": [],\n",
    "    \"context\": [],\n",
    "    \"question\": [],\n",
    "    \"answer\": [],\n",
    "    \"answer_start\": [],\n",
    "}"
   ]
  },
  {
   "cell_type": "code",
   "execution_count": 3,
   "metadata": {},
   "outputs": [
    {
     "name": "stderr",
     "output_type": "stream",
     "text": [
      "/home/joeyliang/anaconda3/envs/BenchWeaver/lib/python3.11/site-packages/tqdm/auto.py:21: TqdmWarning: IProgress not found. Please update jupyter and ipywidgets. See https://ipywidgets.readthedocs.io/en/stable/user_install.html\n",
      "  from .autonotebook import tqdm as notebook_tqdm\n",
      "100%|██████████| 1960/1960 [00:00<00:00, 115814.15it/s]\n",
      "100%|██████████| 383/383 [00:00<00:00, 161953.67it/s]\n",
      "100%|██████████| 378/378 [00:00<00:00, 165116.32it/s]\n"
     ]
    }
   ],
   "source": [
    "from tqdm.auto import tqdm\n",
    "for idx in tqdm(range(len(train_data['data']))):\n",
    "    for paragraph in train_data['data'][idx]['paragraphs']:\n",
    "        for qa in paragraph['qas']:\n",
    "            train_record['title'].append(train_data['data'][idx]['title'])\n",
    "            train_record['id'].append(qa['id'])\n",
    "            train_record['context'].append(paragraph['context'])\n",
    "            train_record['question'].append(qa['question'])\n",
    "            train_record['answer'].append(qa['answers'][0]['text'])\n",
    "            train_record['answer_start'].append(qa['answers'][0]['answer_start'])\n",
    "\n",
    "for idx in tqdm(range(len(dev_data['data']))):\n",
    "    for paragraph in dev_data['data'][idx]['paragraphs']:\n",
    "        for qa in paragraph['qas']:\n",
    "            dev_record['title'].append(dev_data['data'][idx]['title'])\n",
    "            dev_record['id'].append(qa['id'])\n",
    "            dev_record['context'].append(paragraph['context'])\n",
    "            dev_record['question'].append(qa['question'])\n",
    "            dev_record['answer'].append(qa['answers'][0]['text'])\n",
    "            dev_record['answer_start'].append(qa['answers'][0]['answer_start'])\n",
    "            \n",
    "for idx in tqdm(range(len(test_data['data']))):\n",
    "    for paragraph in test_data['data'][idx]['paragraphs']:\n",
    "        for qa in paragraph['qas']:\n",
    "            test_record['title'].append(test_data['data'][idx]['title'])\n",
    "            test_record['id'].append(qa['id'])\n",
    "            test_record['context'].append(paragraph['context'])\n",
    "            test_record['question'].append(qa['question'])\n",
    "            test_record['answer'].append(qa['answers'][0]['text'])\n",
    "            test_record['answer_start'].append(qa['answers'][0]['answer_start'])"
   ]
  },
  {
   "cell_type": "code",
   "execution_count": 5,
   "metadata": {},
   "outputs": [
    {
     "data": {
      "text/html": [
       "<div>\n",
       "<style scoped>\n",
       "    .dataframe tbody tr th:only-of-type {\n",
       "        vertical-align: middle;\n",
       "    }\n",
       "\n",
       "    .dataframe tbody tr th {\n",
       "        vertical-align: top;\n",
       "    }\n",
       "\n",
       "    .dataframe thead th {\n",
       "        text-align: right;\n",
       "    }\n",
       "</style>\n",
       "<table border=\"1\" class=\"dataframe\">\n",
       "  <thead>\n",
       "    <tr style=\"text-align: right;\">\n",
       "      <th></th>\n",
       "      <th>title</th>\n",
       "      <th>id</th>\n",
       "      <th>context</th>\n",
       "      <th>question</th>\n",
       "      <th>answer</th>\n",
       "      <th>answer_start</th>\n",
       "    </tr>\n",
       "  </thead>\n",
       "  <tbody>\n",
       "    <tr>\n",
       "      <th>0</th>\n",
       "      <td>梵文</td>\n",
       "      <td>1147-2-1</td>\n",
       "      <td>要探討從梨俱吠陀到波你尼時代梵語的發展，可以考察印度教其它文本，如娑摩吠陀、夜柔吠陀、阿闥婆...</td>\n",
       "      <td>夜柔吠陀與阿闥婆吠陀均可以最為研究哪一門語言的參考？</td>\n",
       "      <td>梵語</td>\n",
       "      <td>14</td>\n",
       "    </tr>\n",
       "    <tr>\n",
       "      <th>1</th>\n",
       "      <td>梵文</td>\n",
       "      <td>1147-2-2</td>\n",
       "      <td>要探討從梨俱吠陀到波你尼時代梵語的發展，可以考察印度教其它文本，如娑摩吠陀、夜柔吠陀、阿闥婆...</td>\n",
       "      <td>哪一本書規範了梵語的正確語法？</td>\n",
       "      <td>八篇書</td>\n",
       "      <td>133</td>\n",
       "    </tr>\n",
       "    <tr>\n",
       "      <th>2</th>\n",
       "      <td>梵文</td>\n",
       "      <td>1147-2-3</td>\n",
       "      <td>要探討從梨俱吠陀到波你尼時代梵語的發展，可以考察印度教其它文本，如娑摩吠陀、夜柔吠陀、阿闥婆...</td>\n",
       "      <td>中古印度-雅利安語方言的前身與哪一門語言都同時在古印度使用？</td>\n",
       "      <td>梵語</td>\n",
       "      <td>315</td>\n",
       "    </tr>\n",
       "    <tr>\n",
       "      <th>3</th>\n",
       "      <td>梵文</td>\n",
       "      <td>1147-3-1</td>\n",
       "      <td>波你尼所定義的梵語是從更早的「吠陀」形式演化出來的。學者經常把吠陀梵語和古典或「波你尼」梵語...</td>\n",
       "      <td>波你尼梵語與哪一門語言非常相似？</td>\n",
       "      <td>吠陀梵語</td>\n",
       "      <td>31</td>\n",
       "    </tr>\n",
       "    <tr>\n",
       "      <th>4</th>\n",
       "      <td>梵文</td>\n",
       "      <td>1147-3-2</td>\n",
       "      <td>波你尼所定義的梵語是從更早的「吠陀」形式演化出來的。學者經常把吠陀梵語和古典或「波你尼」梵語...</td>\n",
       "      <td>印度教的最早宗教文本以什麼語言撰寫？</td>\n",
       "      <td>吠陀梵語</td>\n",
       "      <td>96</td>\n",
       "    </tr>\n",
       "    <tr>\n",
       "      <th>...</th>\n",
       "      <td>...</td>\n",
       "      <td>...</td>\n",
       "      <td>...</td>\n",
       "      <td>...</td>\n",
       "      <td>...</td>\n",
       "      <td>...</td>\n",
       "    </tr>\n",
       "    <tr>\n",
       "      <th>3488</th>\n",
       "      <td>喀喇汗国</td>\n",
       "      <td>6516-5-2</td>\n",
       "      <td>著名的薩圖克·博格拉汗是這個國家第一個皈依伊斯蘭教的可汗，更重要的是他也是世界歷史上第一個皈...</td>\n",
       "      <td>突厥人的第一個伊斯蘭教王朝是?</td>\n",
       "      <td>喀喇汗國</td>\n",
       "      <td>58</td>\n",
       "    </tr>\n",
       "    <tr>\n",
       "      <th>3489</th>\n",
       "      <td>喀喇汗国</td>\n",
       "      <td>6516-5-3</td>\n",
       "      <td>著名的薩圖克·博格拉汗是這個國家第一個皈依伊斯蘭教的可汗，更重要的是他也是世界歷史上第一個皈...</td>\n",
       "      <td>哪一個地區的穆斯林商人讓薩圖克對伊斯蘭文化十分嚮往?</td>\n",
       "      <td>阿圖什</td>\n",
       "      <td>181</td>\n",
       "    </tr>\n",
       "    <tr>\n",
       "      <th>3490</th>\n",
       "      <td>納瓦拉</td>\n",
       "      <td>6519-1-1</td>\n",
       "      <td>納瓦拉，正式名稱是納瓦拉特許共同體，是西班牙北部一個自治區，全區僅有納瓦拉一省，面積10,3...</td>\n",
       "      <td>哪一個城市是納瓦拉的首府?</td>\n",
       "      <td>潘普洛納</td>\n",
       "      <td>62</td>\n",
       "    </tr>\n",
       "    <tr>\n",
       "      <th>3491</th>\n",
       "      <td>納瓦拉</td>\n",
       "      <td>6519-1-2</td>\n",
       "      <td>納瓦拉，正式名稱是納瓦拉特許共同體，是西班牙北部一個自治區，全區僅有納瓦拉一省，面積10,3...</td>\n",
       "      <td>上納瓦拉在哪一年被西班牙兼併?</td>\n",
       "      <td>1512年</td>\n",
       "      <td>214</td>\n",
       "    </tr>\n",
       "    <tr>\n",
       "      <th>3492</th>\n",
       "      <td>納瓦拉</td>\n",
       "      <td>6519-1-3</td>\n",
       "      <td>納瓦拉，正式名稱是納瓦拉特許共同體，是西班牙北部一個自治區，全區僅有納瓦拉一省，面積10,3...</td>\n",
       "      <td>西班牙波旁王朝的建立者是誰?</td>\n",
       "      <td>菲利浦五世</td>\n",
       "      <td>300</td>\n",
       "    </tr>\n",
       "  </tbody>\n",
       "</table>\n",
       "<p>3493 rows × 6 columns</p>\n",
       "</div>"
      ],
      "text/plain": [
       "     title        id                                            context  \\\n",
       "0       梵文  1147-2-1  要探討從梨俱吠陀到波你尼時代梵語的發展，可以考察印度教其它文本，如娑摩吠陀、夜柔吠陀、阿闥婆...   \n",
       "1       梵文  1147-2-2  要探討從梨俱吠陀到波你尼時代梵語的發展，可以考察印度教其它文本，如娑摩吠陀、夜柔吠陀、阿闥婆...   \n",
       "2       梵文  1147-2-3  要探討從梨俱吠陀到波你尼時代梵語的發展，可以考察印度教其它文本，如娑摩吠陀、夜柔吠陀、阿闥婆...   \n",
       "3       梵文  1147-3-1  波你尼所定義的梵語是從更早的「吠陀」形式演化出來的。學者經常把吠陀梵語和古典或「波你尼」梵語...   \n",
       "4       梵文  1147-3-2  波你尼所定義的梵語是從更早的「吠陀」形式演化出來的。學者經常把吠陀梵語和古典或「波你尼」梵語...   \n",
       "...    ...       ...                                                ...   \n",
       "3488  喀喇汗国  6516-5-2  著名的薩圖克·博格拉汗是這個國家第一個皈依伊斯蘭教的可汗，更重要的是他也是世界歷史上第一個皈...   \n",
       "3489  喀喇汗国  6516-5-3  著名的薩圖克·博格拉汗是這個國家第一個皈依伊斯蘭教的可汗，更重要的是他也是世界歷史上第一個皈...   \n",
       "3490   納瓦拉  6519-1-1  納瓦拉，正式名稱是納瓦拉特許共同體，是西班牙北部一個自治區，全區僅有納瓦拉一省，面積10,3...   \n",
       "3491   納瓦拉  6519-1-2  納瓦拉，正式名稱是納瓦拉特許共同體，是西班牙北部一個自治區，全區僅有納瓦拉一省，面積10,3...   \n",
       "3492   納瓦拉  6519-1-3  納瓦拉，正式名稱是納瓦拉特許共同體，是西班牙北部一個自治區，全區僅有納瓦拉一省，面積10,3...   \n",
       "\n",
       "                            question answer  answer_start  \n",
       "0         夜柔吠陀與阿闥婆吠陀均可以最為研究哪一門語言的參考？     梵語            14  \n",
       "1                    哪一本書規範了梵語的正確語法？    八篇書           133  \n",
       "2     中古印度-雅利安語方言的前身與哪一門語言都同時在古印度使用？     梵語           315  \n",
       "3                   波你尼梵語與哪一門語言非常相似？   吠陀梵語            31  \n",
       "4                 印度教的最早宗教文本以什麼語言撰寫？   吠陀梵語            96  \n",
       "...                              ...    ...           ...  \n",
       "3488                 突厥人的第一個伊斯蘭教王朝是?   喀喇汗國            58  \n",
       "3489      哪一個地區的穆斯林商人讓薩圖克對伊斯蘭文化十分嚮往?    阿圖什           181  \n",
       "3490                   哪一個城市是納瓦拉的首府?   潘普洛納            62  \n",
       "3491                 上納瓦拉在哪一年被西班牙兼併?  1512年           214  \n",
       "3492                  西班牙波旁王朝的建立者是誰?  菲利浦五世           300  \n",
       "\n",
       "[3493 rows x 6 columns]"
      ]
     },
     "execution_count": 5,
     "metadata": {},
     "output_type": "execute_result"
    }
   ],
   "source": [
    "import pandas as pd\n",
    "train_df = pd.DataFrame(train_record)\n",
    "dev_df = pd.DataFrame(dev_record)\n",
    "test_df = pd.DataFrame(test_record)\n",
    "test_df"
   ]
  },
  {
   "cell_type": "code",
   "execution_count": null,
   "metadata": {},
   "outputs": [],
   "source": [
    "train_df.to_csv(\"/work/u5110390/BenchWeaver/evaluation_data/drcd/data/dev/all_dev.csv\", index=False)\n",
    "dev_df.to_csv(\"/work/u5110390/BenchWeaver/evaluation_data/drcd/data/val/all_val.csv\", index=False)\n",
    "test_df.to_csv(\"/work/u5110390/BenchWeaver/evaluation_data/drcd/data/test/all_test.csv\", index=False)"
   ]
  },
  {
   "cell_type": "markdown",
   "metadata": {},
   "source": [
    "# awesome-taiwan-knowledge"
   ]
  },
  {
   "cell_type": "code",
   "execution_count": null,
   "metadata": {},
   "outputs": [
    {
     "data": {
      "text/html": [
       "<div>\n",
       "<style scoped>\n",
       "    .dataframe tbody tr th:only-of-type {\n",
       "        vertical-align: middle;\n",
       "    }\n",
       "\n",
       "    .dataframe tbody tr th {\n",
       "        vertical-align: top;\n",
       "    }\n",
       "\n",
       "    .dataframe thead th {\n",
       "        text-align: right;\n",
       "    }\n",
       "</style>\n",
       "<table border=\"1\" class=\"dataframe\">\n",
       "  <thead>\n",
       "    <tr style=\"text-align: right;\">\n",
       "      <th></th>\n",
       "      <th>title</th>\n",
       "      <th>question</th>\n",
       "      <th>answer</th>\n",
       "    </tr>\n",
       "  </thead>\n",
       "  <tbody>\n",
       "    <tr>\n",
       "      <th>0</th>\n",
       "      <td>櫻花鉤吻鮭</td>\n",
       "      <td>它是位於亞熱帶的台灣內唯一一種溫帶性魚類，也是只產於台灣的特有櫻鮭亞種，為冰河孑遺生物。由於...</td>\n",
       "      <td>以下皆為正確答案：「櫻花鉤吻鮭」</td>\n",
       "    </tr>\n",
       "    <tr>\n",
       "      <th>1</th>\n",
       "      <td>臺灣獼猴</td>\n",
       "      <td>臺語也稱烏肢猴 ，是舊世界猴獼猴屬的的物種，分布於臺灣本島及澎湖，為常見的臺灣特有種，也是島...</td>\n",
       "      <td>以下皆為正確答案：「臺灣獼猴」</td>\n",
       "    </tr>\n",
       "    <tr>\n",
       "      <th>2</th>\n",
       "      <td>台灣黑熊</td>\n",
       "      <td>是臺灣特有的亞洲黑熊亞種，胸前的V字型白色條紋是亞洲黑熊共有的特徵。\\n該動物的名稱是：</td>\n",
       "      <td>以下皆為正確答案：「台灣黑熊」</td>\n",
       "    </tr>\n",
       "    <tr>\n",
       "      <th>3</th>\n",
       "      <td>藍腹鷴</td>\n",
       "      <td>俗稱臺灣山雞，為台灣特有種。深藍色的大型雉類。雄性頭頸黑色，羽冠白色有時帶黑斑，後頸及頸側為...</td>\n",
       "      <td>以下皆為正確答案：「藍腹鷴」</td>\n",
       "    </tr>\n",
       "    <tr>\n",
       "      <th>4</th>\n",
       "      <td>台灣藍鵲</td>\n",
       "      <td>臺灣特有種鳥類，成鳥的喙和腳呈紅色，虹膜呈金黃色，頭至頸、胸部呈黑色，翅膀末端呈白色，身體其...</td>\n",
       "      <td>以下皆為正確答案：「台灣藍鵲」</td>\n",
       "    </tr>\n",
       "    <tr>\n",
       "      <th>...</th>\n",
       "      <td>...</td>\n",
       "      <td>...</td>\n",
       "      <td>...</td>\n",
       "    </tr>\n",
       "    <tr>\n",
       "      <th>59</th>\n",
       "      <td>MP魔幻力量,魔幻力量</td>\n",
       "      <td>臺灣流行樂團，為台灣首組雙主唱男子樂團。它由主唱廷廷、主唱嘎嘎、DJ鼓鼓、吉他手雷堡、貝斯手...</td>\n",
       "      <td>以下皆為正確答案：「MP魔幻力量」或「魔幻力量」</td>\n",
       "    </tr>\n",
       "    <tr>\n",
       "      <th>60</th>\n",
       "      <td>五月天</td>\n",
       "      <td>它是於1999年出道的臺灣樂團，由主唱阿信、團長暨吉他手怪獸、吉他手石頭、貝斯手瑪莎和鼓手冠...</td>\n",
       "      <td>以下皆為正確答案：「五月天」</td>\n",
       "    </tr>\n",
       "    <tr>\n",
       "      <th>61</th>\n",
       "      <td>草根詩社</td>\n",
       "      <td>它於1975年5月在台北成立，並且創《草根詩刊》。該社成員有張香華、羅青、李男、詹澈、邱豐松...</td>\n",
       "      <td>以下皆為正確答案：「草根詩社」</td>\n",
       "    </tr>\n",
       "    <tr>\n",
       "      <th>62</th>\n",
       "      <td>十大建設</td>\n",
       "      <td>它是指中華民國政府於1974年至1979年間，時任行政院院長蔣經國為改善臺灣的基礎設施及產業...</td>\n",
       "      <td>以下皆為正確答案：「十大建設」</td>\n",
       "    </tr>\n",
       "    <tr>\n",
       "      <th>63</th>\n",
       "      <td>《霹靂布袋戲》,霹靂布袋戲</td>\n",
       "      <td>它是台灣霹靂國際多媒體於1988年創立，自電視劇《霹靂金光》開始的一系列布袋戲電視劇作品或其...</td>\n",
       "      <td>以下皆為正確答案：「《霹靂布袋戲》」或「霹靂布袋戲」</td>\n",
       "    </tr>\n",
       "  </tbody>\n",
       "</table>\n",
       "<p>64 rows × 3 columns</p>\n",
       "</div>"
      ],
      "text/plain": [
       "            title                                           question  \\\n",
       "0           櫻花鉤吻鮭  它是位於亞熱帶的台灣內唯一一種溫帶性魚類，也是只產於台灣的特有櫻鮭亞種，為冰河孑遺生物。由於...   \n",
       "1            臺灣獼猴  臺語也稱烏肢猴 ，是舊世界猴獼猴屬的的物種，分布於臺灣本島及澎湖，為常見的臺灣特有種，也是島...   \n",
       "2            台灣黑熊       是臺灣特有的亞洲黑熊亞種，胸前的V字型白色條紋是亞洲黑熊共有的特徵。\\n該動物的名稱是：   \n",
       "3             藍腹鷴  俗稱臺灣山雞，為台灣特有種。深藍色的大型雉類。雄性頭頸黑色，羽冠白色有時帶黑斑，後頸及頸側為...   \n",
       "4            台灣藍鵲  臺灣特有種鳥類，成鳥的喙和腳呈紅色，虹膜呈金黃色，頭至頸、胸部呈黑色，翅膀末端呈白色，身體其...   \n",
       "..            ...                                                ...   \n",
       "59    MP魔幻力量,魔幻力量  臺灣流行樂團，為台灣首組雙主唱男子樂團。它由主唱廷廷、主唱嘎嘎、DJ鼓鼓、吉他手雷堡、貝斯手...   \n",
       "60            五月天  它是於1999年出道的臺灣樂團，由主唱阿信、團長暨吉他手怪獸、吉他手石頭、貝斯手瑪莎和鼓手冠...   \n",
       "61           草根詩社  它於1975年5月在台北成立，並且創《草根詩刊》。該社成員有張香華、羅青、李男、詹澈、邱豐松...   \n",
       "62           十大建設  它是指中華民國政府於1974年至1979年間，時任行政院院長蔣經國為改善臺灣的基礎設施及產業...   \n",
       "63  《霹靂布袋戲》,霹靂布袋戲  它是台灣霹靂國際多媒體於1988年創立，自電視劇《霹靂金光》開始的一系列布袋戲電視劇作品或其...   \n",
       "\n",
       "                        answer  \n",
       "0             以下皆為正確答案：「櫻花鉤吻鮭」  \n",
       "1              以下皆為正確答案：「臺灣獼猴」  \n",
       "2              以下皆為正確答案：「台灣黑熊」  \n",
       "3               以下皆為正確答案：「藍腹鷴」  \n",
       "4              以下皆為正確答案：「台灣藍鵲」  \n",
       "..                         ...  \n",
       "59    以下皆為正確答案：「MP魔幻力量」或「魔幻力量」  \n",
       "60              以下皆為正確答案：「五月天」  \n",
       "61             以下皆為正確答案：「草根詩社」  \n",
       "62             以下皆為正確答案：「十大建設」  \n",
       "63  以下皆為正確答案：「《霹靂布袋戲》」或「霹靂布袋戲」  \n",
       "\n",
       "[64 rows x 3 columns]"
      ]
     },
     "execution_count": 12,
     "metadata": {},
     "output_type": "execute_result"
    }
   ],
   "source": [
    "import json\n",
    "from typing import Any\n",
    "import pandas as pd\n",
    "def load_json(file_path:str) -> Any:\n",
    "    with open(file_path, \"r\") as f:\n",
    "        data = json.load(f)\n",
    "    return data\n",
    "\n",
    "data = load_json(\"/work/u5110390/BenchWeaver/evaluation_data/awesome-taiwan-knowledge/TTQA_1.0.0_tw_llama_v1.0.json\")\n",
    "data_record = {\n",
    "    \"title\": [],\n",
    "    \"question\": [],\n",
    "    \"answer\": [],\n",
    "}\n",
    "for data_dict in data:\n",
    "    data_record['title'].append(data_dict['answer'])\n",
    "    data_record['question'].append(data_dict['examples'])\n",
    "    data_record['answer'].append(\"以下皆為正確答案：\" + \"或\".join([f\"「{ans}」\" for ans in data_dict['correct_answers']]))\n",
    "    \n",
    "df = pd.DataFrame(data_record)\n",
    "df"
   ]
  },
  {
   "cell_type": "code",
   "execution_count": null,
   "metadata": {},
   "outputs": [],
   "source": [
    "df.to_csv(\"/work/u5110390/BenchWeaver/evaluation_data/awesome-taiwan-knowledge/data/test/all_test.csv\", index=False)"
   ]
  },
  {
   "cell_type": "markdown",
   "metadata": {},
   "source": [
    "# CMMLU"
   ]
  },
  {
   "cell_type": "code",
   "execution_count": 12,
   "metadata": {},
   "outputs": [],
   "source": [
    "name_en2zh = {\n",
    "    \"agronomy\": \"农学\",\n",
    "    \"anatomy\": \"解剖学\",\n",
    "    \"ancient_chinese\": \"古汉语\",\n",
    "    \"arts\": \"艺术学\",\n",
    "    \"astronomy\": \"天文学\",\n",
    "    \"business_ethics\": \"商业伦理\",\n",
    "    \"chinese_civil_service_exam\": \"中国公务员考试\",\n",
    "    \"chinese_driving_rule\": \"中国驾驶规则\",\n",
    "    \"chinese_food_culture\": \"中国饮食文化\",\n",
    "    \"chinese_foreign_policy\": \"中国外交政策\",\n",
    "    \"chinese_history\":\"中国历史\",\n",
    "    \"chinese_literature\": \"中国文学\",\n",
    "    \"chinese_teacher_qualification\": \"中国教师资格\",\n",
    "    \"clinical_knowledge\": \"临床知识\",\n",
    "    \"college_actuarial_science\":\"大学精算学\",\n",
    "    \"college_education\":\"大学教育学\",\n",
    "    \"college_engineering_hydrology\": \"大学工程水文学\",\n",
    "    \"college_law\": \"大学法律\",\n",
    "    \"college_mathematics\": \"大学数学\",\n",
    "    \"college_medical_statistics\":\"大学医学统计\",\n",
    "    \"college_medicine\": \"大学医学\",\n",
    "    \"computer_science\": \"计算机科学\",\n",
    "    \"computer_security\": \"计算机安全\",\n",
    "    \"conceptual_physics\": \"概念物理学\",\n",
    "    \"construction_project_management\": \"建设工程管理\",\n",
    "    \"economics\": \"经济学\",\n",
    "    \"education\": \"教育学\",\n",
    "    \"electrical_engineering\": \"电气工程\",\n",
    "    \"elementary_chinese\":\"小学语文\",\n",
    "    \"elementary_commonsense\":\"小学常识\",\n",
    "    \"elementary_information_and_technology\": \"小学信息技术\",\n",
    "    \"elementary_mathematics\": \"初等数学\",\n",
    "    \"ethnology\": \"民族学\",\n",
    "    \"food_science\": \"食品科学\",\n",
    "    \"genetics\": \"遗传学\",\n",
    "    \"global_facts\": \"全球事实\",\n",
    "    \"high_school_biology\": \"高中生物\",\n",
    "    \"high_school_chemistry\": \"高中化学\",\n",
    "    \"high_school_geography\": \"高中地理\",\n",
    "    \"high_school_mathematics\": \"高中数学\",\n",
    "    \"high_school_physics\": \"高中物理学\",\n",
    "    \"high_school_politics\": \"高中政治\",\n",
    "    \"human_sexuality\": \"人类性行为\",\n",
    "    \"international_law\": \"国际法学\",\n",
    "    \"journalism\": \"新闻学\",\n",
    "    \"jurisprudence\": \"法理学\",\n",
    "    \"legal_and_moral_basis\": \"法律与道德基础\",\n",
    "    \"logical\": \"逻辑学\",\n",
    "    \"machine_learning\": \"机器学习\",\n",
    "    \"management\": \"管理学\",\n",
    "    \"marketing\": \"市场营销\",\n",
    "    \"marxist_theory\": \"马克思主义理论\",\n",
    "    \"modern_chinese\": \"现代汉语\",\n",
    "    \"nutrition\": \"营养学\",\n",
    "    \"philosophy\": \"哲学\",\n",
    "    \"professional_accounting\": \"专业会计\",\n",
    "    \"professional_law\": \"专业法学\",\n",
    "    \"professional_medicine\": \"专业医学\",\n",
    "    \"professional_psychology\": \"专业心理学\",\n",
    "    \"public_relations\": \"公共关系\",\n",
    "    \"security_study\":\"安全研究\",\n",
    "    \"sociology\": \"社会学\",\n",
    "    \"sports_science\": \"体育学\",\n",
    "    \"traditional_chinese_medicine\": \"中医中药\",\n",
    "    \"virology\": \"病毒学\",\n",
    "    \"world_history\":\"世界历史\",\n",
    "    \"world_religions\": \"世界宗教\",\n",
    "}\n",
    "\n",
    "subcategories = {\n",
    "    \"agronomy\": ['other'],\n",
    "    \"anatomy\": ['biology'],\n",
    "    \"ancient_chinese\": ['linguistics','china specific'],\n",
    "    \"arts\": ['arts'],\n",
    "    \"astronomy\": ['physics'],\n",
    "    \"business_ethics\": ['business'],\n",
    "    \"chinese_civil_service_exam\": ['politics','china specific'],\n",
    "    \"chinese_driving_rule\": ['other','china specific'],\n",
    "    \"chinese_food_culture\": ['culture','china specific'],\n",
    "    \"chinese_foreign_policy\": ['politics','china specific'],\n",
    "    \"chinese_history\":['history','china specific'],\n",
    "    \"chinese_literature\": ['literature','china specific'],\n",
    "    \"chinese_teacher_qualification\": ['education','china specific'],\n",
    "    \"college_actuarial_science\":['math'],\n",
    "    \"college_education\":['education'],\n",
    "    \"college_engineering_hydrology\": ['engineering'],\n",
    "    \"college_law\": ['law'],\n",
    "    \"college_mathematics\": ['math'],\n",
    "    \"college_medical_statistics\":['statistics'],\n",
    "    \"clinical_knowledge\": ['other'],\n",
    "    \"college_medicine\": ['other'],\n",
    "    \"computer_science\": ['computer science'],\n",
    "    \"computer_security\": ['other'],\n",
    "    \"conceptual_physics\": ['physics'],\n",
    "    \"construction_project_management\": ['other','china specific'],\n",
    "    \"economics\": ['economics'],\n",
    "    \"education\": ['education'],\n",
    "    \"elementary_chinese\":['linguistics','china specific'],\n",
    "    \"elementary_commonsense\":['other','china specific'],\n",
    "    \"elementary_information_and_technology\": ['other'],\n",
    "    \"electrical_engineering\": ['engineering'],\n",
    "    \"elementary_mathematics\": ['math'],\n",
    "    \"ethnology\": ['culture','china specific'],\n",
    "    \"food_science\": ['other'],\n",
    "    \"genetics\": ['biology'],\n",
    "    \"global_facts\": ['global'],\n",
    "    \"high_school_biology\": ['biology'],\n",
    "    \"high_school_chemistry\": ['chemistry'],\n",
    "    \"high_school_geography\": ['geography'],\n",
    "    \"high_school_mathematics\": ['math'],\n",
    "    \"high_school_physics\": ['physics'],\n",
    "    \"high_school_politics\": ['politics','china specific'],\n",
    "    \"human_sexuality\": ['other'],\n",
    "    \"international_law\": ['law'],\n",
    "    \"journalism\": ['sociology'],\n",
    "    \"jurisprudence\": ['law'],\n",
    "    \"legal_and_moral_basis\": ['other'],\n",
    "    \"logical\": ['philosophy'],\n",
    "    \"machine_learning\": ['computer science'],\n",
    "    \"management\": ['business'],\n",
    "    \"marketing\": ['business'],\n",
    "    \"marxist_theory\": ['philosophy'],\n",
    "    \"modern_chinese\": ['linguistics','china specific'],\n",
    "    \"nutrition\": ['other'],\n",
    "    \"philosophy\": ['philosophy'],\n",
    "    \"professional_accounting\": ['business'],\n",
    "    \"professional_law\": ['law'],\n",
    "    \"professional_medicine\": ['other'],\n",
    "    \"professional_psychology\": ['psychology'],\n",
    "    \"public_relations\": ['politics'],\n",
    "    \"security_study\": ['politics'],\n",
    "    \"sociology\": ['culture'],\n",
    "    \"sports_science\": ['other'],\n",
    "    \"traditional_chinese_medicine\": ['other','china specific'],\n",
    "    \"virology\": ['biology'],\n",
    "    \"world_history\":['history'],\n",
    "    \"world_religions\": ['global'],\n",
    "}\n",
    "\n",
    "categories = {\n",
    "    \"STEM\": [\"physics\", \"chemistry\", \"biology\", \"computer science\", \"math\", \"engineering\", \"statistics\"],\n",
    "    \"Humanities\": [\"history\", \"philosophy\", \"law\", \"arts\", \"literature\", \"global\"],\n",
    "    \"Social Science\": ['linguistics',\"business\", \"politics\", \"culture\", \"economics\", \"geography\", \"psychology\", \"education\", \"sociology\"],\n",
    "    \"Other\":[\"other\"],\n",
    "    # \"China specific\": [\"china specific\"],\n",
    "}"
   ]
  },
  {
   "cell_type": "code",
   "execution_count": 14,
   "metadata": {},
   "outputs": [],
   "source": [
    "mapping = {}\n",
    "\n",
    "for name, catogories in name_en2zh.items():\n",
    "    sub_cat = subcategories[name][0]\n",
    "    for cat, sub_cat_list in categories.items():\n",
    "        if sub_cat in sub_cat_list:\n",
    "            category = cat\n",
    "            break\n",
    "    mapping[name] = {\n",
    "        \"name\": name_en2zh[name],\n",
    "        \"category\": cat\n",
    "    }"
   ]
  },
  {
   "cell_type": "code",
   "execution_count": 16,
   "metadata": {},
   "outputs": [],
   "source": [
    "import json\n",
    "with open(\"/work/u5110390/BenchWeaver/evaluation_data/cmmlu/mapping.json\", \"w\") as f:\n",
    "    json.dump(mapping, f, ensure_ascii=False, indent=2)"
   ]
  },
  {
   "cell_type": "code",
   "execution_count": 21,
   "metadata": {},
   "outputs": [
    {
     "data": {
      "application/vnd.jupyter.widget-view+json": {
       "model_id": "26cd012462d24f939868f242d74b51bb",
       "version_major": 2,
       "version_minor": 0
      },
      "text/plain": [
       "Downloading data:   0%|          | 0.00/19.3k [00:00<?, ?B/s]"
      ]
     },
     "metadata": {},
     "output_type": "display_data"
    },
    {
     "data": {
      "application/vnd.jupyter.widget-view+json": {
       "model_id": "afe55548f5394d4e824eb28685d2b9d8",
       "version_major": 2,
       "version_minor": 0
      },
      "text/plain": [
       "Downloading data:   0%|          | 0.00/3.48k [00:00<?, ?B/s]"
      ]
     },
     "metadata": {},
     "output_type": "display_data"
    },
    {
     "data": {
      "application/vnd.jupyter.widget-view+json": {
       "model_id": "267fc69bea9a416d8a7d01d0e79c4de2",
       "version_major": 2,
       "version_minor": 0
      },
      "text/plain": [
       "Generating test split:   0%|          | 0/105 [00:00<?, ? examples/s]"
      ]
     },
     "metadata": {},
     "output_type": "display_data"
    },
    {
     "data": {
      "application/vnd.jupyter.widget-view+json": {
       "model_id": "dac1ac1a8b634be891e02936e9e38146",
       "version_major": 2,
       "version_minor": 0
      },
      "text/plain": [
       "Generating dev split:   0%|          | 0/5 [00:00<?, ? examples/s]"
      ]
     },
     "metadata": {},
     "output_type": "display_data"
    },
    {
     "data": {
      "application/vnd.jupyter.widget-view+json": {
       "model_id": "7026985c72a743279965b6cdcbf08f3b",
       "version_major": 2,
       "version_minor": 0
      },
      "text/plain": [
       "Downloading data:   0%|          | 0.00/25.3k [00:00<?, ?B/s]"
      ]
     },
     "metadata": {},
     "output_type": "display_data"
    },
    {
     "data": {
      "application/vnd.jupyter.widget-view+json": {
       "model_id": "ec088f5a7e764a6ca6bf096c11684f24",
       "version_major": 2,
       "version_minor": 0
      },
      "text/plain": [
       "Downloading data:   0%|          | 0.00/3.68k [00:00<?, ?B/s]"
      ]
     },
     "metadata": {},
     "output_type": "display_data"
    },
    {
     "data": {
      "application/vnd.jupyter.widget-view+json": {
       "model_id": "c852e7d84685484d8b6deb7d2533e78a",
       "version_major": 2,
       "version_minor": 0
      },
      "text/plain": [
       "Generating test split:   0%|          | 0/175 [00:00<?, ? examples/s]"
      ]
     },
     "metadata": {},
     "output_type": "display_data"
    },
    {
     "data": {
      "application/vnd.jupyter.widget-view+json": {
       "model_id": "7024f15d85c84271b70acd3bdb2a31df",
       "version_major": 2,
       "version_minor": 0
      },
      "text/plain": [
       "Generating dev split:   0%|          | 0/5 [00:00<?, ? examples/s]"
      ]
     },
     "metadata": {},
     "output_type": "display_data"
    },
    {
     "data": {
      "application/vnd.jupyter.widget-view+json": {
       "model_id": "cd185d4a7b2f4f53af97a61ca5502f48",
       "version_major": 2,
       "version_minor": 0
      },
      "text/plain": [
       "Downloading data:   0%|          | 0.00/54.2k [00:00<?, ?B/s]"
      ]
     },
     "metadata": {},
     "output_type": "display_data"
    },
    {
     "data": {
      "application/vnd.jupyter.widget-view+json": {
       "model_id": "c038eb4e53d24f0d9172c93bd8b005d9",
       "version_major": 2,
       "version_minor": 0
      },
      "text/plain": [
       "Downloading data:   0%|          | 0.00/4.09k [00:00<?, ?B/s]"
      ]
     },
     "metadata": {},
     "output_type": "display_data"
    },
    {
     "data": {
      "application/vnd.jupyter.widget-view+json": {
       "model_id": "65d3474d6c8244a2b39bab1a31a38679",
       "version_major": 2,
       "version_minor": 0
      },
      "text/plain": [
       "Generating test split:   0%|          | 0/211 [00:00<?, ? examples/s]"
      ]
     },
     "metadata": {},
     "output_type": "display_data"
    },
    {
     "data": {
      "application/vnd.jupyter.widget-view+json": {
       "model_id": "a2da93fa21f9452c87c04e9b21fd2366",
       "version_major": 2,
       "version_minor": 0
      },
      "text/plain": [
       "Generating dev split:   0%|          | 0/5 [00:00<?, ? examples/s]"
      ]
     },
     "metadata": {},
     "output_type": "display_data"
    },
    {
     "data": {
      "application/vnd.jupyter.widget-view+json": {
       "model_id": "abd15a133ac84bef976f5e4d95014a7f",
       "version_major": 2,
       "version_minor": 0
      },
      "text/plain": [
       "Downloading data:   0%|          | 0.00/49.6k [00:00<?, ?B/s]"
      ]
     },
     "metadata": {},
     "output_type": "display_data"
    },
    {
     "data": {
      "application/vnd.jupyter.widget-view+json": {
       "model_id": "4848f4a2cf0c46c3a39b9c0cc38ac7cb",
       "version_major": 2,
       "version_minor": 0
      },
      "text/plain": [
       "Downloading data:   0%|          | 0.00/3.38k [00:00<?, ?B/s]"
      ]
     },
     "metadata": {},
     "output_type": "display_data"
    },
    {
     "data": {
      "application/vnd.jupyter.widget-view+json": {
       "model_id": "bdb4045431284c68a3d032b84d22aef2",
       "version_major": 2,
       "version_minor": 0
      },
      "text/plain": [
       "Generating test split:   0%|          | 0/376 [00:00<?, ? examples/s]"
      ]
     },
     "metadata": {},
     "output_type": "display_data"
    },
    {
     "data": {
      "application/vnd.jupyter.widget-view+json": {
       "model_id": "85ecceb24a7c46cea0531d0ffe96d305",
       "version_major": 2,
       "version_minor": 0
      },
      "text/plain": [
       "Generating dev split:   0%|          | 0/5 [00:00<?, ? examples/s]"
      ]
     },
     "metadata": {},
     "output_type": "display_data"
    },
    {
     "data": {
      "application/vnd.jupyter.widget-view+json": {
       "model_id": "ccdaa90320204ddd8a4bd4e6d85367d5",
       "version_major": 2,
       "version_minor": 0
      },
      "text/plain": [
       "Downloading data:   0%|          | 0.00/31.3k [00:00<?, ?B/s]"
      ]
     },
     "metadata": {},
     "output_type": "display_data"
    },
    {
     "data": {
      "application/vnd.jupyter.widget-view+json": {
       "model_id": "53ce282513e0433db706671c7942df46",
       "version_major": 2,
       "version_minor": 0
      },
      "text/plain": [
       "Downloading data:   0%|          | 0.00/3.49k [00:00<?, ?B/s]"
      ]
     },
     "metadata": {},
     "output_type": "display_data"
    },
    {
     "data": {
      "application/vnd.jupyter.widget-view+json": {
       "model_id": "5cc75381ddbc4aea9a30c90e92221c69",
       "version_major": 2,
       "version_minor": 0
      },
      "text/plain": [
       "Generating test split:   0%|          | 0/232 [00:00<?, ? examples/s]"
      ]
     },
     "metadata": {},
     "output_type": "display_data"
    },
    {
     "data": {
      "application/vnd.jupyter.widget-view+json": {
       "model_id": "3bc99c97a0564f33b296df59127d6c62",
       "version_major": 2,
       "version_minor": 0
      },
      "text/plain": [
       "Generating dev split:   0%|          | 0/5 [00:00<?, ? examples/s]"
      ]
     },
     "metadata": {},
     "output_type": "display_data"
    },
    {
     "data": {
      "application/vnd.jupyter.widget-view+json": {
       "model_id": "5ef2995ad07540e6bf83dcd5894cdb50",
       "version_major": 2,
       "version_minor": 0
      },
      "text/plain": [
       "Downloading data:   0%|          | 0.00/24.9k [00:00<?, ?B/s]"
      ]
     },
     "metadata": {},
     "output_type": "display_data"
    },
    {
     "data": {
      "application/vnd.jupyter.widget-view+json": {
       "model_id": "7a7f17d9d83647329e86031761d66a3d",
       "version_major": 2,
       "version_minor": 0
      },
      "text/plain": [
       "Downloading data:   0%|          | 0.00/3.48k [00:00<?, ?B/s]"
      ]
     },
     "metadata": {},
     "output_type": "display_data"
    },
    {
     "data": {
      "application/vnd.jupyter.widget-view+json": {
       "model_id": "6eb0755c89724d61a557bb8607e62ea9",
       "version_major": 2,
       "version_minor": 0
      },
      "text/plain": [
       "Generating test split:   0%|          | 0/174 [00:00<?, ? examples/s]"
      ]
     },
     "metadata": {},
     "output_type": "display_data"
    },
    {
     "data": {
      "application/vnd.jupyter.widget-view+json": {
       "model_id": "9a51353c762047a294ba945dbd97e37e",
       "version_major": 2,
       "version_minor": 0
      },
      "text/plain": [
       "Generating dev split:   0%|          | 0/5 [00:00<?, ? examples/s]"
      ]
     },
     "metadata": {},
     "output_type": "display_data"
    },
    {
     "data": {
      "application/vnd.jupyter.widget-view+json": {
       "model_id": "8206a6ec66814064b0aa045699df2c04",
       "version_major": 2,
       "version_minor": 0
      },
      "text/plain": [
       "Downloading data:   0%|          | 0.00/23.5k [00:00<?, ?B/s]"
      ]
     },
     "metadata": {},
     "output_type": "display_data"
    },
    {
     "data": {
      "application/vnd.jupyter.widget-view+json": {
       "model_id": "4a17bf284d9e415ab21f68f5c0680764",
       "version_major": 2,
       "version_minor": 0
      },
      "text/plain": [
       "Downloading data:   0%|          | 0.00/3.61k [00:00<?, ?B/s]"
      ]
     },
     "metadata": {},
     "output_type": "display_data"
    },
    {
     "data": {
      "application/vnd.jupyter.widget-view+json": {
       "model_id": "07b00e03a7434b598783a6afe9387279",
       "version_major": 2,
       "version_minor": 0
      },
      "text/plain": [
       "Generating test split:   0%|          | 0/135 [00:00<?, ? examples/s]"
      ]
     },
     "metadata": {},
     "output_type": "display_data"
    },
    {
     "data": {
      "application/vnd.jupyter.widget-view+json": {
       "model_id": "f00eb26cbe2b46649b54f023de53b80d",
       "version_major": 2,
       "version_minor": 0
      },
      "text/plain": [
       "Generating dev split:   0%|          | 0/5 [00:00<?, ? examples/s]"
      ]
     },
     "metadata": {},
     "output_type": "display_data"
    },
    {
     "data": {
      "application/vnd.jupyter.widget-view+json": {
       "model_id": "e55effb044274345b94811d307b97f00",
       "version_major": 2,
       "version_minor": 0
      },
      "text/plain": [
       "Downloading data:   0%|          | 0.00/28.2k [00:00<?, ?B/s]"
      ]
     },
     "metadata": {},
     "output_type": "display_data"
    },
    {
     "data": {
      "application/vnd.jupyter.widget-view+json": {
       "model_id": "a18640cf13e54c83901dfd7df4780671",
       "version_major": 2,
       "version_minor": 0
      },
      "text/plain": [
       "Downloading data:   0%|          | 0.00/3.52k [00:00<?, ?B/s]"
      ]
     },
     "metadata": {},
     "output_type": "display_data"
    },
    {
     "data": {
      "application/vnd.jupyter.widget-view+json": {
       "model_id": "09f17d4fff614c7f87586b5e04b520d8",
       "version_major": 2,
       "version_minor": 0
      },
      "text/plain": [
       "Generating test split:   0%|          | 0/226 [00:00<?, ? examples/s]"
      ]
     },
     "metadata": {},
     "output_type": "display_data"
    },
    {
     "data": {
      "application/vnd.jupyter.widget-view+json": {
       "model_id": "5bf250b7f2914bbd97219a88a3922e20",
       "version_major": 2,
       "version_minor": 0
      },
      "text/plain": [
       "Generating dev split:   0%|          | 0/5 [00:00<?, ? examples/s]"
      ]
     },
     "metadata": {},
     "output_type": "display_data"
    },
    {
     "data": {
      "application/vnd.jupyter.widget-view+json": {
       "model_id": "c9c8f6bb052949d882f8470e5d199025",
       "version_major": 2,
       "version_minor": 0
      },
      "text/plain": [
       "Downloading data:   0%|          | 0.00/22.7k [00:00<?, ?B/s]"
      ]
     },
     "metadata": {},
     "output_type": "display_data"
    },
    {
     "data": {
      "application/vnd.jupyter.widget-view+json": {
       "model_id": "723012a5454e4bdfa9d8b970231c57ab",
       "version_major": 2,
       "version_minor": 0
      },
      "text/plain": [
       "Downloading data:   0%|          | 0.00/3.56k [00:00<?, ?B/s]"
      ]
     },
     "metadata": {},
     "output_type": "display_data"
    },
    {
     "data": {
      "application/vnd.jupyter.widget-view+json": {
       "model_id": "e3c46c7c16444d09b351948bf4cc95e9",
       "version_major": 2,
       "version_minor": 0
      },
      "text/plain": [
       "Generating test split:   0%|          | 0/165 [00:00<?, ? examples/s]"
      ]
     },
     "metadata": {},
     "output_type": "display_data"
    },
    {
     "data": {
      "application/vnd.jupyter.widget-view+json": {
       "model_id": "1cb9669dd5a54f6fa3fd570eacb2cd4f",
       "version_major": 2,
       "version_minor": 0
      },
      "text/plain": [
       "Generating dev split:   0%|          | 0/5 [00:00<?, ? examples/s]"
      ]
     },
     "metadata": {},
     "output_type": "display_data"
    },
    {
     "data": {
      "application/vnd.jupyter.widget-view+json": {
       "model_id": "3382abf458154f0f930dc2832824302f",
       "version_major": 2,
       "version_minor": 0
      },
      "text/plain": [
       "Downloading data:   0%|          | 0.00/23.4k [00:00<?, ?B/s]"
      ]
     },
     "metadata": {},
     "output_type": "display_data"
    },
    {
     "data": {
      "application/vnd.jupyter.widget-view+json": {
       "model_id": "fe0ff51276e5482eac48fc1acde41384",
       "version_major": 2,
       "version_minor": 0
      },
      "text/plain": [
       "Downloading data:   0%|          | 0.00/3.08k [00:00<?, ?B/s]"
      ]
     },
     "metadata": {},
     "output_type": "display_data"
    },
    {
     "data": {
      "application/vnd.jupyter.widget-view+json": {
       "model_id": "b92db3c83bec4eae9d72443ea587ad4c",
       "version_major": 2,
       "version_minor": 0
      },
      "text/plain": [
       "Generating test split:   0%|          | 0/185 [00:00<?, ? examples/s]"
      ]
     },
     "metadata": {},
     "output_type": "display_data"
    },
    {
     "data": {
      "application/vnd.jupyter.widget-view+json": {
       "model_id": "e0d746961eea4339a55b84f0537999ea",
       "version_major": 2,
       "version_minor": 0
      },
      "text/plain": [
       "Generating dev split:   0%|          | 0/5 [00:00<?, ? examples/s]"
      ]
     },
     "metadata": {},
     "output_type": "display_data"
    },
    {
     "data": {
      "application/vnd.jupyter.widget-view+json": {
       "model_id": "531b17cc916540feb12ba8f08930000e",
       "version_major": 2,
       "version_minor": 0
      },
      "text/plain": [
       "Downloading data:   0%|          | 0.00/24.5k [00:00<?, ?B/s]"
      ]
     },
     "metadata": {},
     "output_type": "display_data"
    },
    {
     "data": {
      "application/vnd.jupyter.widget-view+json": {
       "model_id": "fde4e2ec28b34456a626989742892331",
       "version_major": 2,
       "version_minor": 0
      },
      "text/plain": [
       "Downloading data:   0%|          | 0.00/3.41k [00:00<?, ?B/s]"
      ]
     },
     "metadata": {},
     "output_type": "display_data"
    },
    {
     "data": {
      "application/vnd.jupyter.widget-view+json": {
       "model_id": "b38cea01688e42a7b84ad2cc43e8ebcb",
       "version_major": 2,
       "version_minor": 0
      },
      "text/plain": [
       "Generating test split:   0%|          | 0/169 [00:00<?, ? examples/s]"
      ]
     },
     "metadata": {},
     "output_type": "display_data"
    },
    {
     "data": {
      "application/vnd.jupyter.widget-view+json": {
       "model_id": "316def88496b46d1ba3b5ceef0b741e3",
       "version_major": 2,
       "version_minor": 0
      },
      "text/plain": [
       "Generating dev split:   0%|          | 0/5 [00:00<?, ? examples/s]"
      ]
     },
     "metadata": {},
     "output_type": "display_data"
    },
    {
     "data": {
      "application/vnd.jupyter.widget-view+json": {
       "model_id": "9a646e28e861495d91723f2be499e7cd",
       "version_major": 2,
       "version_minor": 0
      },
      "text/plain": [
       "Downloading data:   0%|          | 0.00/54.8k [00:00<?, ?B/s]"
      ]
     },
     "metadata": {},
     "output_type": "display_data"
    },
    {
     "data": {
      "application/vnd.jupyter.widget-view+json": {
       "model_id": "2bcf3bcf763240dbbbf7f2a464e869da",
       "version_major": 2,
       "version_minor": 0
      },
      "text/plain": [
       "Downloading data:   0%|          | 0.00/5.76k [00:00<?, ?B/s]"
      ]
     },
     "metadata": {},
     "output_type": "display_data"
    },
    {
     "data": {
      "application/vnd.jupyter.widget-view+json": {
       "model_id": "cd936c480ff74397a6cd42915bfcb7e7",
       "version_major": 2,
       "version_minor": 0
      },
      "text/plain": [
       "Generating test split:   0%|          | 0/161 [00:00<?, ? examples/s]"
      ]
     },
     "metadata": {},
     "output_type": "display_data"
    },
    {
     "data": {
      "application/vnd.jupyter.widget-view+json": {
       "model_id": "6f0f81eb7dfc454e8ba4c7960dc1a6a8",
       "version_major": 2,
       "version_minor": 0
      },
      "text/plain": [
       "Generating dev split:   0%|          | 0/5 [00:00<?, ? examples/s]"
      ]
     },
     "metadata": {},
     "output_type": "display_data"
    },
    {
     "data": {
      "application/vnd.jupyter.widget-view+json": {
       "model_id": "ae5c011b6fae4fe3a47b556f838db9e5",
       "version_major": 2,
       "version_minor": 0
      },
      "text/plain": [
       "Downloading data:   0%|          | 0.00/20.1k [00:00<?, ?B/s]"
      ]
     },
     "metadata": {},
     "output_type": "display_data"
    },
    {
     "data": {
      "application/vnd.jupyter.widget-view+json": {
       "model_id": "4b3cb64ad90f4572a5304e87b544787f",
       "version_major": 2,
       "version_minor": 0
      },
      "text/plain": [
       "Downloading data:   0%|          | 0.00/3.24k [00:00<?, ?B/s]"
      ]
     },
     "metadata": {},
     "output_type": "display_data"
    },
    {
     "data": {
      "application/vnd.jupyter.widget-view+json": {
       "model_id": "40d9daa0ddab4dad95700c2b259a3cb8",
       "version_major": 2,
       "version_minor": 0
      },
      "text/plain": [
       "Generating test split:   0%|          | 0/160 [00:00<?, ? examples/s]"
      ]
     },
     "metadata": {},
     "output_type": "display_data"
    },
    {
     "data": {
      "application/vnd.jupyter.widget-view+json": {
       "model_id": "b9352b24a0bd428ca5f57ca8db00ccc6",
       "version_major": 2,
       "version_minor": 0
      },
      "text/plain": [
       "Generating dev split:   0%|          | 0/5 [00:00<?, ? examples/s]"
      ]
     },
     "metadata": {},
     "output_type": "display_data"
    }
   ],
   "source": [
    "from datasets import load_dataset\n",
    "import os\n",
    "import pandas as pd\n",
    "import zipfile\n",
    "import shutil\n",
    "\n",
    "task_list = ['agronomy', 'anatomy', 'ancient_chinese', 'arts', 'astronomy', 'business_ethics', 'chinese_civil_service_exam', 'chinese_driving_rule', 'chinese_food_culture', 'chinese_foreign_policy', 'chinese_history', 'chinese_literature', \n",
    "'chinese_teacher_qualification', 'clinical_knowledge', 'college_actuarial_science', 'college_education', 'college_engineering_hydrology', 'college_law', 'college_mathematics', 'college_medical_statistics', 'college_medicine', 'computer_science',\n",
    "'computer_security', 'conceptual_physics', 'construction_project_management', 'economics', 'education', 'electrical_engineering', 'elementary_chinese', 'elementary_commonsense', 'elementary_information_and_technology', 'elementary_mathematics', \n",
    "'ethnology', 'food_science', 'genetics', 'global_facts', 'high_school_biology', 'high_school_chemistry', 'high_school_geography', 'high_school_mathematics', 'high_school_physics', 'high_school_politics', 'human_sexuality',\n",
    "'international_law', 'journalism', 'jurisprudence', 'legal_and_moral_basis', 'logical', 'machine_learning', 'management', 'marketing', 'marxist_theory', 'modern_chinese', 'nutrition', 'philosophy', 'professional_accounting', 'professional_law', \n",
    "'professional_medicine', 'professional_psychology', 'public_relations', 'security_study', 'sociology', 'sports_science', 'traditional_chinese_medicine', 'virology', 'world_history', 'world_religions']\n",
    "\n",
    "\n",
    "base_dir = \"/work/u5110390/BenchWeaver/evaluation_data/cmmlu/data\"\n",
    "for task in task_list:\n",
    "    dev = load_dataset('haonan-li/cmmlu', task)['dev']\n",
    "    test = load_dataset('haonan-li/cmmlu', task)['test']\n",
    "    # Convert datasets to DataFrames\n",
    "    dev_df = dev.to_pandas()\n",
    "    dev_df['question'] = dev_df['Question']\n",
    "    dev_df['answer'] = dev_df['Answer']\n",
    "    test_df = test.to_pandas()\n",
    "    test_df['question'] = test_df['Question']\n",
    "    test_df['answer'] = test_df['Answer']\n",
    "    # Drop the original columns\n",
    "    dev_df.drop(columns=['Question', 'Answer'], inplace=True)\n",
    "    test_df.drop(columns=['Question', 'Answer'], inplace=True)\n",
    "    # Define file paths\n",
    "    dev_file = os.path.join(base_dir, 'dev', f\"{task}_dev.csv\")\n",
    "    test_file = os.path.join(base_dir, 'test', f\"{task}_test.csv\")\n",
    "    # Create directories if they don't exist\n",
    "    os.makedirs(os.path.dirname(dev_file), exist_ok=True)\n",
    "    os.makedirs(os.path.dirname(test_file), exist_ok=True)\n",
    "    # Save DataFrames to CSV files\n",
    "    dev_df.to_csv(dev_file, index=False)\n",
    "    test_df.to_csv(test_file, index=False)\n",
    "\n",
    "# Define the zip file name\n",
    "zip_file = \"cmmlu.zip\"\n",
    "\n",
    "# Function to zip a directory and its contents\n",
    "def zip_dir(directory, zip_file):\n",
    "    with zipfile.ZipFile(zip_file, 'w', zipfile.ZIP_DEFLATED) as zipf:\n",
    "        for root, _, files in os.walk(directory):\n",
    "            for file in files:\n",
    "                zipf.write(os.path.join(root, file), os.path.relpath(os.path.join(root, file), directory))\n",
    "\n",
    "# Zip the directory\n",
    "zip_dir(base_dir, zip_file)\n",
    "# Remove the base directory after zipping\n",
    "shutil.rmtree(base_dir)"
   ]
  },
  {
   "cell_type": "markdown",
   "metadata": {},
   "source": [
    "# TAIDE Bench"
   ]
  },
  {
   "cell_type": "code",
   "execution_count": 4,
   "metadata": {},
   "outputs": [
    {
     "name": "stdout",
     "output_type": "stream",
     "text": [
      "Exported en2zh data to /work/u5110390/BenchWeaver/evaluation_data/taide-bench/data/test/en2zh_test.csv\n",
      "Exported zh2en data to /work/u5110390/BenchWeaver/evaluation_data/taide-bench/data/test/zh2en_test.csv\n",
      "Exported summary data to /work/u5110390/BenchWeaver/evaluation_data/taide-bench/data/test/summary_test.csv\n",
      "Exported letter data to /work/u5110390/BenchWeaver/evaluation_data/taide-bench/data/test/letter_test.csv\n",
      "Exported essay data to /work/u5110390/BenchWeaver/evaluation_data/taide-bench/data/test/essay_test.csv\n"
     ]
    }
   ],
   "source": [
    "import json\n",
    "import pandas as pd\n",
    "export_dir = \"/work/u5110390/BenchWeaver/evaluation_data/taide-bench/data/test\"\n",
    "file_path = \"/work/u5110390/BenchWeaver/evaluation_data/taide-bench/data.jsonl\"\n",
    "with open(file_path, \"r\") as f:\n",
    "    data = [json.loads(line) for line in f]\n",
    "dfs = {\n",
    "    \"en2zh\": [],\n",
    "    \"zh2en\": [],\n",
    "    \"summary\": [],\n",
    "    \"letter\": [],\n",
    "    \"essay\": [],\n",
    "}\n",
    "for data_dict in data:\n",
    "    if data_dict['task'] == \"en2zh\":\n",
    "        dfs[\"en2zh\"].append({\n",
    "            \"task\": data_dict[\"task\"],\n",
    "            \"qid\": data_dict[\"qid\"],\n",
    "            \"question\": data_dict[\"prompt\"],\n",
    "            \"answer\": data_dict[\"answer\"],\n",
    "        })\n",
    "    \n",
    "for task, df in dfs.items():\n",
    "    df = pd.DataFrame(df)\n",
    "    df.to_csv(f\"{export_dir}/{task}_test.csv\", index=False)\n",
    "    print(f\"Exported {task} data to {export_dir}/{task}_test.csv\")"
   ]
  }
 ],
 "metadata": {
  "kernelspec": {
   "display_name": "BenchWeaver",
   "language": "python",
   "name": "python3"
  },
  "language_info": {
   "codemirror_mode": {
    "name": "ipython",
    "version": 3
   },
   "file_extension": ".py",
   "mimetype": "text/x-python",
   "name": "python",
   "nbconvert_exporter": "python",
   "pygments_lexer": "ipython3",
   "version": "3.11.11"
  }
 },
 "nbformat": 4,
 "nbformat_minor": 2
}
