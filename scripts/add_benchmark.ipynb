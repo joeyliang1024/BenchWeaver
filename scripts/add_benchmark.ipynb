{
 "cells": [
  {
   "cell_type": "markdown",
   "metadata": {},
   "source": [
    "# CLIcK"
   ]
  },
  {
   "cell_type": "code",
   "execution_count": 11,
   "metadata": {},
   "outputs": [
    {
     "data": {
      "text/html": [
       "<div>\n",
       "<style scoped>\n",
       "    .dataframe tbody tr th:only-of-type {\n",
       "        vertical-align: middle;\n",
       "    }\n",
       "\n",
       "    .dataframe tbody tr th {\n",
       "        vertical-align: top;\n",
       "    }\n",
       "\n",
       "    .dataframe thead th {\n",
       "        text-align: right;\n",
       "    }\n",
       "</style>\n",
       "<table border=\"1\" class=\"dataframe\">\n",
       "  <thead>\n",
       "    <tr style=\"text-align: right;\">\n",
       "      <th></th>\n",
       "      <th>id</th>\n",
       "      <th>paragraph</th>\n",
       "      <th>question</th>\n",
       "      <th>choices</th>\n",
       "      <th>answer</th>\n",
       "    </tr>\n",
       "  </thead>\n",
       "  <tbody>\n",
       "    <tr>\n",
       "      <th>0</th>\n",
       "      <td>KIIP_economy_1</td>\n",
       "      <td></td>\n",
       "      <td>다음은 한국 사회의 경제에 대한 문제이다.\\n한국이 외환위기를 완전히 극복한 년도는...</td>\n",
       "      <td>[1999년, 2000년, 2001년, 2002년]</td>\n",
       "      <td>2001년</td>\n",
       "    </tr>\n",
       "    <tr>\n",
       "      <th>1</th>\n",
       "      <td>KIIP_economy_2</td>\n",
       "      <td></td>\n",
       "      <td>다음은 한국 사회의 경제에 대한 문제이다.\\n1960년 한국의 1인당 국민총소득은 ...</td>\n",
       "      <td>[79달러, 800달러, 8,000달러, 80,000달러]</td>\n",
       "      <td>79달러</td>\n",
       "    </tr>\n",
       "    <tr>\n",
       "      <th>2</th>\n",
       "      <td>KIIP_economy_3</td>\n",
       "      <td></td>\n",
       "      <td>다음은 한국 사회의 경제에 대한 문제이다.\\n한국이 외환위기를 겪은 년도는 언제인가?</td>\n",
       "      <td>[1995년, 1996년, 1997년, 1998년]</td>\n",
       "      <td>1997년</td>\n",
       "    </tr>\n",
       "    <tr>\n",
       "      <th>3</th>\n",
       "      <td>KIIP_economy_4</td>\n",
       "      <td></td>\n",
       "      <td>다음은 한국 사회의 경제에 대한 문제이다.\\n한강은 어느 도시를 통과하는가?</td>\n",
       "      <td>[부산, 대구, 인천, 서울]</td>\n",
       "      <td>서울</td>\n",
       "    </tr>\n",
       "    <tr>\n",
       "      <th>4</th>\n",
       "      <td>KIIP_economy_5</td>\n",
       "      <td></td>\n",
       "      <td>다음은 한국 사회의 경제에 대한 문제이다.\\n1970년대부터 한국에서 발달하기 시작...</td>\n",
       "      <td>[농업, 경공업, 중화학 공업, 서비스 업]</td>\n",
       "      <td>중화학 공업</td>\n",
       "    </tr>\n",
       "  </tbody>\n",
       "</table>\n",
       "</div>"
      ],
      "text/plain": [
       "               id paragraph  \\\n",
       "0  KIIP_economy_1             \n",
       "1  KIIP_economy_2             \n",
       "2  KIIP_economy_3             \n",
       "3  KIIP_economy_4             \n",
       "4  KIIP_economy_5             \n",
       "\n",
       "                                            question  \\\n",
       "0  다음은 한국 사회의 경제에 대한 문제이다.\\n한국이 외환위기를 완전히 극복한 년도는...   \n",
       "1  다음은 한국 사회의 경제에 대한 문제이다.\\n1960년 한국의 1인당 국민총소득은 ...   \n",
       "2    다음은 한국 사회의 경제에 대한 문제이다.\\n한국이 외환위기를 겪은 년도는 언제인가?   \n",
       "3         다음은 한국 사회의 경제에 대한 문제이다.\\n한강은 어느 도시를 통과하는가?   \n",
       "4  다음은 한국 사회의 경제에 대한 문제이다.\\n1970년대부터 한국에서 발달하기 시작...   \n",
       "\n",
       "                            choices  answer  \n",
       "0      [1999년, 2000년, 2001년, 2002년]   2001년  \n",
       "1  [79달러, 800달러, 8,000달러, 80,000달러]    79달러  \n",
       "2      [1995년, 1996년, 1997년, 1998년]   1997년  \n",
       "3                  [부산, 대구, 인천, 서울]      서울  \n",
       "4          [농업, 경공업, 중화학 공업, 서비스 업]  중화학 공업  "
      ]
     },
     "execution_count": 11,
     "metadata": {},
     "output_type": "execute_result"
    }
   ],
   "source": [
    "from datasets import load_dataset\n",
    "from typing import Tuple\n",
    "import pandas as pd\n",
    "\n",
    "ds = load_dataset(\"EunsuKim/CLIcK\")\n",
    "df = ds['train'].to_pandas()\n",
    "df.head()"
   ]
  },
  {
   "cell_type": "code",
   "execution_count": 12,
   "metadata": {},
   "outputs": [],
   "source": [
    "def extract_category(id_text: str) -> str:\n",
    "    text_split = id_text.split('_')\n",
    "    return text_split[0]\n"
   ]
  },
  {
   "cell_type": "code",
   "execution_count": 13,
   "metadata": {},
   "outputs": [
    {
     "name": "stdout",
     "output_type": "stream",
     "text": [
      "{'PSAT', 'KHB', 'Kedu', 'PSE', 'KIIP', 'TK', 'CSAT'}\n"
     ]
    }
   ],
   "source": [
    "df['categories'] = df['id'].apply(lambda x: extract_category(x))\n",
    "df['choices'] = df['choices'].apply(lambda x: [str(_) for _ in list(x)])\n",
    "print(set(df['categories']))\n",
    "\n",
    "keys = list(set(df['categories']))"
   ]
  },
  {
   "cell_type": "code",
   "execution_count": 15,
   "metadata": {},
   "outputs": [
    {
     "data": {
      "text/plain": [
       "['1999년', '2000년', '2001년', '2002년']"
      ]
     },
     "execution_count": 15,
     "metadata": {},
     "output_type": "execute_result"
    }
   ],
   "source": [
    "df['choices'].iloc[0]"
   ]
  },
  {
   "cell_type": "code",
   "execution_count": 16,
   "metadata": {},
   "outputs": [],
   "source": [
    "df = df[['paragraph', 'question', 'choices', 'answer', 'categories']]\n",
    "dfs = df.groupby('categories')"
   ]
  },
  {
   "cell_type": "code",
   "execution_count": 17,
   "metadata": {},
   "outputs": [
    {
     "data": {
      "text/html": [
       "<div>\n",
       "<style scoped>\n",
       "    .dataframe tbody tr th:only-of-type {\n",
       "        vertical-align: middle;\n",
       "    }\n",
       "\n",
       "    .dataframe tbody tr th {\n",
       "        vertical-align: top;\n",
       "    }\n",
       "\n",
       "    .dataframe thead th {\n",
       "        text-align: right;\n",
       "    }\n",
       "</style>\n",
       "<table border=\"1\" class=\"dataframe\">\n",
       "  <thead>\n",
       "    <tr style=\"text-align: right;\">\n",
       "      <th></th>\n",
       "      <th>paragraph</th>\n",
       "      <th>question</th>\n",
       "      <th>choices</th>\n",
       "      <th>answer</th>\n",
       "      <th>categories</th>\n",
       "    </tr>\n",
       "  </thead>\n",
       "  <tbody>\n",
       "    <tr>\n",
       "      <th>1690</th>\n",
       "      <td></td>\n",
       "      <td>( )에 들어갈 가장 알맞은 것을 고르십시오.\\n내일 친구와 함께 놀이공원에 ( ).</td>\n",
       "      <td>[가는 편이다, 가는 중이다, 가기로 했다, 간 적이 있다]</td>\n",
       "      <td>가기로 했다</td>\n",
       "      <td>TK</td>\n",
       "    </tr>\n",
       "    <tr>\n",
       "      <th>1691</th>\n",
       "      <td></td>\n",
       "      <td>( )에 들어갈 가장 알맞은 것을 고르십시오.\\n혼자 살다 보니 시간이 ( ) 가족...</td>\n",
       "      <td>[지나거나, 지나도록, 지나거든, 지날수록]</td>\n",
       "      <td>지날수록</td>\n",
       "      <td>TK</td>\n",
       "    </tr>\n",
       "    <tr>\n",
       "      <th>1692</th>\n",
       "      <td></td>\n",
       "      <td>다음 괄호 안 부분과 의미가 비슷한 것을 고르십시오.\\n아침에 늦게 (일어나는 바람...</td>\n",
       "      <td>[일어난 탓에, 일어난 김에, 일어나는 대신, 일어나는 대로]</td>\n",
       "      <td>일어난 탓에</td>\n",
       "      <td>TK</td>\n",
       "    </tr>\n",
       "    <tr>\n",
       "      <th>1693</th>\n",
       "      <td></td>\n",
       "      <td>다음 괄호 안 부분과 의미가 비슷한 것을 고르십시오.\\n경기에서 이기고 지는 것은 ...</td>\n",
       "      <td>[연습할 따름이다, 연습할 모양이다, 연습하기 나름이다, 연습하기 십상이다]</td>\n",
       "      <td>연습하기 나름이다</td>\n",
       "      <td>TK</td>\n",
       "    </tr>\n",
       "    <tr>\n",
       "      <th>1694</th>\n",
       "      <td></td>\n",
       "      <td>(  )에 들어갈 가장 알맞은 것을 고르십시오.\\n해가 뜨는 것을 (  ) 아침 일...</td>\n",
       "      <td>[보아야, 보려고, 보거나, 보는데]</td>\n",
       "      <td>보려고</td>\n",
       "      <td>TK</td>\n",
       "    </tr>\n",
       "    <tr>\n",
       "      <th>...</th>\n",
       "      <td>...</td>\n",
       "      <td>...</td>\n",
       "      <td>...</td>\n",
       "      <td>...</td>\n",
       "      <td>...</td>\n",
       "    </tr>\n",
       "    <tr>\n",
       "      <th>1990</th>\n",
       "      <td>올해 서른두 살인 준은 어렸을 때부터 특출나게 뛰어난 재능이 없다는 점이 큰 불만이...</td>\n",
       "      <td>다음 글의 내용으로 알 수 있는 것을 고르십시오.</td>\n",
       "      <td>[준은 여행지에서 해 뜨는 방향을 한 번에 찾았다., 준의 부모님은 아들과 같은 능...</td>\n",
       "      <td>준은 여행지에서 해 뜨는 방향을 한 번에 찾았다.</td>\n",
       "      <td>TK</td>\n",
       "    </tr>\n",
       "    <tr>\n",
       "      <th>1991</th>\n",
       "      <td>서양 역사에서는 15ㆍ16세기를 ‘위대한 발견의 시대’라고 부른다. 콜럼버스 처럼 ...</td>\n",
       "      <td>( )에 들어갈 말로 가장 알맞은 것을 고르십시오.</td>\n",
       "      <td>[값비싼 물건을 매매했기, 다양한 지도를 수집했기, 미지의 땅을 찾아 떠났기, 탐험...</td>\n",
       "      <td>미지의 땅을 찾아 떠났기</td>\n",
       "      <td>TK</td>\n",
       "    </tr>\n",
       "    <tr>\n",
       "      <th>1992</th>\n",
       "      <td>서양 역사에서는 15ㆍ16세기를 ‘위대한 발견의 시대’라고 부른다. 콜럼버스 처럼 ...</td>\n",
       "      <td>다음 글의 주제로 가장 알맞은 것을 고르십시오.</td>\n",
       "      <td>[콜럼버스는 새로운 대륙을 개척하는 데 기여한 바가 크다., 신대륙 발견은 동방의 ...</td>\n",
       "      <td>유럽인들의 탐험은 항로를 만들어 세계를 연결시켰다는 데 의의가 있다.</td>\n",
       "      <td>TK</td>\n",
       "    </tr>\n",
       "    <tr>\n",
       "      <th>1993</th>\n",
       "      <td>세계는 신에너지, 자동화, 우주여행 등이 주도하는 시대로 급속히 접어들고 있다. 세...</td>\n",
       "      <td>다음 글에 나타난 필자의 태도로 가장 알맞은 것을 고르십시오.</td>\n",
       "      <td>[과학 정책에 대한 정부의 지나친 개입을 경계하고 있다., 과학 기술 발전을 위해서...</td>\n",
       "      <td>과학 정책에 대한 정부의 지나친 개입을 경계하고 있다.</td>\n",
       "      <td>TK</td>\n",
       "    </tr>\n",
       "    <tr>\n",
       "      <th>1994</th>\n",
       "      <td>세계는 신에너지, 자동화, 우주여행 등이 주도하는 시대로 급속히 접어들고 있다. 세...</td>\n",
       "      <td>다음 글의 내용과 같은 것을 고르십시오.</td>\n",
       "      <td>[많은 국가들이 신에너지 개발에 대한 투자를 줄이고 있다., 과학 정책이 빠르게 변...</td>\n",
       "      <td>정부가 우주 산업에 대한 규제를 풀어 성장한 민간 기업이 있다.</td>\n",
       "      <td>TK</td>\n",
       "    </tr>\n",
       "  </tbody>\n",
       "</table>\n",
       "<p>237 rows × 5 columns</p>\n",
       "</div>"
      ],
      "text/plain": [
       "                                              paragraph  \\\n",
       "1690                                                      \n",
       "1691                                                      \n",
       "1692                                                      \n",
       "1693                                                      \n",
       "1694                                                      \n",
       "...                                                 ...   \n",
       "1990  올해 서른두 살인 준은 어렸을 때부터 특출나게 뛰어난 재능이 없다는 점이 큰 불만이...   \n",
       "1991  서양 역사에서는 15ㆍ16세기를 ‘위대한 발견의 시대’라고 부른다. 콜럼버스 처럼 ...   \n",
       "1992  서양 역사에서는 15ㆍ16세기를 ‘위대한 발견의 시대’라고 부른다. 콜럼버스 처럼 ...   \n",
       "1993  세계는 신에너지, 자동화, 우주여행 등이 주도하는 시대로 급속히 접어들고 있다. 세...   \n",
       "1994  세계는 신에너지, 자동화, 우주여행 등이 주도하는 시대로 급속히 접어들고 있다. 세...   \n",
       "\n",
       "                                               question  \\\n",
       "1690    ( )에 들어갈 가장 알맞은 것을 고르십시오.\\n내일 친구와 함께 놀이공원에 ( ).   \n",
       "1691  ( )에 들어갈 가장 알맞은 것을 고르십시오.\\n혼자 살다 보니 시간이 ( ) 가족...   \n",
       "1692  다음 괄호 안 부분과 의미가 비슷한 것을 고르십시오.\\n아침에 늦게 (일어나는 바람...   \n",
       "1693  다음 괄호 안 부분과 의미가 비슷한 것을 고르십시오.\\n경기에서 이기고 지는 것은 ...   \n",
       "1694  (  )에 들어갈 가장 알맞은 것을 고르십시오.\\n해가 뜨는 것을 (  ) 아침 일...   \n",
       "...                                                 ...   \n",
       "1990                        다음 글의 내용으로 알 수 있는 것을 고르십시오.   \n",
       "1991                       ( )에 들어갈 말로 가장 알맞은 것을 고르십시오.   \n",
       "1992                         다음 글의 주제로 가장 알맞은 것을 고르십시오.   \n",
       "1993                 다음 글에 나타난 필자의 태도로 가장 알맞은 것을 고르십시오.   \n",
       "1994                             다음 글의 내용과 같은 것을 고르십시오.   \n",
       "\n",
       "                                                choices  \\\n",
       "1690                  [가는 편이다, 가는 중이다, 가기로 했다, 간 적이 있다]   \n",
       "1691                           [지나거나, 지나도록, 지나거든, 지날수록]   \n",
       "1692                 [일어난 탓에, 일어난 김에, 일어나는 대신, 일어나는 대로]   \n",
       "1693         [연습할 따름이다, 연습할 모양이다, 연습하기 나름이다, 연습하기 십상이다]   \n",
       "1694                               [보아야, 보려고, 보거나, 보는데]   \n",
       "...                                                 ...   \n",
       "1990  [준은 여행지에서 해 뜨는 방향을 한 번에 찾았다., 준의 부모님은 아들과 같은 능...   \n",
       "1991  [값비싼 물건을 매매했기, 다양한 지도를 수집했기, 미지의 땅을 찾아 떠났기, 탐험...   \n",
       "1992  [콜럼버스는 새로운 대륙을 개척하는 데 기여한 바가 크다., 신대륙 발견은 동방의 ...   \n",
       "1993  [과학 정책에 대한 정부의 지나친 개입을 경계하고 있다., 과학 기술 발전을 위해서...   \n",
       "1994  [많은 국가들이 신에너지 개발에 대한 투자를 줄이고 있다., 과학 정책이 빠르게 변...   \n",
       "\n",
       "                                      answer categories  \n",
       "1690                                  가기로 했다         TK  \n",
       "1691                                    지날수록         TK  \n",
       "1692                                  일어난 탓에         TK  \n",
       "1693                               연습하기 나름이다         TK  \n",
       "1694                                     보려고         TK  \n",
       "...                                      ...        ...  \n",
       "1990             준은 여행지에서 해 뜨는 방향을 한 번에 찾았다.         TK  \n",
       "1991                           미지의 땅을 찾아 떠났기         TK  \n",
       "1992  유럽인들의 탐험은 항로를 만들어 세계를 연결시켰다는 데 의의가 있다.         TK  \n",
       "1993          과학 정책에 대한 정부의 지나친 개입을 경계하고 있다.         TK  \n",
       "1994     정부가 우주 산업에 대한 규제를 풀어 성장한 민간 기업이 있다.         TK  \n",
       "\n",
       "[237 rows x 5 columns]"
      ]
     },
     "execution_count": 17,
     "metadata": {},
     "output_type": "execute_result"
    }
   ],
   "source": [
    "dfs.get_group('TK')"
   ]
  },
  {
   "cell_type": "code",
   "execution_count": 18,
   "metadata": {},
   "outputs": [],
   "source": [
    "# save each group to folder with name: category_test.csv\n",
    "folder = \"/home/joeyliang/BenchWeaver/evaluation_data/click/data/test\"\n",
    "import os\n",
    "for key in keys:\n",
    "    group = dfs.get_group(key)\n",
    "    group.to_csv(os.path.join(folder, f\"{key}_test.csv\"), index=False)"
   ]
  },
  {
   "cell_type": "markdown",
   "metadata": {},
   "source": [
    "# HAE_RAE_BENCH 1.0"
   ]
  },
  {
   "cell_type": "code",
   "execution_count": 2,
   "metadata": {},
   "outputs": [
    {
     "data": {
      "text/plain": [
       "['correct_definition_matching',\n",
       " 'csat_geo',\n",
       " 'csat_law',\n",
       " 'csat_socio',\n",
       " 'date_understanding',\n",
       " 'general_knowledge',\n",
       " 'history',\n",
       " 'loan_words',\n",
       " 'lyrics_denoising',\n",
       " 'proverbs_denoising',\n",
       " 'rare_words',\n",
       " 'standard_nomenclature',\n",
       " 'reading_comprehension']"
      ]
     },
     "execution_count": 2,
     "metadata": {},
     "output_type": "execute_result"
    }
   ],
   "source": [
    "from datasets import load_dataset, get_dataset_config_names\n",
    "from typing import Tuple\n",
    "import pandas as pd\n",
    "ds_list = get_dataset_config_names(\"HAERAE-HUB/HAE_RAE_BENCH_1.1\")\n",
    "ds_list\n"
   ]
  },
  {
   "cell_type": "code",
   "execution_count": null,
   "metadata": {},
   "outputs": [
    {
     "name": "stderr",
     "output_type": "stream",
     "text": [
      "Generating test split: 100%|██████████| 439/439 [00:00<00:00, 29396.82 examples/s]\n"
     ]
    },
    {
     "data": {
      "text/plain": [
       "DatasetDict({\n",
       "    test: Dataset({\n",
       "        features: ['query', 'options', 'answer'],\n",
       "        num_rows: 439\n",
       "    })\n",
       "})"
      ]
     },
     "execution_count": 3,
     "metadata": {},
     "output_type": "execute_result"
    }
   ],
   "source": [
    "for task in ds_list:"
   ]
  },
  {
   "cell_type": "code",
   "execution_count": null,
   "metadata": {},
   "outputs": [
    {
     "data": {
      "text/html": [
       "<div>\n",
       "<style scoped>\n",
       "    .dataframe tbody tr th:only-of-type {\n",
       "        vertical-align: middle;\n",
       "    }\n",
       "\n",
       "    .dataframe tbody tr th {\n",
       "        vertical-align: top;\n",
       "    }\n",
       "\n",
       "    .dataframe thead th {\n",
       "        text-align: right;\n",
       "    }\n",
       "</style>\n",
       "<table border=\"1\" class=\"dataframe\">\n",
       "  <thead>\n",
       "    <tr style=\"text-align: right;\">\n",
       "      <th></th>\n",
       "      <th>query</th>\n",
       "      <th>options</th>\n",
       "      <th>answer</th>\n",
       "    </tr>\n",
       "  </thead>\n",
       "  <tbody>\n",
       "    <tr>\n",
       "      <th>0</th>\n",
       "      <td>다음 문장에서 \"가노\"가 사용된 의미로 옳은 것을 고르시요. \\n    \\n### ...</td>\n",
       "      <td>['일본 중부 지방의 중앙부에 있는 현. 제사업, 정밀 기계, 전기 기계 따위의 산...</td>\n",
       "      <td>(D)</td>\n",
       "    </tr>\n",
       "    <tr>\n",
       "      <th>1</th>\n",
       "      <td>다음 문장에서 \"가락지\"가 사용된 의미로 옳은 것을 고르시요. \\n    \\n###...</td>\n",
       "      <td>['장식으로 손가락에 끼는 두 짝의 고리.', '은으로 만든 가락지.', '‘가락지...</td>\n",
       "      <td>(A)</td>\n",
       "    </tr>\n",
       "    <tr>\n",
       "      <th>2</th>\n",
       "      <td>다음 문장에서 \"가마니\"가 사용된 의미로 옳은 것을 고르시요. \\n    \\n###...</td>\n",
       "      <td>['가마니를 짜는 데 쓰는 재래식 기구.', '‘헌 가마니’를 낮잡아 이르는 말.'...</td>\n",
       "      <td>(E)</td>\n",
       "    </tr>\n",
       "    <tr>\n",
       "      <th>3</th>\n",
       "      <td>다음 문장에서 \"가운데\"가 사용된 의미로 옳은 것을 고르시요. \\n    \\n###...</td>\n",
       "      <td>['곤충의 두 번째 흉절. 한 쌍의 가운뎃다리가 있고 유시류(有翅類)에서는 한 쌍의...</td>\n",
       "      <td>(B)</td>\n",
       "    </tr>\n",
       "    <tr>\n",
       "      <th>4</th>\n",
       "      <td>다음 문장에서 \"가해\"가 사용된 의미로 옳은 것을 고르시요. \\n    \\n### ...</td>\n",
       "      <td>['금강경에 대한 해설서. ≪금강경오가해≫ 가운데 야보(冶父)의 송(頌), 종경(宗...</td>\n",
       "      <td>(E)</td>\n",
       "    </tr>\n",
       "    <tr>\n",
       "      <th>...</th>\n",
       "      <td>...</td>\n",
       "      <td>...</td>\n",
       "      <td>...</td>\n",
       "    </tr>\n",
       "    <tr>\n",
       "      <th>434</th>\n",
       "      <td>다음 문장에서 \"황룡\"가 사용된 의미로 옳은 것을 고르시요. \\n    \\n### ...</td>\n",
       "      <td>['사람의 똥과 쌀겨, 그리고 감초 가루 따위를 넣어서 만드는 탕약. 해수(咳嗽)와...</td>\n",
       "      <td>(B)</td>\n",
       "    </tr>\n",
       "    <tr>\n",
       "      <th>435</th>\n",
       "      <td>다음 문장에서 \"황홀\"가 사용된 의미로 옳은 것을 고르시요. \\n    \\n### ...</td>\n",
       "      <td>['매우 황홀하여 헤아리기 어렵다.', '어떤 사물이나 분위기에 혹하여 마음이 달뜬...</td>\n",
       "      <td>(D)</td>\n",
       "    </tr>\n",
       "    <tr>\n",
       "      <th>436</th>\n",
       "      <td>다음 문장에서 \"효유\"가 사용된 의미로 옳은 것을 고르시요. \\n    \\n### ...</td>\n",
       "      <td>['중국 명나라 초기의 학자ㆍ정치가(1357~1402). 자는 희직(希直)ㆍ희고(希...</td>\n",
       "      <td>(D)</td>\n",
       "    </tr>\n",
       "    <tr>\n",
       "      <th>437</th>\n",
       "      <td>다음 문장에서 \"후인\"가 사용된 의미로 옳은 것을 고르시요. \\n    \\n### ...</td>\n",
       "      <td>['남의 일보다 자신의 일을 먼저 성실히 처리함.', '남의 일보다 자신의 일을 먼...</td>\n",
       "      <td>(E)</td>\n",
       "    </tr>\n",
       "    <tr>\n",
       "      <th>438</th>\n",
       "      <td>다음 문장에서 \"흥행\"가 사용된 의미로 옳은 것을 고르시요. \\n    \\n### ...</td>\n",
       "      <td>['문예 작품 따위가 흥행에 적합하도록 만들어지다. 또는 그렇게 만들다.', '영리...</td>\n",
       "      <td>(B)</td>\n",
       "    </tr>\n",
       "  </tbody>\n",
       "</table>\n",
       "<p>439 rows × 3 columns</p>\n",
       "</div>"
      ],
      "text/plain": [
       "                                                 query  \\\n",
       "0    다음 문장에서 \"가노\"가 사용된 의미로 옳은 것을 고르시요. \\n    \\n### ...   \n",
       "1    다음 문장에서 \"가락지\"가 사용된 의미로 옳은 것을 고르시요. \\n    \\n###...   \n",
       "2    다음 문장에서 \"가마니\"가 사용된 의미로 옳은 것을 고르시요. \\n    \\n###...   \n",
       "3    다음 문장에서 \"가운데\"가 사용된 의미로 옳은 것을 고르시요. \\n    \\n###...   \n",
       "4    다음 문장에서 \"가해\"가 사용된 의미로 옳은 것을 고르시요. \\n    \\n### ...   \n",
       "..                                                 ...   \n",
       "434  다음 문장에서 \"황룡\"가 사용된 의미로 옳은 것을 고르시요. \\n    \\n### ...   \n",
       "435  다음 문장에서 \"황홀\"가 사용된 의미로 옳은 것을 고르시요. \\n    \\n### ...   \n",
       "436  다음 문장에서 \"효유\"가 사용된 의미로 옳은 것을 고르시요. \\n    \\n### ...   \n",
       "437  다음 문장에서 \"후인\"가 사용된 의미로 옳은 것을 고르시요. \\n    \\n### ...   \n",
       "438  다음 문장에서 \"흥행\"가 사용된 의미로 옳은 것을 고르시요. \\n    \\n### ...   \n",
       "\n",
       "                                               options answer  \n",
       "0    ['일본 중부 지방의 중앙부에 있는 현. 제사업, 정밀 기계, 전기 기계 따위의 산...    (D)  \n",
       "1    ['장식으로 손가락에 끼는 두 짝의 고리.', '은으로 만든 가락지.', '‘가락지...    (A)  \n",
       "2    ['가마니를 짜는 데 쓰는 재래식 기구.', '‘헌 가마니’를 낮잡아 이르는 말.'...    (E)  \n",
       "3    ['곤충의 두 번째 흉절. 한 쌍의 가운뎃다리가 있고 유시류(有翅類)에서는 한 쌍의...    (B)  \n",
       "4    ['금강경에 대한 해설서. ≪금강경오가해≫ 가운데 야보(冶父)의 송(頌), 종경(宗...    (E)  \n",
       "..                                                 ...    ...  \n",
       "434  ['사람의 똥과 쌀겨, 그리고 감초 가루 따위를 넣어서 만드는 탕약. 해수(咳嗽)와...    (B)  \n",
       "435  ['매우 황홀하여 헤아리기 어렵다.', '어떤 사물이나 분위기에 혹하여 마음이 달뜬...    (D)  \n",
       "436  ['중국 명나라 초기의 학자ㆍ정치가(1357~1402). 자는 희직(希直)ㆍ희고(希...    (D)  \n",
       "437  ['남의 일보다 자신의 일을 먼저 성실히 처리함.', '남의 일보다 자신의 일을 먼...    (E)  \n",
       "438  ['문예 작품 따위가 흥행에 적합하도록 만들어지다. 또는 그렇게 만들다.', '영리...    (B)  \n",
       "\n",
       "[439 rows x 3 columns]"
      ]
     },
     "execution_count": 9,
     "metadata": {},
     "output_type": "execute_result"
    }
   ],
   "source": [
    "import ast\n",
    "df = ds['test'].to_pandas()\n"
   ]
  },
  {
   "cell_type": "code",
   "execution_count": null,
   "metadata": {},
   "outputs": [
    {
     "name": "stdout",
     "output_type": "stream",
     "text": [
      "다음 문장에서 \"가노\"가 사용된 의미로 옳은 것을 고르시요. \n",
      "    \n",
      "### 문장: \n",
      "이미 타계한 지 오래인 그의 조부가 서유하 씨 부친이었던 대지주 서 참봉 댁 가노로 있었다.\n",
      "\n",
      "### 선택지: \n",
      "(A) 일본 중부 지방의 중앙부에 있는 현. 제사업, 정밀 기계, 전기 기계 따위의 산업이 발달하였으며, 쌀 및 고랭지 채소의 산지로 알려져 있다. 사과, 배, 포도 따위의 과일도 많이 난다. 현청 소재지는 나가노, 면적은 1만 3633㎢.\n",
      "(B) 16세기에서 17세기 사이의 제정 러시아의 부호 집안. 16세기 중반 이반 사세(Ivan四世)의 신임을 얻으면서부터 융성하여 광대한 직할령, 제염, 제철 따위의 특권을 부여받고 사병(私兵)ㆍ요새의 소유도 인정받았으며 시베리아의 개척에 공헌하였다.\n",
      "(C) 이탈리아의 무용가ㆍ안무가(1769~1821). 발레를 춤추는 드라마로 끌어올린 혁신적인 안무가였다. 베토벤이 그를 위하여 작곡한 <프로메테의 창조물>의 안무가 유명하다.\n",
      "(D) ‘가내 노비’를 줄여 이르는 말.\n",
      "(E) 일본 나가노현 북부에 있는 시. 인쇄, 식료품, 전기 기기 따위의 공업과 상업이 발달하였다. 교외에서는 사과, 야채 따위의 재배가 활발하다. 현청 소재지이다.\n",
      "\n",
      "### 정답:\n"
     ]
    }
   ],
   "source": [
    "print(df['query'].iloc[0])"
   ]
  },
  {
   "cell_type": "code",
   "execution_count": 10,
   "metadata": {},
   "outputs": [
    {
     "data": {
      "text/plain": [
       "['일본 중부 지방의 중앙부에 있는 현. 제사업, 정밀 기계, 전기 기계 따위의 산업이 발달하였으며, 쌀 및 고랭지 채소의 산지로 알려져 있다. 사과, 배, 포도 따위의 과일도 많이 난다. 현청 소재지는 나가노, 면적은 1만 3633㎢.',\n",
       " '16세기에서 17세기 사이의 제정 러시아의 부호 집안. 16세기 중반 이반 사세(Ivan四世)의 신임을 얻으면서부터 융성하여 광대한 직할령, 제염, 제철 따위의 특권을 부여받고 사병(私兵)ㆍ요새의 소유도 인정받았으며 시베리아의 개척에 공헌하였다.',\n",
       " '이탈리아의 무용가ㆍ안무가(1769~1821). 발레를 춤추는 드라마로 끌어올린 혁신적인 안무가였다. 베토벤이 그를 위하여 작곡한 <프로메테의 창조물>의 안무가 유명하다.',\n",
       " '‘가내 노비’를 줄여 이르는 말.',\n",
       " '일본 나가노현 북부에 있는 시. 인쇄, 식료품, 전기 기기 따위의 공업과 상업이 발달하였다. 교외에서는 사과, 야채 따위의 재배가 활발하다. 현청 소재지이다.']"
      ]
     },
     "execution_count": 10,
     "metadata": {},
     "output_type": "execute_result"
    }
   ],
   "source": [
    "ast.literal_eval(df.options.iloc[0])"
   ]
  }
 ],
 "metadata": {
  "kernelspec": {
   "display_name": "BenchWeaver",
   "language": "python",
   "name": "python3"
  },
  "language_info": {
   "codemirror_mode": {
    "name": "ipython",
    "version": 3
   },
   "file_extension": ".py",
   "mimetype": "text/x-python",
   "name": "python",
   "nbconvert_exporter": "python",
   "pygments_lexer": "ipython3",
   "version": "3.11.11"
  }
 },
 "nbformat": 4,
 "nbformat_minor": 2
}
